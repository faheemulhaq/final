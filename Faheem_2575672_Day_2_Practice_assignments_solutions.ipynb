{
 "cells": [
  {
   "cell_type": "markdown",
   "id": "0cd591b8",
   "metadata": {},
   "source": [
    "# 1. Write a python Function to list even and odd numbers in a list."
   ]
  },
  {
   "cell_type": "code",
   "execution_count": 10,
   "id": "8bc28eac",
   "metadata": {},
   "outputs": [
    {
     "name": "stdout",
     "output_type": "stream",
     "text": [
      "Even numbers: [2, 4, 6, 8]\n",
      "Odd numbers: [1, 3, 5, 9]\n"
     ]
    }
   ],
   "source": [
    "def even_odd(l):\n",
    "    even=[num for num in l if num%2==0]\n",
    "    odd=[num for num in l if num%2!=0]\n",
    "    return even,odd\n",
    "l=[1,2,3,4,5,6,8,9]\n",
    "even,odd=even_odd(l)\n",
    "print(\"Even numbers:\",even)\n",
    "print(\"Odd numbers:\",odd)"
   ]
  },
  {
   "cell_type": "markdown",
   "id": "a9aeb674",
   "metadata": {},
   "source": [
    "# 2. Write and run a Python program that asks the user to enter 8 integers (one at a time), and then prints out how many of those integers were even numbers. For example, if the user entered 19, 6, 9, 20, 13, 7, 6, and 1, then your program should print out 3 since 3 of those numbers were even."
   ]
  },
  {
   "cell_type": "code",
   "execution_count": 16,
   "id": "90113abb",
   "metadata": {},
   "outputs": [
    {
     "name": "stdout",
     "output_type": "stream",
     "text": [
      "Enter the list19 6 9 20 13 7 6 1\n",
      "[6, 20, 6]\n"
     ]
    }
   ],
   "source": [
    "def Even(l):\n",
    "    Even=[num for num in l if num%2==0]\n",
    "    return Even\n",
    "input_numbers=input(\"Enter the list\").split()\n",
    "l = list(map(int,input_numbers))\n",
    "even=Even(l)\n",
    "print(even)"
   ]
  },
  {
   "cell_type": "markdown",
   "id": "46a69682",
   "metadata": {},
   "source": [
    "# 3. Write a Python program where you take any positive integer n, if n is even, divide it by 2 to get n/ 2. If n is odd, multiply it by 3 and add 1 to obtain 3n+ 1. Repeat the process until you reach 1."
   ]
  },
  {
   "cell_type": "code",
   "execution_count": 28,
   "id": "e8ae7df4",
   "metadata": {},
   "outputs": [
    {
     "name": "stdout",
     "output_type": "stream",
     "text": [
      "6\n",
      "[6, 3, 10, 5, 16, 8, 4, 2, 1]\n"
     ]
    }
   ],
   "source": [
    "def Mp(n):\n",
    "    seq=[n]\n",
    "    while n!=1:\n",
    "        if n%2==0:\n",
    "            n=n//2\n",
    "        else:\n",
    "            n=3*n+1\n",
    "        seq.append(n)\n",
    "    return seq\n",
    "      \n",
    "n=int(input())\n",
    "e=Mp(n)\n",
    "print(e)"
   ]
  },
  {
   "cell_type": "markdown",
   "id": "f00e40fa",
   "metadata": {},
   "source": [
    "# 4. Write a Python program to compute the sum of all the multiples of 3 or 5 below 500."
   ]
  },
  {
   "cell_type": "code",
   "execution_count": 34,
   "id": "49ede2ce",
   "metadata": {},
   "outputs": [
    {
     "name": "stdout",
     "output_type": "stream",
     "text": [
      "The sum of all the multiples of 3 or 5 below 500 is =  57918\n"
     ]
    }
   ],
   "source": [
    "sum=0\n",
    "for i in range(500):\n",
    "    if i%3==0 or i%5==0:\n",
    "        \n",
    "        sum+=i\n",
    "print(\"The sum of all the multiples of 3 or 5 below 500 is = \",sum)\n",
    "        "
   ]
  },
  {
   "cell_type": "markdown",
   "id": "c0efa7f8",
   "metadata": {},
   "source": [
    "# 5. To write a Python program to find first 'n' prime numbers from a list of given numbers."
   ]
  },
  {
   "cell_type": "code",
   "execution_count": 38,
   "id": "b447cd9c",
   "metadata": {},
   "outputs": [
    {
     "name": "stdout",
     "output_type": "stream",
     "text": [
      "Enter the value of 'n' to find first 'n' prime numbers: 10\n",
      "The first 10 prime numbers in the list are: [2, 11, 13, 17, 19, 23, 29]\n"
     ]
    }
   ],
   "source": [
    "def is_prime(num):\n",
    "    \"\"\"Check if a number is prime.\"\"\"\n",
    "    if num < 2:\n",
    "        return False\n",
    "    for i in range(2, int(num**0.5) + 1):\n",
    "        if num % i == 0:\n",
    "            return False\n",
    "    return True\n",
    "\n",
    "def find_n_primes(numbers, n):\n",
    "    \"\"\"Find the first 'n' prime numbers in a list.\"\"\"\n",
    "    primes = []\n",
    "    for num in numbers:\n",
    "        if is_prime(num):\n",
    "            primes.append(num)\n",
    "            if len(primes) == n:\n",
    "                break\n",
    "    return primes\n",
    "\n",
    "# Sample list\n",
    "numbers = [2, 4, 6, 8, 10, 11, 13, 15, 17, 19, 21, 23, 25, 29]\n",
    "n = int(input(\"Enter the value of 'n' to find first 'n' prime numbers: \"))\n",
    "\n",
    "result = find_n_primes(numbers, n)\n",
    "print(f\"The first {n} prime numbers in the list are:\", result)\n"
   ]
  },
  {
   "cell_type": "markdown",
   "id": "2b4c3a36",
   "metadata": {},
   "source": [
    "# 6. To write a Python program to compute matrix multiplication."
   ]
  },
  {
   "cell_type": "code",
   "execution_count": 1,
   "id": "2973d16a",
   "metadata": {},
   "outputs": [
    {
     "ename": "ModuleNotFoundError",
     "evalue": "No module named 'numpy'",
     "output_type": "error",
     "traceback": [
      "\u001b[1;31m---------------------------------------------------------------------------\u001b[0m",
      "\u001b[1;31mModuleNotFoundError\u001b[0m                       Traceback (most recent call last)",
      "Cell \u001b[1;32mIn[1], line 1\u001b[0m\n\u001b[1;32m----> 1\u001b[0m \u001b[38;5;28;01mimport\u001b[39;00m \u001b[38;5;21;01mnumpy\u001b[39;00m \u001b[38;5;28;01mas\u001b[39;00m \u001b[38;5;21;01mnp\u001b[39;00m\n\u001b[0;32m      3\u001b[0m \u001b[38;5;66;03m# Define matrices\u001b[39;00m\n\u001b[0;32m      4\u001b[0m A \u001b[38;5;241m=\u001b[39m np\u001b[38;5;241m.\u001b[39marray([\n\u001b[0;32m      5\u001b[0m     [\u001b[38;5;241m1\u001b[39m, \u001b[38;5;241m2\u001b[39m, \u001b[38;5;241m3\u001b[39m],\n\u001b[0;32m      6\u001b[0m     [\u001b[38;5;241m4\u001b[39m, \u001b[38;5;241m5\u001b[39m, \u001b[38;5;241m6\u001b[39m]\n\u001b[0;32m      7\u001b[0m ])\n",
      "\u001b[1;31mModuleNotFoundError\u001b[0m: No module named 'numpy'"
     ]
    }
   ],
   "source": [
    "import numpy as np\n",
    "\n",
    "# Define matrices\n",
    "A = np.array([\n",
    "    [1, 2, 3],\n",
    "    [4, 5, 6]\n",
    "])\n",
    "\n",
    "B = np.array([\n",
    "    [7, 8],\n",
    "    [9, 10],\n",
    "    [11, 12]\n",
    "])\n",
    "\n",
    "# Perform multiplication\n",
    "result = np.dot(A, B)\n",
    "\n",
    "# Print result\n",
    "print(result)\n"
   ]
  },
  {
   "cell_type": "markdown",
   "id": "3a9704eb",
   "metadata": {},
   "source": [
    "# 7. Write a python Function to count the number of vowels in a string."
   ]
  },
  {
   "cell_type": "code",
   "execution_count": 2,
   "id": "84d7a6cf",
   "metadata": {},
   "outputs": [
    {
     "name": "stdout",
     "output_type": "stream",
     "text": [
      "Enter a string: Dileep Kumar\n",
      "The number of vowels in the string is: 5\n"
     ]
    }
   ],
   "source": [
    "def count_vowels(s):\n",
    "    \"\"\"\n",
    "    Count the number of vowels in a string.\n",
    "    \"\"\"\n",
    "    # Define the vowels\n",
    "    vowels = 'AEIOUaeiou'\n",
    "    \n",
    "    # Use a list comprehension to get all the vowels in the string\n",
    "    # and return its length\n",
    "    return len([char for char in s if char in vowels])\n",
    "\n",
    "# Example usage\n",
    "input_string = input(\"Enter a string: \")\n",
    "print(f\"The number of vowels in the string is: {count_vowels(input_string)}\")\n"
   ]
  },
  {
   "cell_type": "markdown",
   "id": "10aeef76",
   "metadata": {},
   "source": [
    "# 8. Write a python Function for finding factorial for the given number using a recursive function."
   ]
  },
  {
   "cell_type": "code",
   "execution_count": 3,
   "id": "a5c2a31b",
   "metadata": {},
   "outputs": [
    {
     "name": "stdout",
     "output_type": "stream",
     "text": [
      "Enter a number: 5\n",
      "The factorial of 5 is: 120\n"
     ]
    }
   ],
   "source": [
    "def factorial(n):\n",
    "    \"\"\"Return the factorial of a given number using recursion.\"\"\"\n",
    "    # Base case\n",
    "    if n <= 1:\n",
    "        return 1\n",
    "    # Recursive case\n",
    "    return n * factorial(n - 1)\n",
    "\n",
    "# Example usage\n",
    "number = int(input(\"Enter a number: \"))\n",
    "print(f\"The factorial of {number} is: {factorial(number)}\")\n"
   ]
  },
  {
   "cell_type": "markdown",
   "id": "5987a729",
   "metadata": {},
   "source": [
    "# 9. Write a python Function for generating the Fibonacci series using the function."
   ]
  },
  {
   "cell_type": "code",
   "execution_count": 4,
   "id": "2e2eab34",
   "metadata": {},
   "outputs": [
    {
     "name": "stdout",
     "output_type": "stream",
     "text": [
      "Enter the length of Fibonacci series you want: 6\n",
      "Fibonacci series of length 6 is: [0, 1, 1, 2, 3, 5]\n"
     ]
    }
   ],
   "source": [
    "def fibonacci(n):\n",
    "    \"\"\"Generate the Fibonacci series up to n numbers.\"\"\"\n",
    "    fib_series = [0, 1]\n",
    "    for _ in range(2, n):\n",
    "        fib_series.append(fib_series[-1] + fib_series[-2])\n",
    "    return fib_series[:n]\n",
    "\n",
    "# Example usage\n",
    "number = int(input(\"Enter the length of Fibonacci series you want: \"))\n",
    "print(f\"Fibonacci series of length {number} is:\", fibonacci(number))\n"
   ]
  },
  {
   "cell_type": "markdown",
   "id": "62062972",
   "metadata": {},
   "source": [
    "# 10. Python program to display the given integer in reverse order using the function without an in-built function."
   ]
  },
  {
   "cell_type": "code",
   "execution_count": 5,
   "id": "754a0f2a",
   "metadata": {},
   "outputs": [
    {
     "name": "stdout",
     "output_type": "stream",
     "text": [
      "Enter an integer: 123456\n",
      "Reversed integer is: 654321\n"
     ]
    }
   ],
   "source": [
    "def reverse_integer(n):\n",
    "    reversed_num = 0\n",
    "    sign = 1 if n >= 0 else -1  # Determine the sign of the number\n",
    "    n = abs(n)\n",
    "    \n",
    "    while n:\n",
    "        reversed_num = reversed_num * 10 + n % 10\n",
    "        n //= 10\n",
    "    \n",
    "    return sign * reversed_num\n",
    "\n",
    "# Example usage\n",
    "number = int(input(\"Enter an integer: \"))\n",
    "print(f\"Reversed integer is: {reverse_integer(number)}\")\n"
   ]
  },
  {
   "cell_type": "markdown",
   "id": "28be658f",
   "metadata": {},
   "source": [
    "# 11. Write a Python Function to display all integers within the range 200-300 whose sum of digits is an even number."
   ]
  },
  {
   "cell_type": "code",
   "execution_count": 7,
   "id": "e35ef15e",
   "metadata": {},
   "outputs": [
    {
     "name": "stdout",
     "output_type": "stream",
     "text": [
      "Sum of numbers in the range 200-300 whose sum of digits is even: 12475\n"
     ]
    }
   ],
   "source": [
    "def sum_of_digits(n):\n",
    "    \"\"\"Return the sum of the digits of n.\"\"\"\n",
    "    return sum(int(digit) for digit in str(n))\n",
    "\n",
    "def sum_of_even_sum_numbers():\n",
    "    \"\"\"Return the sum of numbers in the range 200-300 whose sum of digits is even.\"\"\"\n",
    "    even_sum_numbers = [i for i in range(200, 301) if sum_of_digits(i) % 2 == 0]\n",
    "    return sum(even_sum_numbers)\n",
    "\n",
    "# Example usage\n",
    "print(f\"Sum of numbers in the range 200-300 whose sum of digits is even: {sum_of_even_sum_numbers()}\")\n"
   ]
  },
  {
   "cell_type": "markdown",
   "id": "7797f32f",
   "metadata": {},
   "source": [
    "# 12. Write a python Function to find the number of digits and sum of digits for a given integer.\n"
   ]
  },
  {
   "cell_type": "code",
   "execution_count": 8,
   "id": "24e09bed",
   "metadata": {},
   "outputs": [
    {
     "name": "stdout",
     "output_type": "stream",
     "text": [
      "Enter an integer: 10\n",
      "Number of digits in 10: 2\n",
      "Sum of digits in 10: 1\n"
     ]
    }
   ],
   "source": [
    "def digits_info(n):\n",
    "    \"\"\"Return the number of digits and the sum of digits for a given integer.\"\"\"\n",
    "    str_n = str(abs(n))  # Convert the number to a string, and use the absolute value to handle negative numbers\n",
    "    number_of_digits = len(str_n)\n",
    "    sum_of_digits = sum(int(digit) for digit in str_n)\n",
    "    \n",
    "    return number_of_digits, sum_of_digits\n",
    "\n",
    "# Example usage\n",
    "number = int(input(\"Enter an integer: \"))\n",
    "num_digits, sum_digits = digits_info(number)\n",
    "print(f\"Number of digits in {number}: {num_digits}\")\n",
    "print(f\"Sum of digits in {number}: {sum_digits}\")\n"
   ]
  },
  {
   "cell_type": "markdown",
   "id": "d014a197",
   "metadata": {},
   "source": [
    "# 13. Write functions called is sorted that takes a list as a parameter and returns True if the list is sorted in ascending order and False otherwise and has duplicates that takes a list and returns True if there is any element that appears more than once. It should not modify the original list."
   ]
  },
  {
   "cell_type": "code",
   "execution_count": 9,
   "id": "c313c857",
   "metadata": {},
   "outputs": [
    {
     "name": "stdout",
     "output_type": "stream",
     "text": [
      "Enter a list of numbers separated by spaces: 20\n",
      "Is the list sorted? True\n",
      "Does the list have duplicates? False\n"
     ]
    }
   ],
   "source": [
    "def is_sorted(lst):\n",
    "    \"\"\"Return True if the list is sorted in ascending order, False otherwise.\"\"\"\n",
    "    return all(lst[i] <= lst[i + 1] for i in range(len(lst) - 1))\n",
    "\n",
    "def has_duplicates(lst):\n",
    "    \"\"\"Return True if the list has any duplicates, False otherwise.\"\"\"\n",
    "    seen = set()\n",
    "    for item in lst:\n",
    "        if item in seen:\n",
    "            return True\n",
    "        seen.add(item)\n",
    "    return False\n",
    "\n",
    "# Example usage\n",
    "lst = [int(x) for x in input(\"Enter a list of numbers separated by spaces: \").split()]\n",
    "\n",
    "print(f\"Is the list sorted? {is_sorted(lst)}\")\n",
    "print(f\"Does the list have duplicates? {has_duplicates(lst)}\")\n"
   ]
  },
  {
   "cell_type": "markdown",
   "id": "2cf86f0f",
   "metadata": {},
   "source": [
    "# 14. Write functions called nested_sum that takes a list of integers and adds up the elements from all the nested lists and cumsum that takes a list of numbers and returns the cumulative sum; that is, a new list where the \" element is the sum of the first i + 1 elements from the original list."
   ]
  },
  {
   "cell_type": "code",
   "execution_count": 10,
   "id": "ba42fff4",
   "metadata": {},
   "outputs": [
    {
     "name": "stdout",
     "output_type": "stream",
     "text": [
      "Sum of all numbers in the nested list: 28\n",
      "Cumulative sum of the numbers list: [1, 3, 6, 10, 15]\n"
     ]
    }
   ],
   "source": [
    "def nested_sum(lst):\n",
    "    \"\"\"Return the total sum of all numbers in a possibly nested list.\"\"\"\n",
    "    total = 0\n",
    "    for item in lst:\n",
    "        if isinstance(item, list):\n",
    "            total += nested_sum(item)\n",
    "        else:\n",
    "            total += item\n",
    "    return total\n",
    "\n",
    "def cumsum(lst):\n",
    "    \"\"\"Return a list that represents the cumulative sum of numbers in the original list.\"\"\"\n",
    "    result = []\n",
    "    current_sum = 0\n",
    "    for num in lst:\n",
    "        current_sum += num\n",
    "        result.append(current_sum)\n",
    "    return result\n",
    "\n",
    "# Example usage\n",
    "nested_list = [1, 2, [3, 4, [5, 6]], 7]\n",
    "print(f\"Sum of all numbers in the nested list: {nested_sum(nested_list)}\")\n",
    "\n",
    "numbers = [1, 2, 3, 4, 5]\n",
    "print(f\"Cumulative sum of the numbers list: {cumsum(numbers)}\")\n"
   ]
  },
  {
   "cell_type": "code",
   "execution_count": null,
   "id": "adadc31f",
   "metadata": {},
   "outputs": [],
   "source": []
  }
 ],
 "metadata": {
  "kernelspec": {
   "display_name": "Python 3 (ipykernel)",
   "language": "python",
   "name": "python3"
  },
  "language_info": {
   "codemirror_mode": {
    "name": "ipython",
    "version": 3
   },
   "file_extension": ".py",
   "mimetype": "text/x-python",
   "name": "python",
   "nbconvert_exporter": "python",
   "pygments_lexer": "ipython3",
   "version": "3.8.17"
  }
 },
 "nbformat": 4,
 "nbformat_minor": 5
}
