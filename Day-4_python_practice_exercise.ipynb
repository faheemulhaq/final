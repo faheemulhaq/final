{
 "cells": [
  {
   "cell_type": "markdown",
   "id": "30a99451",
   "metadata": {},
   "source": [
    "# Write a python program with Exception handling to input marks for five subjects Physics, Chemistry, Biology, Mathematics, and Computer. Calculate the percentage and grade according\n",
    "to the following:\n",
    "i) Percentage >= 90%: Grade A\n",
    "ii) Percentage >= 80%: Grade B\n",
    "   Percentage >= 70%: Grade C\n",
    "iv)\n",
    "Percentage >= 60%: Grade D\n",
    "v) Percentage >= 40%: Grade E\n",
    "vi)\n",
    "Percentage < 40%: Grade F"
   ]
  },
  {
   "cell_type": "code",
   "execution_count": 8,
   "id": "1f91f836",
   "metadata": {},
   "outputs": [
    {
     "name": "stdout",
     "output_type": "stream",
     "text": [
      "Enter Physics marks: 88\n",
      "Enter Chemistry marks: 90\n",
      "Enter Biology marks: 98\n",
      "Enter Mathematics marks: 99\n",
      "Enter Computer marks: 99\n",
      "Total Marks: 474.0\n",
      "Percentage: 94.80%\n",
      "Grade: Grade A\n"
     ]
    }
   ],
   "source": [
    "try:\n",
    "    physics = float(input(\"Enter Physics marks: \"))\n",
    "    chemistry = float(input(\"Enter Chemistry marks: \"))\n",
    "    biology = float(input(\"Enter Biology marks: \"))\n",
    "    mathematics = float(input(\"Enter Mathematics marks: \"))\n",
    "    computer = float(input(\"Enter Computer marks: \"))\n",
    "\n",
    "    total_marks = physics + chemistry + biology + mathematics + computer\n",
    "    percentage = (total_marks / 500) * 100\n",
    "\n",
    "    # Assign grades based on percentage\n",
    "    if percentage > 90:\n",
    "        grade = \"Grade A\"\n",
    "    elif percentage > 80:\n",
    "        grade = \"Grade B\"\n",
    "    elif percentage >= 70:\n",
    "        grade = \"Grade C\"\n",
    "    elif percentage > 60:\n",
    "        grade = \"Grade D\"\n",
    "    elif percentage >= 40:\n",
    "        grade = \"Grade E\"\n",
    "    else:\n",
    "        grade = \"Grade F\"\n",
    "\n",
    "    # Display the result\n",
    "    print(f\"Total Marks: {total_marks}\")\n",
    "    print(f\"Percentage: {percentage:.2f}%\")\n",
    "    print(f\"Grade: {grade}\")\n",
    "\n",
    "except ValueError:\n",
    "    print(\"Invalid input. Please enter numeric marks for each subject.\")\n",
    "except Exception as e:\n",
    "    print(f\"An error occurred: {str(e)}\")\n"
   ]
  },
  {
   "cell_type": "code",
   "execution_count": 37,
   "id": "abd62424",
   "metadata": {},
   "outputs": [
    {
     "name": "stdout",
     "output_type": "stream",
     "text": [
      "Enter the number of electricity units consumed: 777\n",
      "Total Electricity Bill: Rs. 1212.60\n"
     ]
    }
   ],
   "source": [
    "try:\n",
    "    # Input the electricity unit charges\n",
    "    units = float(input(\"Enter the number of electricity units consumed: \"))\n",
    "\n",
    "    # Initialize variables for bill calculation\n",
    "    total_bill = 0\n",
    "\n",
    "    # Calculate the bill based on the given conditions\n",
    "    if units <= 50:\n",
    "        total_bill = units * 0.50\n",
    "    elif units <= 150:\n",
    "        total_bill = 50 * 0.50 + (units - 50) * 0.75\n",
    "    elif units <= 250:\n",
    "        total_bill = 50 * 0.50 + 100 * 0.75 + (units - 150) * 1.20\n",
    "    else:\n",
    "        total_bill = 50 * 0.50 + 100 * 0.75 + 100 * 1.20 + (units - 250) * 1.50\n",
    "\n",
    "    # Apply the additional surcharge\n",
    "    total_bill += 0.20 * total_bill\n",
    "\n",
    "    # Display the total electricity bill\n",
    "    print(f\"Total Electricity Bill: Rs. {total_bill:.2f}\")\n",
    "\n",
    "except ValueError:\n",
    "    print(\"Invalid input. Please enter a numeric value for electricity units.\")\n",
    "except Exception as e:\n",
    "    print(f\"An error occurred: {str(e)}\")"
   ]
  },
  {
   "cell_type": "markdown",
   "id": "efc3e8e4",
   "metadata": {},
   "source": [
    "# Write a python program with Exception handling to input the week number and print the weekday."
   ]
  },
  {
   "cell_type": "code",
   "execution_count": 41,
   "id": "3c18643a",
   "metadata": {},
   "outputs": [
    {
     "name": "stdout",
     "output_type": "stream",
     "text": [
      "Enter the week number (1-7): 9\n",
      "Invalid week number. Please enter a number between 1 and 7.\n"
     ]
    }
   ],
   "source": [
    "try:\n",
    "    \n",
    "    week_number = int(input(\"Enter the week number (1-7): \"))\n",
    "\n",
    "    \n",
    "    weekdays = [\"Monday\", \"Tuesday\", \"Wednesday\", \"Thursday\", \"Friday\", \"Saturday\", \"Sunday\"]\n",
    "\n",
    "    \n",
    "    if 1 <= week_number <= 7:\n",
    "        # Print the corresponding weekday\n",
    "        print(f\"Weekday for week {week_number} is {weekdays[week_number - 1]}.\")\n",
    "    else:\n",
    "        print(\"Invalid week number. Please enter a number between 1 and 7.\")\n",
    "\n",
    "except ValueError:\n",
    "    print(\"Invalid input. Please enter a numeric value for the week number.\")\n",
    "except Exception as e:\n",
    "    print(f\"An error occurred: {str(e)}\")\n"
   ]
  },
  {
   "cell_type": "code",
   "execution_count": 42,
   "id": "d123fb5c",
   "metadata": {},
   "outputs": [],
   "source": [
    "\n",
    "with open(\"apple.txt\", \"w\") as file:\n",
    "    file.write(\"This is a sample text document for word count testing. Testing word count.\")\n"
   ]
  },
  {
   "cell_type": "code",
   "execution_count": 47,
   "id": "eb8b4376",
   "metadata": {},
   "outputs": [
    {
     "name": "stdout",
     "output_type": "stream",
     "text": [
      "this: 1\n",
      "is: 1\n",
      "a: 1\n",
      "sample: 1\n",
      "text: 1\n",
      "document: 1\n",
      "for: 1\n",
      "word: 2\n",
      "count: 1\n",
      "testing.: 1\n",
      "testing: 1\n",
      "count.: 1\n"
     ]
    }
   ],
   "source": [
    "\n",
    "def count_words(filename):\n",
    "    word_count = {}\n",
    "    \n",
    "    with open(filename, \"r\") as file:\n",
    "        text = file.read()\n",
    "        words = text.split()\n",
    "        \n",
    "        for word in words:\n",
    "            word = word.lower()  # Convert to lowercase to avoid case sensitivity\n",
    "            if word in word_count:\n",
    "                word_count[word] += 1\n",
    "            else:\n",
    "                word_count[word] = 1\n",
    "                \n",
    "    return word_count\n",
    "\n",
    "if __name__ == \"__main__\":\n",
    "    filename = \"apple.txt\"\n",
    "    word_count = count_words(filename)\n",
    "    for word, count in word_count.items():\n",
    "        print(f\"{word}: {count}\")\n"
   ]
  },
  {
   "cell_type": "code",
   "execution_count": null,
   "id": "e7411837",
   "metadata": {},
   "outputs": [],
   "source": []
  },
  {
   "cell_type": "code",
   "execution_count": 51,
   "id": "ec315a2f",
   "metadata": {},
   "outputs": [
    {
     "name": "stdout",
     "output_type": "stream",
     "text": [
      "Most frequent words in the file:\n",
      "word: 2\n",
      "this: 1\n",
      "is: 1\n",
      "a: 1\n",
      "sample: 1\n",
      "text: 1\n",
      "document: 1\n",
      "for: 1\n",
      "count: 1\n",
      "testing.: 1\n",
      "testing: 1\n",
      "count.: 1\n"
     ]
    }
   ],
   "source": [
    "\n",
    "   def most_frequent_words(filename):\n",
    "    word_count = {}\n",
    "    \n",
    "    # Open the text file in read mode\n",
    "    with open(filename, \"r\") as file:\n",
    "        # Read the file line by line\n",
    "        for line in file:\n",
    "            # Make all letters lowercase and split the words\n",
    "            words = line.lower().split()\n",
    "            \n",
    "            # Count the words\n",
    "            for word in words:\n",
    "                if word in word_count:\n",
    "                    word_count[word] += 1\n",
    "                else:\n",
    "                    word_count[word] = 1\n",
    "\n",
    "    # Sort the words by their frequency in descending order\n",
    "    sorted_word_count = sorted(word_count.items(), key=lambda x: x[1], reverse=True)\n",
    "    \n",
    "    return sorted_word_count\n",
    "\n",
    "if __name__ == \"__main__\":\n",
    "    filename = \"apple.txt\"  # Replace with the path to your text file\n",
    "    frequent_words = most_frequent_words(filename)\n",
    "    \n",
    "    # Print the most frequent words\n",
    "    print(\"Most frequent words in the file:\")\n",
    "    for word, count in frequent_words:\n",
    "        print(f\"{word}: {count}\")\n"
   ]
  },
  {
   "cell_type": "code",
   "execution_count": 30,
   "id": "9661ce1b",
   "metadata": {},
   "outputs": [
    {
     "ename": "NameError",
     "evalue": "name 'befor' is not defined",
     "output_type": "error",
     "traceback": [
      "\u001b[1;31m---------------------------------------------------------------------------\u001b[0m",
      "\u001b[1;31mNameError\u001b[0m                                 Traceback (most recent call last)",
      "Cell \u001b[1;32mIn[30], line 39\u001b[0m\n\u001b[0;32m     36\u001b[0m     input_file_path \u001b[38;5;241m=\u001b[39m sys\u001b[38;5;241m.\u001b[39margv[\u001b[38;5;241m1\u001b[39m]\n\u001b[0;32m     37\u001b[0m     output_file_path \u001b[38;5;241m=\u001b[39m sys\u001b[38;5;241m.\u001b[39margv[\u001b[38;5;241m1\u001b[39m]\n\u001b[1;32m---> 39\u001b[0m process_files(\u001b[43mbefor\u001b[49m,after)\n",
      "\u001b[1;31mNameError\u001b[0m: name 'befor' is not defined"
     ]
    }
   ],
   "source": [
    "import sys\n",
    "\n",
    "def process_files(input_file_path, output_file_path):\n",
    "    try:\n",
    "        # Check if both arguments are provided\n",
    "        if not input_file_path or not output_file_path:\n",
    "            raise ValueError(\"Both input and output file paths are required.\")\n",
    "\n",
    "        # Check if the input file exists\n",
    "        with open(input_file_path.txt, 'r') as input_file:\n",
    "            # Read the contents of the input file and process it as needed\n",
    "            # For demonstration, we will simply copy the contents to the output file\n",
    "            data = input_file.read()\n",
    "\n",
    "        # Write the processed data to the output file\n",
    "        with open(output_file_path.txt, 'w') as output_file:\n",
    "            output_file.write(data)\n",
    "\n",
    "        print(\"File processing completed successfully.\")\n",
    "\n",
    "    except FileNotFoundError:\n",
    "        print(f\"Input file '{input_file_path.txt}' not found.\")\n",
    "        sys.exit(1)\n",
    "    except PermissionError:\n",
    "        print(f\"Permission denied when writing to '{output_file_path.txt}'.\")\n",
    "        sys.exit(1)\n",
    "    except Exception as e:\n",
    "        print(f\"An error occurred: {e}\")\n",
    "        sys.exit(1)\n",
    "\n",
    "if __name__ == \"__main__\":\n",
    "    if len(sys.argv) != 3:\n",
    "        print(\"Usage: python program.py <input_file_path> <output_file_path>\")\n",
    "        sys.exit(1)\n",
    "\n",
    "    input_file_path = sys.argv[1]\n",
    "    output_file_path = sys.argv[1]\n",
    "    \n",
    "process_files(befor,after)"
   ]
  },
  {
   "cell_type": "code",
   "execution_count": null,
   "id": "05d602c4",
   "metadata": {},
   "outputs": [],
   "source": []
  },
  {
   "cell_type": "code",
   "execution_count": null,
   "id": "d2a739f3",
   "metadata": {},
   "outputs": [],
   "source": []
  },
  {
   "cell_type": "code",
   "execution_count": null,
   "id": "ad26f41c",
   "metadata": {},
   "outputs": [],
   "source": []
  }
 ],
 "metadata": {
  "kernelspec": {
   "display_name": "Python 3 (ipykernel)",
   "language": "python",
   "name": "python3"
  },
  "language_info": {
   "codemirror_mode": {
    "name": "ipython",
    "version": 3
   },
   "file_extension": ".py",
   "mimetype": "text/x-python",
   "name": "python",
   "nbconvert_exporter": "python",
   "pygments_lexer": "ipython3",
   "version": "3.11.5"
  }
 },
 "nbformat": 4,
 "nbformat_minor": 5
}
