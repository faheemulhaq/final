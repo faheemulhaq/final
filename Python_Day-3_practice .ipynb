{
 "cells": [
  {
   "cell_type": "code",
   "execution_count": 1,
   "id": "a9859db2",
   "metadata": {},
   "outputs": [
    {
     "name": "stdout",
     "output_type": "stream",
     "text": [
      "CSV file 'sample.csv' created successfully.\n"
     ]
    }
   ],
   "source": [
    "#createing a csv file\n",
    "\n",
    "import csv\n",
    "\n",
    "# Sample data\n",
    "data = [\n",
    "    [\"Name\", \"Age\", \"City\"],\n",
    "    [\"Alice\", 30, \"New York\"],\n",
    "    [\"Bob\", 25, \"Los Angeles\"],\n",
    "    [\"Charlie\", 35, \"Chicago\"],\n",
    "]\n",
    "\n",
    "# Specify the file name\n",
    "file_name = \"sample.csv\"\n",
    "\n",
    "# Open the CSV file in write mode\n",
    "with open(file_name, mode=\"w\", newline=\"\") as file:\n",
    "    # Create a CSV writer object\n",
    "    writer = csv.writer(file)\n",
    "    \n",
    "    # Write the data to the CSV file\n",
    "    writer.writerows(data)\n",
    "\n",
    "print(f\"CSV file '{file_name}' created successfully.\")\n"
   ]
  },
  {
   "cell_type": "code",
   "execution_count": 2,
   "id": "2cb2083c",
   "metadata": {},
   "outputs": [
    {
     "name": "stdout",
     "output_type": "stream",
     "text": [
      "CSV file \"<_io.TextIOWrapper name='sample.csv' mode='r' encoding='cp1252'>\" converted to JSON file \"<_io.TextIOWrapper name='sample.json' mode='w' encoding='cp1252'>\" successfully.\n"
     ]
    }
   ],
   "source": [
    "import csv\n",
    "import json\n",
    "\n",
    "# Specify the CSV file name and the JSON file name\n",
    "csv_file = 'sample.csv'\n",
    "json_file = 'sample.json'\n",
    "\n",
    "# Read data from the CSV file\n",
    "csv_data = []\n",
    "with open(csv_file, mode='r') as csv_file:\n",
    "    csv_reader = csv.DictReader(csv_file)\n",
    "    for row in csv_reader:\n",
    "        csv_data.append(row)\n",
    "\n",
    "# Write the data to a JSON file\n",
    "with open(json_file, mode='w') as json_file:\n",
    "    json.dump(csv_data, json_file, indent=4)\n",
    "\n",
    "print(f'CSV file \"{csv_file}\" converted to JSON file \"{json_file}\" successfully.')\n"
   ]
  },
  {
   "cell_type": "code",
   "execution_count": 7,
   "id": "6892c707",
   "metadata": {},
   "outputs": [
    {
     "name": "stdout",
     "output_type": "stream",
     "text": [
      "csv file 'sample2.csv' create successfully.\n"
     ]
    }
   ],
   "source": [
    "#createing an other csv file for the the recape\n",
    "\n",
    "import csv\n",
    "\n",
    "data2 =[\n",
    "    [\"Name\", \"Age\", \"City\"],\n",
    "    [\"Alice\", 30, \"New York\"],\n",
    "    [ \"faheem\",23,\"hyderabad\"],\n",
    "    [\"Bob\", 25, \"Los Angeles\"],\n",
    "    [\"Charlie\", 35, \"Chicago\"],\n",
    "]\n",
    "    \n",
    "file_name = \"sample2.csv\"\n",
    "    \n",
    "with open(file_name,mode =\"w\", newline=\"\") as file:\n",
    "    writer = csv.writer(file)\n",
    "    \n",
    "    writer.writerows(data)\n",
    "print(f\"csv file '{file_name}' create successfully.\")\n"
   ]
  },
  {
   "cell_type": "code",
   "execution_count": 16,
   "id": "c4667a39",
   "metadata": {},
   "outputs": [
    {
     "name": "stdout",
     "output_type": "stream",
     "text": [
      "hello\n"
     ]
    }
   ],
   "source": [
    "print(\"hello\")"
   ]
  },
  {
   "cell_type": "code",
   "execution_count": 21,
   "id": "932b08f7",
   "metadata": {},
   "outputs": [
    {
     "name": "stdout",
     "output_type": "stream",
     "text": [
      "Error: 'source.txt' not found.\n"
     ]
    }
   ],
   "source": [
    "# Write a python function that copies a file reading and writing up to 50 characters at a time\n",
    "def copy_file(src_file, dest_file):\n",
    "    try:\n",
    "        with open(src_file, 'rb') as source:\n",
    "            with open(dest_file, 'wb') as destination:\n",
    "                while True:\n",
    "                    # Read up to 50 characters from the source file\n",
    "                    chunk = source.read(50)\n",
    "                    if not chunk:\n",
    "                        break  # Reached the end of the file, exit the loop\n",
    "                    # Write the chunk to the destination file\n",
    "                    destination.write(chunk)\n",
    "        print(f\"File '{src_file}' successfully copied to '{dest_file}'\")\n",
    "    except FileNotFoundError:\n",
    "        print(f\"Error: '{src_file}' not found.\")\n",
    "    except Exception as e:\n",
    "        print(f\"An error occurred: {str(e)}\")\n",
    "\n",
    "# Example usage:\n",
    "source_file = 'source.txt'  # Replace with the name of your source file\n",
    "destination_file = 'destination.txt'  # Replace with the name of your destination file\n",
    "\n",
    "copy_file(source_file, destination_file)\n"
   ]
  },
  {
   "cell_type": "code",
   "execution_count": 22,
   "id": "b9a754af",
   "metadata": {},
   "outputs": [
    {
     "name": "stdout",
     "output_type": "stream",
     "text": [
      "Error: 'sample.txt' not found.\n"
     ]
    }
   ],
   "source": [
    "# Print all numbers present in the text file and print the number of blank spaces in that file\n",
    "import re\n",
    "\n",
    "def extract_numbers_and_count_spaces(file_path):\n",
    "    try:\n",
    "        with open(file_path, 'r') as file:\n",
    "            content = file.read()\n",
    "            \n",
    "            # Extract and print all numbers using regular expressions\n",
    "            numbers = re.findall(r'\\d+', content)\n",
    "            if numbers:\n",
    "                print(\"Numbers found in the file:\", ', '.join(numbers))\n",
    "            else:\n",
    "                print(\"No numbers found in the file.\")\n",
    "            \n",
    "            # Count and print the number of blank spaces\n",
    "            spaces_count = content.count(' ')\n",
    "            print(\"Number of blank spaces in the file:\", spaces_count)\n",
    "    \n",
    "    except FileNotFoundError:\n",
    "        print(f\"Error: '{file_path}' not found.\")\n",
    "    except Exception as e:\n",
    "        print(f\"An error occurred: {str(e)}\")\n",
    "\n",
    "# Example usage:\n",
    "file_path = 'sample.txt'  # Replace with the path to your text file\n",
    "extract_numbers_and_count_spaces(file_path)\n"
   ]
  },
  {
   "cell_type": "markdown",
   "id": "862d490c",
   "metadata": {},
   "source": [
    "# Write a function called sed that takes as arguments a pattern string, a replacement string, and two filenames; it should read the first file and write the contents into the second file (creating it if necessary). If the pattern string appears anywhere in the file, it should be replaced with the replacement string. If an error occurs while opening, reading, writing, or closing files, your program should catch the exception, print an error message, and exit"
   ]
  },
  {
   "cell_type": "code",
   "execution_count": 26,
   "id": "ec8d4dc3",
   "metadata": {},
   "outputs": [
    {
     "name": "stdout",
     "output_type": "stream",
     "text": [
      "File 'Finalstep.txt' processed and saved to 'Finalstep2.txt'.\n"
     ]
    }
   ],
   "source": [
    "def sed(pattern, replacement, source_file, destination_file):\n",
    "    try:\n",
    "        with open(source_file, 'r') as source:\n",
    "            content = source.read()\n",
    "        \n",
    "        modified_content = content.replace(pattern, replacement)\n",
    "        \n",
    "        with open(destination_file, 'w') as destination:\n",
    "            destination.write(modified_content)\n",
    "        \n",
    "        print(f\"File '{source_file}' processed and saved to '{destination_file}'.\")\n",
    "    \n",
    "    except FileNotFoundError:\n",
    "        print(f\"Error: '{source_file}' not found.\")\n",
    "    except Exception as e:\n",
    "        print(f\"An error occurred: {str(e)}\")\n",
    "\n",
    "# Example usage:\n",
    "pattern = 'old_string'  # Replace with the pattern you want to search for\n",
    "replacement = 'new_string'  # Replace with the replacement string\n",
    "source_file = 'input.txt'  # Replace with the name of your source file\n",
    "destination_file = 'output.txt'  # Replace with the name of your destination file\n",
    "\n",
    "sed('Welcome',\"Mphasis\",\"Finalstep.txt\",\"Finalstep2.txt\")"
   ]
  },
  {
   "cell_type": "markdown",
   "id": "5f18b078",
   "metadata": {},
   "source": [
    "# Log File Analysis: You have a log file containing records of user activities on a website. Each line in the file represents a log entry with details like timestamp, user ID, and action performed. Your task is to analyze this log fila. Write Python code to read the log file and extract specific information, such as the number of unique users or the most common action.b. How would you handle large log files efficiently without loading the entire file into memory?"
   ]
  },
  {
   "cell_type": "code",
   "execution_count": 29,
   "id": "a9b7bf5c",
   "metadata": {},
   "outputs": [],
   "source": [
    "from collections import defaultdict\n",
    "from collections import Counter\n",
    "\n",
    "def analyze_log_file(log_file_path):\n",
    "    try:\n",
    "        with open(log_file_path, 'r') as file:\n",
    "            user_actions = defaultdict(list)\n",
    "\n",
    "            for line in file:\n",
    "                parts = line.strip().split(',')\n",
    "                if len(parts) == 3:\n",
    "                    timestamp, user_id, action = parts\n",
    "                    user_actions[user_id].append(action)\n",
    "\n",
    "            # Calculate the number of unique users\n",
    "            unique_users_count = len(user_actions)\n",
    "\n",
    "            # Find the most common action\n",
    "            all_actions = [action for actions in user_actions.values() for action in actions]\n",
    "            most_common_action = Counter(all_actions).most_common(1)\n",
    "\n",
    "            print(f\"Number of unique users: {unique_users_count}\")\n",
    "            print(f\"Most common action: {most_common_action[0][0]} ({most_common_action[0][1]} times)\")\n",
    "\n",
    "    except FileNotFoundError:\n",
    "        print(f\"Error: '{log_file_path}' not found.\")\n",
    "    except Exception as e:\n",
    "        print(f\"An error occurred: {str(e)}\")\n",
    "        \n",
    "        long_file_path = 'logfile.txt'\n",
    "        analyze_log_file(log_file_path)"
   ]
  },
  {
   "cell_type": "code",
   "execution_count": 32,
   "id": "ac8fbecc",
   "metadata": {},
   "outputs": [
    {
     "name": "stdout",
     "output_type": "stream",
     "text": [
      "Text 'old_text' replaced with 'new_text' in 'finalstep.txt'\n"
     ]
    }
   ],
   "source": [
    "#Text File Search and Replace: You have a text file with a large amount of text, and youwant to search for specific words or phrases and replace them with new content.a. Write Python code to search for and replace text within a text file. b. How would you handle cases where you need to perform multiple replacements ina single pass?\n",
    "# a.\n",
    "def search_and_replace(file_path, search_str, replace_str):\n",
    "    try:\n",
    "        with open(file_path, 'r') as file:\n",
    "            content = file.read()\n",
    "\n",
    "        # Perform the search and replace\n",
    "        modified_content = content.replace(search_str, replace_str)\n",
    "\n",
    "        with open(file_path, 'w') as file:\n",
    "            file.write(modified_content)\n",
    "\n",
    "        print(f\"Text '{search_str}' replaced with '{replace_str}' in '{file_path}'\")\n",
    "\n",
    "    except FileNotFoundError:\n",
    "        print(f\"Error: '{file_path}' not found.\")\n",
    "    except Exception as e:\n",
    "        print(f\"An error occurred: {str(e)}\")\n",
    "\n",
    "# Example usage:\n",
    "file_path = 'finalstep.txt'  # Replace with the path to your text file\n",
    "search_str = 'old_text'   # Replace with the text you want to search for\n",
    "replace_str = 'new_text'  # Replace with the text you want to replace with\n",
    "\n",
    "search_and_replace(file_path, search_str, replace_str)\n",
    "\n"
   ]
  },
  {
   "cell_type": "code",
   "execution_count": 34,
   "id": "a1cda010",
   "metadata": {},
   "outputs": [
    {
     "name": "stdout",
     "output_type": "stream",
     "text": [
      "Multiple replacements completed in 'Finalstep.txt'\n"
     ]
    }
   ],
   "source": [
    "# B.\n",
    "def multiple_search_and_replace(file_path, search_replace_pairs):\n",
    "    try:\n",
    "        with open(file_path, 'r') as file:\n",
    "            content = file.read()\n",
    "\n",
    "        # Perform multiple search and replace operations\n",
    "        for search_str, replace_str in search_replace_pairs:\n",
    "            content = content.replace(search_str, replace_str)\n",
    "\n",
    "        with open(file_path, 'w') as file:\n",
    "            file.write(content)\n",
    "\n",
    "        print(f\"Multiple replacements completed in '{file_path}'\")\n",
    "\n",
    "    except FileNotFoundError:\n",
    "        print(f\"Error: '{file_path}' not found.\")\n",
    "    except Exception as e:\n",
    "        print(f\"An error occurred: {str(e)}\")\n",
    "\n",
    "# Example usage:\n",
    "file_path = 'Finalstep.txt'  # Replace with the path to your text file\n",
    "search_replace_pairs = [('old_text1', 'new_text1'), ('old_text2', 'new_text2')]\n",
    "\n",
    "multiple_search_and_replace(file_path, search_replace_pairs)\n"
   ]
  },
  {
   "cell_type": "code",
   "execution_count": 35,
   "id": "9aec78d6",
   "metadata": {},
   "outputs": [
    {
     "name": "stdout",
     "output_type": "stream",
     "text": [
      "Enter the path of an input text file (or 'done' to finish): Finalstep.txt\n",
      "Enter the path of an input text file (or 'done' to finish): Finalstep2.txt\n",
      "Enter the path of an input text file (or 'done' to finish): done\n",
      "Enter the path of the output text file: Finalstep2.txt\n",
      "Concatenated 2 files into 'Finalstep2.txt'\n"
     ]
    }
   ],
   "source": [
    "#Write a Python script that concatenates the contents of multiple text files into a single output file. Allow the user to specify the input files and the output file.\n",
    "\n",
    "def concatenate_files(input_files, output_file):\n",
    "    try:\n",
    "        with open(output_file, 'w') as output:\n",
    "            for input_file in input_files:\n",
    "                with open(input_file, 'r') as file:\n",
    "                    content = file.read()\n",
    "                    output.write(content)\n",
    "                output.write('\\n')  # Add a newline between concatenated files\n",
    "\n",
    "        print(f\"Concatenated {len(input_files)} files into '{output_file}'\")\n",
    "\n",
    "    except FileNotFoundError:\n",
    "        print(f\"Error: One or more input files not found.\")\n",
    "    except Exception as e:\n",
    "        print(f\"An error occurred: {str(e)}\")\n",
    "\n",
    "# Input from the user\n",
    "input_files = []\n",
    "while True:\n",
    "    file_path = input(\"Enter the path of an input text file (or 'done' to finish): \")\n",
    "    if file_path.lower() == 'done':\n",
    "        break\n",
    "    input_files.append(file_path)\n",
    "\n",
    "output_file = input(\"Enter the path of the output text file: \")\n",
    "\n",
    "# Concatenate the input files into the output file\n",
    "concatenate_files(input_files, output_file)\n"
   ]
  },
  {
   "cell_type": "markdown",
   "id": "313fea5b",
   "metadata": {},
   "source": [
    "# 8. Assume that you are developing a student gradebook system for a school. The system should allow teachers to input student grades for various subjects, store the data in files, and provide students with the ability to view their grades. Design a Python program that accomplishes the following tasks:i. Teachers should be able to input grades for students in different subjects.ii. Store the student grade data in separate text files for each subject.iii. Students should be able to view their grades for each subject.iv. Implement error handling for file operations, such as file not found or permission issues."
   ]
  },
  {
   "cell_type": "code",
   "execution_count": 37,
   "id": "9a5a08dd",
   "metadata": {},
   "outputs": [
    {
     "name": "stdout",
     "output_type": "stream",
     "text": [
      "\n",
      "Options:\n",
      "1. Input Grades (Teacher)\n",
      "2. View Grades (Student)\n",
      "3. Quit\n",
      "Enter your choice: 1\n",
      "Enter the subject: physis\n",
      "Enter student name (or 'q' to quit): q\n",
      "Grades for physis have been recorded.\n",
      "\n",
      "Options:\n",
      "1. Input Grades (Teacher)\n",
      "2. View Grades (Student)\n",
      "3. Quit\n"
     ]
    },
    {
     "ename": "KeyboardInterrupt",
     "evalue": "Interrupted by user",
     "output_type": "error",
     "traceback": [
      "\u001b[1;31m---------------------------------------------------------------------------\u001b[0m",
      "\u001b[1;31mKeyboardInterrupt\u001b[0m                         Traceback (most recent call last)",
      "Cell \u001b[1;32mIn[37], line 38\u001b[0m\n\u001b[0;32m     36\u001b[0m \u001b[38;5;28mprint\u001b[39m(\u001b[38;5;124m\"\u001b[39m\u001b[38;5;124m2. View Grades (Student)\u001b[39m\u001b[38;5;124m\"\u001b[39m)\n\u001b[0;32m     37\u001b[0m \u001b[38;5;28mprint\u001b[39m(\u001b[38;5;124m\"\u001b[39m\u001b[38;5;124m3. Quit\u001b[39m\u001b[38;5;124m\"\u001b[39m)\n\u001b[1;32m---> 38\u001b[0m choice \u001b[38;5;241m=\u001b[39m \u001b[38;5;28minput\u001b[39m(\u001b[38;5;124m\"\u001b[39m\u001b[38;5;124mEnter your choice: \u001b[39m\u001b[38;5;124m\"\u001b[39m)\n\u001b[0;32m     40\u001b[0m \u001b[38;5;28;01mif\u001b[39;00m choice \u001b[38;5;241m==\u001b[39m \u001b[38;5;124m'\u001b[39m\u001b[38;5;124m1\u001b[39m\u001b[38;5;124m'\u001b[39m:\n\u001b[0;32m     41\u001b[0m     subject \u001b[38;5;241m=\u001b[39m \u001b[38;5;28minput\u001b[39m(\u001b[38;5;124m\"\u001b[39m\u001b[38;5;124mEnter the subject: \u001b[39m\u001b[38;5;124m\"\u001b[39m)\n",
      "File \u001b[1;32m~\\anaconda3\\Lib\\site-packages\\ipykernel\\kernelbase.py:1175\u001b[0m, in \u001b[0;36mKernel.raw_input\u001b[1;34m(self, prompt)\u001b[0m\n\u001b[0;32m   1171\u001b[0m \u001b[38;5;28;01mif\u001b[39;00m \u001b[38;5;129;01mnot\u001b[39;00m \u001b[38;5;28mself\u001b[39m\u001b[38;5;241m.\u001b[39m_allow_stdin:\n\u001b[0;32m   1172\u001b[0m     \u001b[38;5;28;01mraise\u001b[39;00m StdinNotImplementedError(\n\u001b[0;32m   1173\u001b[0m         \u001b[38;5;124m\"\u001b[39m\u001b[38;5;124mraw_input was called, but this frontend does not support input requests.\u001b[39m\u001b[38;5;124m\"\u001b[39m\n\u001b[0;32m   1174\u001b[0m     )\n\u001b[1;32m-> 1175\u001b[0m \u001b[38;5;28;01mreturn\u001b[39;00m \u001b[38;5;28mself\u001b[39m\u001b[38;5;241m.\u001b[39m_input_request(\n\u001b[0;32m   1176\u001b[0m     \u001b[38;5;28mstr\u001b[39m(prompt),\n\u001b[0;32m   1177\u001b[0m     \u001b[38;5;28mself\u001b[39m\u001b[38;5;241m.\u001b[39m_parent_ident[\u001b[38;5;124m\"\u001b[39m\u001b[38;5;124mshell\u001b[39m\u001b[38;5;124m\"\u001b[39m],\n\u001b[0;32m   1178\u001b[0m     \u001b[38;5;28mself\u001b[39m\u001b[38;5;241m.\u001b[39mget_parent(\u001b[38;5;124m\"\u001b[39m\u001b[38;5;124mshell\u001b[39m\u001b[38;5;124m\"\u001b[39m),\n\u001b[0;32m   1179\u001b[0m     password\u001b[38;5;241m=\u001b[39m\u001b[38;5;28;01mFalse\u001b[39;00m,\n\u001b[0;32m   1180\u001b[0m )\n",
      "File \u001b[1;32m~\\anaconda3\\Lib\\site-packages\\ipykernel\\kernelbase.py:1217\u001b[0m, in \u001b[0;36mKernel._input_request\u001b[1;34m(self, prompt, ident, parent, password)\u001b[0m\n\u001b[0;32m   1214\u001b[0m             \u001b[38;5;28;01mbreak\u001b[39;00m\n\u001b[0;32m   1215\u001b[0m \u001b[38;5;28;01mexcept\u001b[39;00m \u001b[38;5;167;01mKeyboardInterrupt\u001b[39;00m:\n\u001b[0;32m   1216\u001b[0m     \u001b[38;5;66;03m# re-raise KeyboardInterrupt, to truncate traceback\u001b[39;00m\n\u001b[1;32m-> 1217\u001b[0m     \u001b[38;5;28;01mraise\u001b[39;00m \u001b[38;5;167;01mKeyboardInterrupt\u001b[39;00m(\u001b[38;5;124m\"\u001b[39m\u001b[38;5;124mInterrupted by user\u001b[39m\u001b[38;5;124m\"\u001b[39m) \u001b[38;5;28;01mfrom\u001b[39;00m \u001b[38;5;28;01mNone\u001b[39;00m\n\u001b[0;32m   1218\u001b[0m \u001b[38;5;28;01mexcept\u001b[39;00m \u001b[38;5;167;01mException\u001b[39;00m:\n\u001b[0;32m   1219\u001b[0m     \u001b[38;5;28mself\u001b[39m\u001b[38;5;241m.\u001b[39mlog\u001b[38;5;241m.\u001b[39mwarning(\u001b[38;5;124m\"\u001b[39m\u001b[38;5;124mInvalid Message:\u001b[39m\u001b[38;5;124m\"\u001b[39m, exc_info\u001b[38;5;241m=\u001b[39m\u001b[38;5;28;01mTrue\u001b[39;00m)\n",
      "\u001b[1;31mKeyboardInterrupt\u001b[0m: Interrupted by user"
     ]
    }
   ],
   "source": [
    "import os\n",
    "# Function to input grades for a subject by teachers\n",
    "def input_grades(subject):\n",
    "    try:\n",
    "        with open(f\"{subject}_grades.txt\", \"a\") as file:\n",
    "            while True:\n",
    "                student_name = input(\"Enter student name (or 'q' to quit): \")\n",
    "                if student_name.lower() == 'q':\n",
    "                    break\n",
    "                grade = input(f\"Enter {student_name}'s grade for {subject}: \")\n",
    "                file.write(f\"{student_name}: {grade}\\n\")\n",
    "        print(f\"Grades for {subject} have been recorded.\")\n",
    "    except IOError as e:\n",
    "        print(f\"Error: {e}\")\n",
    "# Function to view grades for a subject by students\n",
    "def view_grades(subject, student_name):\n",
    "    try:\n",
    "        with open(f\"{subject}_grades.txt\", \"r\") as file:\n",
    "            grades = file.readlines()\n",
    "            student_grades = [line.strip() for line in grades if line.startswith(student_name)]\n",
    "            if student_grades:\n",
    "                print(f\"Grades for {subject}:\")\n",
    "                for grade in student_grades:\n",
    "                    print(grade)\n",
    "            else:\n",
    "                print(f\"No grades found for {student_name} in {subject}.\")\n",
    "    except FileNotFoundError:\n",
    "        print(f\"Grades file for {subject} not found.\")\n",
    "    except IOError as e:\n",
    "        print(f\"Error: {e}\")\n",
    "\n",
    "# Main program loop\n",
    "while True:\n",
    "    print(\"\\nOptions:\")\n",
    "    print(\"1. Input Grades (Teacher)\")\n",
    "    print(\"2. View Grades (Student)\")\n",
    "    print(\"3. Quit\")\n",
    "    choice = input(\"Enter your choice: \")\n",
    "\n",
    "    if choice == '1':\n",
    "        subject = input(\"Enter the subject: \")\n",
    "        input_grades(subject)\n",
    "    elif choice == '2':\n",
    "        student_name = input(\"Enter your name: \")\n",
    "        subject = input(\"Enter the subject: \")\n",
    "        view_grades(subject, student_name)\n",
    "    elif choice == '3':\n",
    "        break\n",
    "    else:\n",
    "        print(\"Invalid choice. Please try again.\")\n",
    "\n",
    "print(\"Goodbye!\")\n"
   ]
  },
  {
   "cell_type": "code",
   "execution_count": 39,
   "id": "0743c5c6",
   "metadata": {},
   "outputs": [
    {
     "name": "stdout",
     "output_type": "stream",
     "text": [
      "Processing completed. Check 'output.txt' for results.\n",
      "hello this is shaik Faheem-ul-haq: 33\n",
      "\n"
     ]
    }
   ],
   "source": [
    "#7.\n",
    "input_file_name = 'input.txt'\n",
    "output_file_name = 'output.txt'\n",
    "\n",
    "with open(input_file_name, 'r') as input_file:\n",
    "    word_length_dict = {}  \n",
    "    for line in input_file:\n",
    "        word = line.strip() \n",
    "        length = len(word)   \n",
    "        word_length_dict[word] = length\n",
    "with open(output_file_name, 'w') as output_file:\n",
    "    for word, length in word_length_dict.items():\n",
    "        output_file.write(f\"{word}: {length}\\n\")\n",
    "        print(\"Processing completed. Check 'output.txt' for results.\")\n",
    "        \n",
    "f=open(\"output.txt\")\n",
    "print(f.read())\n",
    "\n"
   ]
  },
  {
   "cell_type": "code",
   "execution_count": null,
   "id": "6e2e72f8",
   "metadata": {},
   "outputs": [],
   "source": []
  },
  {
   "cell_type": "code",
   "execution_count": null,
   "id": "41066a53",
   "metadata": {},
   "outputs": [],
   "source": []
  }
 ],
 "metadata": {
  "kernelspec": {
   "display_name": "Python 3 (ipykernel)",
   "language": "python",
   "name": "python3"
  },
  "language_info": {
   "codemirror_mode": {
    "name": "ipython",
    "version": 3
   },
   "file_extension": ".py",
   "mimetype": "text/x-python",
   "name": "python",
   "nbconvert_exporter": "python",
   "pygments_lexer": "ipython3",
   "version": "3.11.4"
  }
 },
 "nbformat": 4,
 "nbformat_minor": 5
}
