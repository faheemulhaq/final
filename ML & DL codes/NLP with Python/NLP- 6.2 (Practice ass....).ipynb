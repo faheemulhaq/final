{
 "cells": [
  {
   "cell_type": "markdown",
   "id": "47e463bf",
   "metadata": {},
   "source": [
    "# Build a Speech to Text model."
   ]
  },
  {
   "cell_type": "code",
   "execution_count": 1,
   "id": "2c90eade",
   "metadata": {},
   "outputs": [
    {
     "name": "stdout",
     "output_type": "stream",
     "text": [
      "Requirement already satisfied: SpeechRecognition in c:\\users\\fahee\\anaconda3\\lib\\site-packages (3.10.0)\n",
      "Requirement already satisfied: requests>=2.26.0 in c:\\users\\fahee\\anaconda3\\lib\\site-packages (from SpeechRecognition) (2.31.0)\n",
      "Requirement already satisfied: charset-normalizer<4,>=2 in c:\\users\\fahee\\anaconda3\\lib\\site-packages (from requests>=2.26.0->SpeechRecognition) (2.0.4)\n",
      "Requirement already satisfied: idna<4,>=2.5 in c:\\users\\fahee\\anaconda3\\lib\\site-packages (from requests>=2.26.0->SpeechRecognition) (3.4)\n",
      "Requirement already satisfied: urllib3<3,>=1.21.1 in c:\\users\\fahee\\anaconda3\\lib\\site-packages (from requests>=2.26.0->SpeechRecognition) (1.26.16)\n",
      "Requirement already satisfied: certifi>=2017.4.17 in c:\\users\\fahee\\anaconda3\\lib\\site-packages (from requests>=2.26.0->SpeechRecognition) (2023.7.22)\n",
      "Note: you may need to restart the kernel to use updated packages.\n"
     ]
    }
   ],
   "source": [
    "pip install SpeechRecognition"
   ]
  },
  {
   "cell_type": "code",
   "execution_count": 2,
   "id": "df5662c3",
   "metadata": {},
   "outputs": [],
   "source": [
    "import speech_recognition as sr"
   ]
  },
  {
   "cell_type": "code",
   "execution_count": 3,
   "id": "d3f752ac",
   "metadata": {},
   "outputs": [],
   "source": [
    "recognizer = sr.Recognizer()"
   ]
  },
  {
   "cell_type": "code",
   "execution_count": 4,
   "id": "4cbeb78f",
   "metadata": {},
   "outputs": [],
   "source": [
    "audio_file = \"344250__honest_cactus__normal-voice-and-intro.wav\""
   ]
  },
  {
   "cell_type": "code",
   "execution_count": 5,
   "id": "264f42e5",
   "metadata": {},
   "outputs": [
    {
     "name": "stdout",
     "output_type": "stream",
     "text": [
      "Recognized text: hi my name is Anand status this is my normal voice an American porn female that has a Blueberry microphone with the purple colour may not have a fancy sample from recording I don't know about editing software to remove any unnecessary songs if you are interested in any of these message\n"
     ]
    }
   ],
   "source": [
    "with sr.AudioFile(audio_file) as source:\n",
    "    audio_data = recognizer.record(source)  # Record the audio file\n",
    "\n",
    "    # Recognize speech using Google Web Speech API\n",
    "    try:\n",
    "        text = recognizer.recognize_google(audio_data)\n",
    "        print(\"Recognized text:\", text)\n",
    "    except sr.UnknownValueError:\n",
    "        print(\"Google Web Speech API could not understand the audio\")\n",
    "    except sr.RequestError as e:\n",
    "        print(\"Could not request results from Google Web Speech API; {0}\".format(e))"
   ]
  },
  {
   "cell_type": "markdown",
   "id": "cef4d3e0",
   "metadata": {},
   "source": [
    "# Build a Text to Speech model."
   ]
  },
  {
   "cell_type": "code",
   "execution_count": 14,
   "id": "adf3f9f8",
   "metadata": {},
   "outputs": [
    {
     "name": "stdout",
     "output_type": "stream",
     "text": [
      "Requirement already satisfied: pyttsx3 in c:\\users\\fahee\\anaconda3\\lib\\site-packages (2.90)\n",
      "Requirement already satisfied: comtypes in c:\\users\\fahee\\anaconda3\\lib\\site-packages (from pyttsx3) (1.2.0)\n",
      "Requirement already satisfied: pypiwin32 in c:\\users\\fahee\\anaconda3\\lib\\site-packages (from pyttsx3) (223)\n",
      "Requirement already satisfied: pywin32 in c:\\users\\fahee\\appdata\\roaming\\python\\python311\\site-packages (from pyttsx3) (306)\n",
      "Note: you may need to restart the kernel to use updated packages.\n"
     ]
    }
   ],
   "source": [
    "pip install pyttsx3"
   ]
  },
  {
   "cell_type": "code",
   "execution_count": 21,
   "id": "350b9065",
   "metadata": {},
   "outputs": [
    {
     "name": "stdout",
     "output_type": "stream",
     "text": [
      "No female voice found. Using the default voice.\n",
      "Enter the text to convert to speech: hi my name is Anand status this is my normal voice an American porn female that has a Blueberry microphone with the purple colour may not have a fancy sample from recording I don't know about editing software to remove any unnecessary songs if you are interested in any of these message\n"
     ]
    }
   ],
   "source": [
    "import pyttsx3\n",
    "\n",
    "# Initialize the text-to-speech engine\n",
    "engine = pyttsx3.init()\n",
    "\n",
    "# Get all available voices\n",
    "voices = engine.getProperty('voices')\n",
    "\n",
    "# Select a female voice (assuming a female voice is available)\n",
    "female_voice = None\n",
    "for voice in voices:\n",
    "    if \"female\" in voice.name.lower():\n",
    "        female_voice = voice\n",
    "        break\n",
    "\n",
    "# Set the selected voice\n",
    "if female_voice:\n",
    "    engine.setProperty('voice', female_voice.id)\n",
    "else:\n",
    "    print(\"No female voice found. Using the default voice.\")\n",
    "\n",
    "# Set properties (optional)\n",
    "engine.setProperty('rate', 150)    # Speed of speech\n",
    "engine.setProperty('volume', 0.9)  # Volume (0.0 to 1.0)\n",
    "\n",
    "# Prompt user for input\n",
    "text = input(\"Enter the text to convert to speech: \")\n",
    "\n",
    "# Convert user input text to speech with the selected voice and play it\n",
    "engine.say(text)\n",
    "engine.runAndWait()\n"
   ]
  }
 ],
 "metadata": {
  "kernelspec": {
   "display_name": "Python 3 (ipykernel)",
   "language": "python",
   "name": "python3"
  },
  "language_info": {
   "codemirror_mode": {
    "name": "ipython",
    "version": 3
   },
   "file_extension": ".py",
   "mimetype": "text/x-python",
   "name": "python",
   "nbconvert_exporter": "python",
   "pygments_lexer": "ipython3",
   "version": "3.11.5"
  }
 },
 "nbformat": 4,
 "nbformat_minor": 5
}
