{
 "cells": [
  {
   "cell_type": "code",
   "execution_count": 1,
   "id": "b9e52f3e",
   "metadata": {},
   "outputs": [],
   "source": [
    "import numpy as np\n",
    "from tensorflow.keras.models import Sequential\n",
    "from tensorflow.keras.layers import LSTM, Dense, Embedding\n",
    "from tensorflow.keras.preprocessing.text import Tokenizer\n",
    "from tensorflow.keras.preprocessing.sequence import pad_sequences"
   ]
  },
  {
   "cell_type": "code",
   "execution_count": 2,
   "id": "7b77bcf2",
   "metadata": {},
   "outputs": [],
   "source": [
    "text_data = [\"I woke up this morning feeling an overwhelming sense of joy. The sun streamed through the window, casting a warm glow that filled me with happiness. As I stepped outside, a gentle breeze brushed against my skin, evoking a sense of calm and contentment. However, as the day progressed, a wave of nostalgia washed over me, reminding me of cherished memories from the past. I found myself smiling at old photographs, feeling a mix of joy and longing.Suddenly, a pang of sadness hit me as I remembered missed opportunities and lost connections. Yet, hope flickered within me, like a small flame refusing to be extinguished. Determination surged through my veins, propelling me forward despite the obstacles. Later, an unexpected surprise lifted my spirits, filling me with excitement and anticipation for what lay ahead. Ultimately, today has been a whirlwind of emotions, each one leaving its mark on my heart.\"]"
   ]
  },
  {
   "cell_type": "code",
   "execution_count": 3,
   "id": "b8c30cdf",
   "metadata": {},
   "outputs": [],
   "source": [
    "# Tokenize the text\n",
    "tokenizer = Tokenizer()\n",
    "tokenizer.fit_on_texts(text_data)\n",
    "total_words = len(tokenizer.word_index) + 1"
   ]
  },
  {
   "cell_type": "code",
   "execution_count": 4,
   "id": "7a1a9bf8",
   "metadata": {},
   "outputs": [],
   "source": [
    "input_sequences = []\n",
    "for line in text_data:\n",
    "    token_list = tokenizer.texts_to_sequences([line])[0]\n",
    "    for i in range(1, len(token_list)):\n",
    "        n_gram_sequence = token_list[:i+1]\n",
    "        input_sequences.append(n_gram_sequence)\n"
   ]
  },
  {
   "cell_type": "code",
   "execution_count": 5,
   "id": "6315c424",
   "metadata": {},
   "outputs": [],
   "source": [
    "max_sequence_len = max([len(seq) for seq in input_sequences])\n",
    "input_sequences = np.array(pad_sequences(input_sequences, maxlen=max_sequence_len, padding='pre'))"
   ]
  },
  {
   "cell_type": "code",
   "execution_count": 6,
   "id": "f1464aa0",
   "metadata": {},
   "outputs": [],
   "source": [
    "X = input_sequences[:, :-1]\n",
    "labels = input_sequences[:, -1]"
   ]
  },
  {
   "cell_type": "code",
   "execution_count": 7,
   "id": "0ee10c2d",
   "metadata": {},
   "outputs": [],
   "source": [
    "from tensorflow.keras.utils import to_categorical\n",
    "y = to_categorical(labels, num_classes=total_words)"
   ]
  },
  {
   "cell_type": "code",
   "execution_count": 8,
   "id": "d2a19e4d",
   "metadata": {},
   "outputs": [],
   "source": [
    "model = Sequential()\n",
    "model.add(Embedding(total_words, 100, input_length=max_sequence_len-1))\n",
    "model.add(LSTM(150))\n",
    "model.add(Dense(total_words, activation='softmax'))"
   ]
  },
  {
   "cell_type": "code",
   "execution_count": 9,
   "id": "9563dc97",
   "metadata": {},
   "outputs": [],
   "source": [
    "model.compile(loss='categorical_crossentropy', optimizer='adam', metrics=['accuracy'])"
   ]
  },
  {
   "cell_type": "code",
   "execution_count": 10,
   "id": "c0a3dce0",
   "metadata": {},
   "outputs": [
    {
     "name": "stdout",
     "output_type": "stream",
     "text": [
      "Epoch 1/100\n",
      "5/5 [==============================] - 5s 207ms/step - loss: 4.7096 - accuracy: 0.0268\n",
      "Epoch 2/100\n",
      "5/5 [==============================] - 1s 220ms/step - loss: 4.6925 - accuracy: 0.0805\n",
      "Epoch 3/100\n",
      "5/5 [==============================] - 1s 212ms/step - loss: 4.6684 - accuracy: 0.0805\n",
      "Epoch 4/100\n",
      "5/5 [==============================] - 1s 245ms/step - loss: 4.5804 - accuracy: 0.0537\n",
      "Epoch 5/100\n",
      "5/5 [==============================] - 1s 262ms/step - loss: 4.5169 - accuracy: 0.0537\n",
      "Epoch 6/100\n",
      "5/5 [==============================] - 1s 259ms/step - loss: 4.4917 - accuracy: 0.0671\n",
      "Epoch 7/100\n",
      "5/5 [==============================] - 1s 229ms/step - loss: 4.4576 - accuracy: 0.0537\n",
      "Epoch 8/100\n",
      "5/5 [==============================] - 1s 248ms/step - loss: 4.4226 - accuracy: 0.0671\n",
      "Epoch 9/100\n",
      "5/5 [==============================] - 1s 220ms/step - loss: 4.3838 - accuracy: 0.0470\n",
      "Epoch 10/100\n",
      "5/5 [==============================] - 1s 230ms/step - loss: 4.3207 - accuracy: 0.0671\n",
      "Epoch 11/100\n",
      "5/5 [==============================] - 1s 233ms/step - loss: 4.2658 - accuracy: 0.0671\n",
      "Epoch 12/100\n",
      "5/5 [==============================] - 1s 230ms/step - loss: 4.1697 - accuracy: 0.0872\n",
      "Epoch 13/100\n",
      "5/5 [==============================] - 1s 244ms/step - loss: 4.0620 - accuracy: 0.1007\n",
      "Epoch 14/100\n",
      "5/5 [==============================] - 1s 226ms/step - loss: 3.9411 - accuracy: 0.1007\n",
      "Epoch 15/100\n",
      "5/5 [==============================] - 1s 227ms/step - loss: 3.8388 - accuracy: 0.1141\n",
      "Epoch 16/100\n",
      "5/5 [==============================] - 1s 233ms/step - loss: 3.6984 - accuracy: 0.1007\n",
      "Epoch 17/100\n",
      "5/5 [==============================] - 1s 246ms/step - loss: 3.5651 - accuracy: 0.1007\n",
      "Epoch 18/100\n",
      "5/5 [==============================] - 1s 261ms/step - loss: 3.4219 - accuracy: 0.1342\n",
      "Epoch 19/100\n",
      "5/5 [==============================] - 1s 249ms/step - loss: 3.2809 - accuracy: 0.1477\n",
      "Epoch 20/100\n",
      "5/5 [==============================] - 1s 254ms/step - loss: 3.1398 - accuracy: 0.1477\n",
      "Epoch 21/100\n",
      "5/5 [==============================] - 1s 275ms/step - loss: 2.9886 - accuracy: 0.1544\n",
      "Epoch 22/100\n",
      "5/5 [==============================] - 1s 263ms/step - loss: 2.8295 - accuracy: 0.1946\n",
      "Epoch 23/100\n",
      "5/5 [==============================] - 1s 268ms/step - loss: 2.6890 - accuracy: 0.2416\n",
      "Epoch 24/100\n",
      "5/5 [==============================] - 1s 241ms/step - loss: 2.5723 - accuracy: 0.2483\n",
      "Epoch 25/100\n",
      "5/5 [==============================] - 1s 252ms/step - loss: 2.4767 - accuracy: 0.2617\n",
      "Epoch 26/100\n",
      "5/5 [==============================] - 1s 247ms/step - loss: 2.3769 - accuracy: 0.2617\n",
      "Epoch 27/100\n",
      "5/5 [==============================] - 1s 254ms/step - loss: 2.2791 - accuracy: 0.2953\n",
      "Epoch 28/100\n",
      "5/5 [==============================] - 1s 259ms/step - loss: 2.1975 - accuracy: 0.3490\n",
      "Epoch 29/100\n",
      "5/5 [==============================] - 1s 245ms/step - loss: 2.1413 - accuracy: 0.3356\n",
      "Epoch 30/100\n",
      "5/5 [==============================] - 1s 271ms/step - loss: 2.0686 - accuracy: 0.3557\n",
      "Epoch 31/100\n",
      "5/5 [==============================] - 1s 259ms/step - loss: 2.0059 - accuracy: 0.4027\n",
      "Epoch 32/100\n",
      "5/5 [==============================] - 1s 261ms/step - loss: 1.9493 - accuracy: 0.4698\n",
      "Epoch 33/100\n",
      "5/5 [==============================] - 1s 283ms/step - loss: 1.8849 - accuracy: 0.5101\n",
      "Epoch 34/100\n",
      "5/5 [==============================] - 1s 279ms/step - loss: 1.8388 - accuracy: 0.5302\n",
      "Epoch 35/100\n",
      "5/5 [==============================] - 1s 272ms/step - loss: 1.7986 - accuracy: 0.5302\n",
      "Epoch 36/100\n",
      "5/5 [==============================] - 1s 262ms/step - loss: 1.7613 - accuracy: 0.5168\n",
      "Epoch 37/100\n",
      "5/5 [==============================] - 1s 250ms/step - loss: 1.7075 - accuracy: 0.6309\n",
      "Epoch 38/100\n",
      "5/5 [==============================] - 1s 292ms/step - loss: 1.6740 - accuracy: 0.6174\n",
      "Epoch 39/100\n",
      "5/5 [==============================] - 1s 281ms/step - loss: 1.6337 - accuracy: 0.6577\n",
      "Epoch 40/100\n",
      "5/5 [==============================] - 1s 248ms/step - loss: 1.6033 - accuracy: 0.7047\n",
      "Epoch 41/100\n",
      "5/5 [==============================] - 1s 278ms/step - loss: 1.5812 - accuracy: 0.6443\n",
      "Epoch 42/100\n",
      "5/5 [==============================] - 1s 266ms/step - loss: 1.5512 - accuracy: 0.6443\n",
      "Epoch 43/100\n",
      "5/5 [==============================] - 1s 281ms/step - loss: 1.5113 - accuracy: 0.7450\n",
      "Epoch 44/100\n",
      "5/5 [==============================] - 1s 268ms/step - loss: 1.4848 - accuracy: 0.7047\n",
      "Epoch 45/100\n",
      "5/5 [==============================] - 1s 270ms/step - loss: 1.4566 - accuracy: 0.7584\n",
      "Epoch 46/100\n",
      "5/5 [==============================] - 1s 277ms/step - loss: 1.4270 - accuracy: 0.7450\n",
      "Epoch 47/100\n",
      "5/5 [==============================] - 1s 276ms/step - loss: 1.3891 - accuracy: 0.8121\n",
      "Epoch 48/100\n",
      "5/5 [==============================] - 1s 278ms/step - loss: 1.3604 - accuracy: 0.7987\n",
      "Epoch 49/100\n",
      "5/5 [==============================] - 1s 281ms/step - loss: 1.3259 - accuracy: 0.8792\n",
      "Epoch 50/100\n",
      "5/5 [==============================] - 1s 281ms/step - loss: 1.2998 - accuracy: 0.8926\n",
      "Epoch 51/100\n",
      "5/5 [==============================] - 1s 288ms/step - loss: 1.2756 - accuracy: 0.8926\n",
      "Epoch 52/100\n",
      "5/5 [==============================] - 1s 295ms/step - loss: 1.2469 - accuracy: 0.9195\n",
      "Epoch 53/100\n",
      "5/5 [==============================] - 1s 280ms/step - loss: 1.2294 - accuracy: 0.9195\n",
      "Epoch 54/100\n",
      "5/5 [==============================] - 1s 289ms/step - loss: 1.1983 - accuracy: 0.9195\n",
      "Epoch 55/100\n",
      "5/5 [==============================] - 1s 285ms/step - loss: 1.1711 - accuracy: 0.9463\n",
      "Epoch 56/100\n",
      "5/5 [==============================] - 1s 292ms/step - loss: 1.1509 - accuracy: 0.9463\n",
      "Epoch 57/100\n",
      "5/5 [==============================] - 1s 281ms/step - loss: 1.1247 - accuracy: 0.9396\n",
      "Epoch 58/100\n",
      "5/5 [==============================] - 1s 276ms/step - loss: 1.1020 - accuracy: 0.9396\n",
      "Epoch 59/100\n",
      "5/5 [==============================] - 1s 274ms/step - loss: 1.0759 - accuracy: 0.9463\n",
      "Epoch 60/100\n",
      "5/5 [==============================] - 1s 251ms/step - loss: 1.0532 - accuracy: 0.9664\n",
      "Epoch 61/100\n",
      "5/5 [==============================] - 1s 261ms/step - loss: 1.0343 - accuracy: 0.9866\n",
      "Epoch 62/100\n",
      "5/5 [==============================] - 1s 235ms/step - loss: 1.0194 - accuracy: 0.9664\n",
      "Epoch 63/100\n",
      "5/5 [==============================] - 1s 251ms/step - loss: 0.9976 - accuracy: 0.9732\n",
      "Epoch 64/100\n",
      "5/5 [==============================] - 1s 293ms/step - loss: 0.9834 - accuracy: 0.9664\n",
      "Epoch 65/100\n",
      "5/5 [==============================] - 1s 282ms/step - loss: 0.9579 - accuracy: 0.9597\n",
      "Epoch 66/100\n",
      "5/5 [==============================] - 2s 293ms/step - loss: 0.9314 - accuracy: 0.9866\n",
      "Epoch 67/100\n",
      "5/5 [==============================] - 1s 287ms/step - loss: 0.9136 - accuracy: 0.9866\n",
      "Epoch 68/100\n",
      "5/5 [==============================] - 1s 291ms/step - loss: 0.8901 - accuracy: 0.9866\n",
      "Epoch 69/100\n",
      "5/5 [==============================] - 1s 282ms/step - loss: 0.8746 - accuracy: 0.9933\n",
      "Epoch 70/100\n",
      "5/5 [==============================] - 2s 297ms/step - loss: 0.8511 - accuracy: 0.9933\n",
      "Epoch 71/100\n",
      "5/5 [==============================] - 1s 283ms/step - loss: 0.8351 - accuracy: 0.9866\n",
      "Epoch 72/100\n",
      "5/5 [==============================] - 1s 284ms/step - loss: 0.8124 - accuracy: 0.9933\n",
      "Epoch 73/100\n",
      "5/5 [==============================] - 1s 280ms/step - loss: 0.7949 - accuracy: 1.0000\n",
      "Epoch 74/100\n",
      "5/5 [==============================] - 2s 298ms/step - loss: 0.7818 - accuracy: 0.9933\n",
      "Epoch 75/100\n",
      "5/5 [==============================] - 2s 298ms/step - loss: 0.7587 - accuracy: 0.9933\n",
      "Epoch 76/100\n",
      "5/5 [==============================] - 1s 291ms/step - loss: 0.7452 - accuracy: 1.0000\n",
      "Epoch 77/100\n",
      "5/5 [==============================] - 2s 295ms/step - loss: 0.7278 - accuracy: 0.9933\n",
      "Epoch 78/100\n",
      "5/5 [==============================] - 1s 293ms/step - loss: 0.7131 - accuracy: 0.9933\n",
      "Epoch 79/100\n",
      "5/5 [==============================] - 1s 262ms/step - loss: 0.6934 - accuracy: 1.0000\n",
      "Epoch 80/100\n",
      "5/5 [==============================] - 1s 288ms/step - loss: 0.6744 - accuracy: 1.0000\n",
      "Epoch 81/100\n",
      "5/5 [==============================] - 1s 275ms/step - loss: 0.6576 - accuracy: 1.0000\n",
      "Epoch 82/100\n",
      "5/5 [==============================] - 1s 275ms/step - loss: 0.6427 - accuracy: 1.0000\n",
      "Epoch 83/100\n"
     ]
    },
    {
     "name": "stdout",
     "output_type": "stream",
     "text": [
      "5/5 [==============================] - 1s 279ms/step - loss: 0.6276 - accuracy: 1.0000\n",
      "Epoch 84/100\n",
      "5/5 [==============================] - 1s 279ms/step - loss: 0.6121 - accuracy: 1.0000\n",
      "Epoch 85/100\n",
      "5/5 [==============================] - 1s 277ms/step - loss: 0.5952 - accuracy: 1.0000\n",
      "Epoch 86/100\n",
      "5/5 [==============================] - 2s 292ms/step - loss: 0.5817 - accuracy: 1.0000\n",
      "Epoch 87/100\n",
      "5/5 [==============================] - 1s 288ms/step - loss: 0.5654 - accuracy: 1.0000\n",
      "Epoch 88/100\n",
      "5/5 [==============================] - 2s 294ms/step - loss: 0.5492 - accuracy: 1.0000\n",
      "Epoch 89/100\n",
      "5/5 [==============================] - 1s 290ms/step - loss: 0.5352 - accuracy: 1.0000\n",
      "Epoch 90/100\n",
      "5/5 [==============================] - 1s 276ms/step - loss: 0.5261 - accuracy: 1.0000\n",
      "Epoch 91/100\n",
      "5/5 [==============================] - 1s 283ms/step - loss: 0.5110 - accuracy: 1.0000\n",
      "Epoch 92/100\n",
      "5/5 [==============================] - 1s 288ms/step - loss: 0.4994 - accuracy: 1.0000\n",
      "Epoch 93/100\n",
      "5/5 [==============================] - 1s 282ms/step - loss: 0.4857 - accuracy: 1.0000\n",
      "Epoch 94/100\n",
      "5/5 [==============================] - 1s 294ms/step - loss: 0.4722 - accuracy: 1.0000\n",
      "Epoch 95/100\n",
      "5/5 [==============================] - 1s 288ms/step - loss: 0.4617 - accuracy: 1.0000\n",
      "Epoch 96/100\n",
      "5/5 [==============================] - 1s 290ms/step - loss: 0.4490 - accuracy: 1.0000\n",
      "Epoch 97/100\n",
      "5/5 [==============================] - 1s 293ms/step - loss: 0.4419 - accuracy: 1.0000\n",
      "Epoch 98/100\n",
      "5/5 [==============================] - 2s 297ms/step - loss: 0.4265 - accuracy: 1.0000\n",
      "Epoch 99/100\n",
      "5/5 [==============================] - 1s 289ms/step - loss: 0.4149 - accuracy: 1.0000\n",
      "Epoch 100/100\n",
      "5/5 [==============================] - 1s 298ms/step - loss: 0.4044 - accuracy: 1.0000\n"
     ]
    },
    {
     "data": {
      "text/plain": [
       "<keras.src.callbacks.History at 0x2e031a573d0>"
      ]
     },
     "execution_count": 10,
     "metadata": {},
     "output_type": "execute_result"
    }
   ],
   "source": [
    "model.fit(X, y, epochs=100, verbose=1)"
   ]
  },
  {
   "cell_type": "code",
   "execution_count": 13,
   "id": "733d2acf",
   "metadata": {},
   "outputs": [],
   "source": [
    "def generate_text(seed_text, next_words, model, max_sequence_len):\n",
    "    for _ in range(next_words):\n",
    "        token_list = tokenizer.texts_to_sequences([seed_text])[0]\n",
    "        token_list = pad_sequences([token_list], maxlen=max_sequence_len-1, padding='pre')\n",
    "        predicted_probs = model.predict(token_list, verbose=0)[0]\n",
    "        predicted = np.argmax(predicted_probs)\n",
    "        output_word = \"\"\n",
    "        for word, index in tokenizer.word_index.items():\n",
    "            if index == predicted:\n",
    "                output_word = word\n",
    "                break\n",
    "        seed_text += \" \" + output_word\n",
    "    return seed_text\n"
   ]
  },
  {
   "cell_type": "code",
   "execution_count": 14,
   "id": "4a8cbba0",
   "metadata": {},
   "outputs": [
    {
     "name": "stdout",
     "output_type": "stream",
     "text": [
      "hello woke up this morning feeling an overwhelming sense of joy\n"
     ]
    }
   ],
   "source": [
    "generated_text = generate_text(\"hello\", 10, model, max_sequence_len)\n",
    "print(generated_text)"
   ]
  }
 ],
 "metadata": {
  "kernelspec": {
   "display_name": "Python 3 (ipykernel)",
   "language": "python",
   "name": "python3"
  },
  "language_info": {
   "codemirror_mode": {
    "name": "ipython",
    "version": 3
   },
   "file_extension": ".py",
   "mimetype": "text/x-python",
   "name": "python",
   "nbconvert_exporter": "python",
   "pygments_lexer": "ipython3",
   "version": "3.11.5"
  }
 },
 "nbformat": 4,
 "nbformat_minor": 5
}
