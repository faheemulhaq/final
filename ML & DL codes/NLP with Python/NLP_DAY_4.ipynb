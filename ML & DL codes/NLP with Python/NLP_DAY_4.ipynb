{
 "cells": [
  {
   "cell_type": "code",
   "execution_count": 5,
   "id": "42a742c2",
   "metadata": {},
   "outputs": [
    {
     "name": "stderr",
     "output_type": "stream",
     "text": [
      "[nltk_data] Downloading package words to\n",
      "[nltk_data]     C:\\Users\\hp\\AppData\\Roaming\\nltk_data...\n",
      "[nltk_data]   Package words is already up-to-date!\n",
      "[nltk_data] Downloading package stopwords to\n",
      "[nltk_data]     C:\\Users\\hp\\AppData\\Roaming\\nltk_data...\n",
      "[nltk_data]   Package stopwords is already up-to-date!\n"
     ]
    },
    {
     "name": "stdout",
     "output_type": "stream",
     "text": [
      "First 20 words in the list: ['Macrocystis', 'Opuntia', 'Cystophora', 'zygophoric', 'iodobromite', 'ironhard', 'amaranth', 'Bruchidae', 'clat', 'stiffening', 'soleiform', 'dorsocervically', 'sublot', 'unperceptibly', 'Bessemerize', 'posterosuperior', 'fut', 'pizzle', 'clumsily', 'banked']\n",
      "Input Sentence: The new abacos is great\n",
      "Output Sentence: the new aback is great\n"
     ]
    }
   ],
   "source": [
    "import nltk\n",
    "import string\n",
    "from nltk.corpus import words\n",
    "from nltk.util import ngrams\n",
    "from collections import Counter\n",
    "\n",
    "# Download NLTK resources\n",
    "nltk.download('words')\n",
    "nltk.download('stopwords')\n",
    "\n",
    "# Get the list of valid words in the English language\n",
    "valid_words = set(words.words())\n",
    "\n",
    "# Check the casing of the first 20 words in the list\n",
    "print(\"First 20 words in the list:\", list(valid_words)[:20])\n",
    "\n",
    "# Normalize the casing for all the terms\n",
    "valid_words = set(word.lower() for word in valid_words)\n",
    "\n",
    "# Create a list of stop words\n",
    "stop_words = set(nltk.corpus.stopwords.words('english'))\n",
    "\n",
    "# Add punctuation to the stop words list\n",
    "stop_words.update(set(string.punctuation))\n",
    "\n",
    "# Combine stop words and punctuation to create the final stop words list\n",
    "stop_words_set = set(stop_words)\n",
    "\n",
    "\n",
    "\n",
    "def get_correct_term(target_term):\n",
    "    # Get the first 20,000 entries from the valid word list\n",
    "    valid_words_subset = list(valid_words)[:20000]\n",
    "\n",
    "    # Calculate the edit distance for each term in the valid word list\n",
    "    distances = {term: nltk.edit_distance(target_term, term) for term in valid_words_subset}\n",
    "\n",
    "    # Sort the dictionary by edit distance in ascending order\n",
    "    sorted_distances = sorted(distances.items(), key=lambda x: x[1])\n",
    "\n",
    "    # Return the term with the minimum edit distance\n",
    "    return sorted_distances[0][0]\n",
    "\n",
    "def correct_spelling(sentence):\n",
    "    # Tokenize the sentence and make all terms lowercase\n",
    "    tokenized_sentence = nltk.word_tokenize(sentence.lower())\n",
    "\n",
    "    # Correct spelling for each term in the tokenized sentence\n",
    "    corrected_sentence = [term if term in valid_words else get_correct_term(term) for term in tokenized_sentence]\n",
    "\n",
    "    # Return the joined string as output\n",
    "    return ' '.join(corrected_sentence)\n",
    "\n",
    "# Test the function\n",
    "input_sentence = \"The new abacos is great\"\n",
    "output_sentence = correct_spelling(input_sentence)\n",
    "print(\"Input Sentence:\", input_sentence)\n",
    "print(\"Output Sentence:\", output_sentence)\n"
   ]
  },
  {
   "cell_type": "code",
   "execution_count": null,
   "id": "8029469f",
   "metadata": {},
   "outputs": [],
   "source": []
  }
 ],
 "metadata": {
  "kernelspec": {
   "display_name": "Python 3 (ipykernel)",
   "language": "python",
   "name": "python3"
  },
  "language_info": {
   "codemirror_mode": {
    "name": "ipython",
    "version": 3
   },
   "file_extension": ".py",
   "mimetype": "text/x-python",
   "name": "python",
   "nbconvert_exporter": "python",
   "pygments_lexer": "ipython3",
   "version": "3.8.18"
  }
 },
 "nbformat": 4,
 "nbformat_minor": 5
}
