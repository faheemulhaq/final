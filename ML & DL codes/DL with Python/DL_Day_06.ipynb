{
 "cells": [
  {
   "cell_type": "code",
   "execution_count": 6,
   "id": "79635ad2",
   "metadata": {},
   "outputs": [
    {
     "name": "stdout",
     "output_type": "stream",
     "text": [
      "Found 3670 images belonging to 2 classes.\n",
      "Found 3670 images belonging to 2 classes.\n",
      "Epoch 1/3\n",
      "114/114 [==============================] - 2696s 24s/step - loss: 0.0049 - accuracy: 0.9970 - val_loss: 0.0000e+00 - val_accuracy: 1.0000\n",
      "Epoch 2/3\n",
      "114/114 [==============================] - 4166s 37s/step - loss: 0.0000e+00 - accuracy: 1.0000 - val_loss: 0.0000e+00 - val_accuracy: 1.0000\n",
      "Epoch 3/3\n",
      "114/114 [==============================] - 3437s 30s/step - loss: 0.0000e+00 - accuracy: 1.0000 - val_loss: 0.0000e+00 - val_accuracy: 1.0000\n",
      "Found 3670 images belonging to 2 classes.\n",
      "114/114 [==============================] - 1909s 17s/step - loss: 0.0000e+00 - accuracy: 1.0000\n",
      "Test loss: 0.0\n",
      "Test accuracy: 1.0\n"
     ]
    }
   ],
   "source": [
    "import tensorflow as tf\n",
    "from tensorflow.keras.applications import VGG16, VGG19\n",
    "from tensorflow.keras.preprocessing.image import ImageDataGenerator\n",
    "from tensorflow.keras import layers, models, optimizers\n",
    "\n",
    "train_data_dir = 'C:\\\\Users\\\\hp\\\\OneDrive\\\\Practices'\n",
    "validation_data_dir = 'C:\\\\Users\\\\hp\\\\OneDrive\\\\Practices'\n",
    "test_data_dir= 'C:\\\\Users\\\\hp\\\\OneDrive\\\\Practices'\n",
    "\n",
    "img_width, img_height = 224, 224\n",
    "batch_size = 32\n",
    "epochs = 3\n",
    "\n",
    "base_model = VGG16(weights='imagenet', include_top=False, input_shape=(img_width, img_height, 3))\n",
    "\n",
    "for layer in base_model.layers:\n",
    "    layer.trainable = False\n",
    "\n",
    "model = models.Sequential()\n",
    "model.add(base_model)\n",
    "model.add(layers.Flatten())\n",
    "model.add(layers.Dense(256, activation='relu'))\n",
    "model.add(layers.Dropout(0.5))\n",
    "model.add(layers.Dense(1, activation='sigmoid'))  \n",
    "model.compile(optimizer=optimizers.Adam(),\n",
    "              loss='binary_crossentropy',  \n",
    "              metrics=['accuracy'])\n",
    "\n",
    "train_datagen = ImageDataGenerator(rescale=1. / 255,\n",
    "                                   shear_range=0.2,\n",
    "                                   zoom_range=0.2,\n",
    "                                   horizontal_flip=True)\n",
    "\n",
    "test_datagen = ImageDataGenerator(rescale=1. / 255)\n",
    "\n",
    "train_generator = train_datagen.flow_from_directory(train_data_dir,\n",
    "                                                    target_size=(img_width, img_height),\n",
    "                                                    batch_size=batch_size,\n",
    "                                                    class_mode='binary')  # for binary classification, adjust for multi-class\n",
    "\n",
    "validation_generator = test_datagen.flow_from_directory(validation_data_dir,\n",
    "                                                        target_size=(img_width, img_height),\n",
    "                                                        batch_size=batch_size,\n",
    "                                                        class_mode='binary')  # for binary classification, adjust for multi-class\n",
    "\n",
    "history = model.fit(train_generator,\n",
    "                    steps_per_epoch=train_generator.samples // batch_size,\n",
    "                    epochs=epochs,\n",
    "                    validation_data=validation_generator,\n",
    "                    validation_steps=validation_generator.samples // batch_size)\n",
    "\n",
    "test_generator = test_datagen.flow_from_directory(test_data_dir,\n",
    "                                                  target_size=(img_width, img_height),\n",
    "                                                  batch_size=batch_size,\n",
    "                                                  class_mode='binary')  # for binary classification, adjust for multi-class\n",
    "\n",
    "eval_result = model.evaluate(test_generator, steps=test_generator.samples // batch_size)\n",
    "print(\"Test loss:\", eval_result[0])\n",
    "print(\"Test accuracy:\", eval_result[1])\n"
   ]
  },
  {
   "cell_type": "code",
   "execution_count": 8,
   "id": "47f6941a",
   "metadata": {},
   "outputs": [],
   "source": [
    "from glob import glob\n",
    "\n",
    "\n",
    "folders=glob('C:\\\\Users\\\\hp\\\\OneDrive\\\\Practices')\n",
    "\n"
   ]
  },
  {
   "cell_type": "code",
   "execution_count": 9,
   "id": "ad3dfc75",
   "metadata": {},
   "outputs": [
    {
     "data": {
      "text/plain": [
       "1"
      ]
     },
     "execution_count": 9,
     "metadata": {},
     "output_type": "execute_result"
    }
   ],
   "source": [
    "len(folders)\n"
   ]
  },
  {
   "cell_type": "code",
   "execution_count": 10,
   "id": "e8a4beee",
   "metadata": {},
   "outputs": [],
   "source": [
    "from keras.applications.resnet50 import ResNet50\n",
    "\n",
    "# Instantiate the ResNet50 model\n",
    "resnet50 = ResNet50(weights='imagenet')\n",
    "\n",
    "# Your code continues here\n",
    "from keras.layers import Input, Lambda, Dense, Flatten\n",
    "\n",
    "# Your layers - you can add more layers if you want\n",
    "x = Flatten()(resnet50.output)\n",
    "\n",
    "# Defined the output layer\n",
    "prediction = Dense(len(folders), activation='softmax')(x)\n"
   ]
  },
  {
   "cell_type": "code",
   "execution_count": 11,
   "id": "449b95c9",
   "metadata": {},
   "outputs": [],
   "source": [
    "from keras.applications.resnet50 import ResNet50\n",
    "\n",
    "\n",
    "\n",
    "IMAGE_SIZE=[224,224]\n",
    "resnet50=ResNet50(input_shape=IMAGE_SIZE+[3],weights='imagenet',include_top=False)\n",
    "\n",
    "\n"
   ]
  },
  {
   "cell_type": "code",
   "execution_count": 12,
   "id": "334cc3d9",
   "metadata": {},
   "outputs": [],
   "source": [
    "model.save('Restnet50_dog_cat_classify.keras')\n"
   ]
  },
  {
   "cell_type": "code",
   "execution_count": 13,
   "id": "259b4d00",
   "metadata": {},
   "outputs": [
    {
     "name": "stdout",
     "output_type": "stream",
     "text": [
      "Model: \"sequential\"\n",
      "_________________________________________________________________\n",
      " Layer (type)                Output Shape              Param #   \n",
      "=================================================================\n",
      " vgg16 (Functional)          (None, 7, 7, 512)         14714688  \n",
      "                                                                 \n",
      " flatten_1 (Flatten)         (None, 25088)             0         \n",
      "                                                                 \n",
      " dense_1 (Dense)             (None, 256)               6422784   \n",
      "                                                                 \n",
      " dropout (Dropout)           (None, 256)               0         \n",
      "                                                                 \n",
      " dense_2 (Dense)             (None, 1)                 257       \n",
      "                                                                 \n",
      "=================================================================\n",
      "Total params: 21137729 (80.63 MB)\n",
      "Trainable params: 6423041 (24.50 MB)\n",
      "Non-trainable params: 14714688 (56.13 MB)\n",
      "_________________________________________________________________\n"
     ]
    }
   ],
   "source": [
    "model.summary()\n"
   ]
  },
  {
   "cell_type": "code",
   "execution_count": 14,
   "id": "60f2cd69",
   "metadata": {},
   "outputs": [
    {
     "name": "stdout",
     "output_type": "stream",
     "text": [
      "Found 3670 images belonging to 2 classes.\n",
      "Found 3670 images belonging to 2 classes.\n",
      "Epoch 1/3\n"
     ]
    },
    {
     "name": "stderr",
     "output_type": "stream",
     "text": [
      "C:\\Users\\hp\\anaconda3\\envs\\new_env\\lib\\site-packages\\tensorflow\\python\\util\\dispatch.py:1176: SyntaxWarning: In loss categorical_crossentropy, expected y_pred.shape to be (batch_size, num_classes) with num_classes > 1. Received: y_pred.shape=(None, 1). Consider using 'binary_crossentropy' if you only have 2 classes.\n",
      "  return dispatch_target(*args, **kwargs)\n"
     ]
    },
    {
     "name": "stdout",
     "output_type": "stream",
     "text": [
      "114/114 [==============================] - 1251s 11s/step - loss: 0.0000e+00 - accuracy: 0.4926 - val_loss: 0.0000e+00 - val_accuracy: 0.5219\n",
      "Epoch 2/3\n",
      "114/114 [==============================] - 1193s 10s/step - loss: 0.0000e+00 - accuracy: 0.4846 - val_loss: 0.0000e+00 - val_accuracy: 0.5222\n",
      "Epoch 3/3\n",
      "114/114 [==============================] - 1092s 10s/step - loss: 0.0000e+00 - accuracy: 0.4951 - val_loss: 0.0000e+00 - val_accuracy: 0.5236\n",
      "Found 3670 images belonging to 2 classes.\n",
      "114/114 [==============================] - 550s 5s/step - loss: 0.0000e+00 - accuracy: 0.5222\n",
      "Test loss: 0.0\n",
      "Test accuracy: 0.5222039222717285\n"
     ]
    }
   ],
   "source": [
    "from tensorflow.keras.applications import InceptionV3, MobileNet\n",
    "from tensorflow.keras.preprocessing.image import ImageDataGenerator\n",
    "from tensorflow.keras.models import Sequential\n",
    "from tensorflow.keras.layers import Dense, GlobalAveragePooling2D\n",
    "\n",
    "num_classes = 2\n",
    "input_size = (299, 299)  # InceptionV3 input size\n",
    "\n",
    "# Load the InceptionV3 or MobileNet model trained on ImageNet data\n",
    "base_model = InceptionV3(weights='imagenet', include_top=False, input_shape=(input_size[0], input_size[1], 3))\n",
    "# base_model = MobileNet(weights='imagenet', include_top=False, input_shape=(input_size[0], input_size[1], 3))\n",
    "\n",
    "# Freeze the layers in the base model\n",
    "for layer in base_model.layers:\n",
    "    layer.trainable = False\n",
    "\n",
    "# Create a new model on top\n",
    "# Create a new model on top\n",
    "model = Sequential([\n",
    "    base_model,\n",
    "    GlobalAveragePooling2D(),\n",
    "    Dense(256, activation='relu'),\n",
    "    Dense(1, activation='sigmoid')  # Use 'sigmoid' for binary classification\n",
    "])\n",
    "\n",
    "# Compile the model\n",
    "  # 'num_classes' should be the number of classes in your dataset\n",
    "\n",
    "# Compile the model\n",
    "model.compile(optimizer='adam', loss='categorical_crossentropy', metrics=['accuracy'])\n",
    "\n",
    "# Data augmentation for the training set\n",
    "# No data augmentation for validation and test sets\n",
    "train_datagen = ImageDataGenerator(rescale=1. / 255,\n",
    "                                   shear_range=0.2,\n",
    "                                   zoom_range=0.2,\n",
    "                                   horizontal_flip=True)\n",
    "\n",
    "# No data augmentation for validation and test sets\n",
    "test_datagen = ImageDataGenerator(rescale=1. / 255)\n",
    "\n",
    "# Load and prepare the data\n",
    "training_set= train_datagen.flow_from_directory(train_data_dir,\n",
    "                                                    target_size=(img_width, img_height),\n",
    "                                                    batch_size=batch_size,\n",
    "                                                    class_mode='binary')  # for binary classification, adjust for multi-class\n",
    "\n",
    "validation_generator = test_datagen.flow_from_directory(validation_data_dir,\n",
    "                                                        target_size=(img_width, img_height),\n",
    "                                                        batch_size=batch_size,\n",
    "                                                        class_mode='binary')  # for binary classification, adjust for multi-class\n",
    "\n",
    "# Train the model\n",
    "history = model.fit(train_generator,\n",
    "                    steps_per_epoch=train_generator.samples // batch_size,\n",
    "                    epochs=epochs,\n",
    "                    validation_data=validation_generator,\n",
    "                    validation_steps=validation_generator.samples // batch_size)\n",
    "\n",
    "# Evaluate the model on the test set\n",
    "test_set = test_datagen.flow_from_directory(test_data_dir,\n",
    "                                                  target_size=(img_width, img_height),\n",
    "                                                  batch_size=batch_size,\n",
    "                                                  class_mode='binary')  # for binary classification, adjust for multi-class\n",
    "\n",
    "eval_result = model.evaluate(test_generator, steps=test_generator.samples // batch_size)\n",
    "print(\"Test loss:\", eval_result[0])\n",
    "print(\"Test accuracy:\", eval_result[1])\n"
   ]
  },
  {
   "cell_type": "code",
   "execution_count": 15,
   "id": "bb37fd66",
   "metadata": {},
   "outputs": [
    {
     "name": "stdout",
     "output_type": "stream",
     "text": [
      "Model: \"sequential_1\"\n",
      "_________________________________________________________________\n",
      " Layer (type)                Output Shape              Param #   \n",
      "=================================================================\n",
      " inception_v3 (Functional)   (None, 8, 8, 2048)        21802784  \n",
      "                                                                 \n",
      " global_average_pooling2d (  (None, 2048)              0         \n",
      " GlobalAveragePooling2D)                                         \n",
      "                                                                 \n",
      " dense_4 (Dense)             (None, 256)               524544    \n",
      "                                                                 \n",
      " dense_5 (Dense)             (None, 1)                 257       \n",
      "                                                                 \n",
      "=================================================================\n",
      "Total params: 22327585 (85.17 MB)\n",
      "Trainable params: 524801 (2.00 MB)\n",
      "Non-trainable params: 21802784 (83.17 MB)\n",
      "_________________________________________________________________\n"
     ]
    }
   ],
   "source": [
    "model.summary()"
   ]
  },
  {
   "cell_type": "code",
   "execution_count": 16,
   "id": "f51506ad",
   "metadata": {},
   "outputs": [],
   "source": [
    "from glob import glob\n",
    "\n",
    "\n",
    "folders=glob('C:\\\\Users\\\\hp\\\\OneDrive\\\\Practices')\n",
    "\n"
   ]
  },
  {
   "cell_type": "code",
   "execution_count": 17,
   "id": "02c1a24b",
   "metadata": {},
   "outputs": [
    {
     "data": {
      "text/plain": [
       "1"
      ]
     },
     "execution_count": 17,
     "metadata": {},
     "output_type": "execute_result"
    }
   ],
   "source": [
    "len(folders)\n"
   ]
  },
  {
   "cell_type": "code",
   "execution_count": 18,
   "id": "b4ade398",
   "metadata": {},
   "outputs": [
    {
     "name": "stdout",
     "output_type": "stream",
     "text": [
      "Epoch 1/5\n",
      "115/115 [==============================] - 940s 8s/step - loss: 0.0000e+00 - accuracy: 0.4967 - val_loss: 0.0000e+00 - val_accuracy: 0.5232\n",
      "Epoch 2/5\n",
      "115/115 [==============================] - 1116s 10s/step - loss: 0.0000e+00 - accuracy: 0.5005 - val_loss: 0.0000e+00 - val_accuracy: 0.5232\n",
      "Epoch 3/5\n",
      "115/115 [==============================] - 839s 7s/step - loss: 0.0000e+00 - accuracy: 0.4856 - val_loss: 0.0000e+00 - val_accuracy: 0.5232\n",
      "Epoch 4/5\n",
      "115/115 [==============================] - 603s 5s/step - loss: 0.0000e+00 - accuracy: 0.4997 - val_loss: 0.0000e+00 - val_accuracy: 0.5232\n",
      "Epoch 5/5\n",
      "115/115 [==============================] - 695s 6s/step - loss: 0.0000e+00 - accuracy: 0.4924 - val_loss: 0.0000e+00 - val_accuracy: 0.5232\n"
     ]
    }
   ],
   "source": [
    "r = model.fit(\n",
    " training_set,\n",
    " validation_data=test_set,\n",
    " epochs=5,\n",
    " steps_per_epoch=len(training_set),\n",
    " validation_steps=len(test_set)\n",
    ")"
   ]
  },
  {
   "cell_type": "code",
   "execution_count": 19,
   "id": "1037ea17",
   "metadata": {},
   "outputs": [
    {
     "data": {
      "image/png": "[encoded data removed]",
      "text/plain": [
       "<Figure size 640x480 with 1 Axes>"
      ]
     },
     "metadata": {},
     "output_type": "display_data"
    },
    {
     "data": {
      "text/plain": [
       "<Figure size 640x480 with 0 Axes>"
      ]
     },
     "metadata": {},
     "output_type": "display_data"
    }
   ],
   "source": [
    "import matplotlib.pyplot as plt\n",
    "\n",
    "\n",
    "plt.title('vgg16-Train & Test Loss')\n",
    "plt.plot(r.history['loss'],label='train_loss')\n",
    "plt.plot(r.history['val_loss'],label='val_loss')\n",
    "plt.xlabel('Epochs')\n",
    "plt.ylabel('Train-Test- Loss')\n",
    "plt.grid()\n",
    "plt.legend()\n",
    "plt.show()\n",
    "plt.savefig('vgg16--Loss & Val_loss')"
   ]
  },
  {
   "cell_type": "code",
   "execution_count": 20,
   "id": "0fce7667",
   "metadata": {},
   "outputs": [
    {
     "data": {
      "image/png": "[encoded data removed]",
      "text/plain": [
       "<Figure size 640x480 with 1 Axes>"
      ]
     },
     "metadata": {},
     "output_type": "display_data"
    },
    {
     "data": {
      "text/plain": [
       "<Figure size 640x480 with 0 Axes>"
      ]
     },
     "metadata": {},
     "output_type": "display_data"
    }
   ],
   "source": [
    "#Accuracy\n",
    "plt.title('resnet50-Train & Test Accuracy')\n",
    "plt.plot(r.history['accuracy'],label='train_accuracy')\n",
    "plt.plot(r.history['val_accuracy'],label='val_accuracy')\n",
    "plt.xlabel('Epochs')\n",
    "plt.ylabel('Train-Test- Accuracy')\n",
    "plt.grid()\n",
    "plt.legend()\n",
    "plt.show()\n",
    "plt.savefig('resnet50--Accuracy & Val_accuracy')"
   ]
  },
  {
   "cell_type": "code",
   "execution_count": 21,
   "id": "30bb4c3d",
   "metadata": {},
   "outputs": [
    {
     "name": "stdout",
     "output_type": "stream",
     "text": [
      "115/115 [==============================] - 439s 4s/step\n",
      "Confusion Matrix\n",
      "[[   0    0]\n",
      " [3670    0]]\n",
      "====================================================================================================\n",
      "Classification Report\n",
      "              precision    recall  f1-score   support\n",
      "\n",
      "         cat       0.00      0.00      0.00       0.0\n",
      "         dog       0.00      0.00      0.00    3670.0\n",
      "\n",
      "    accuracy                           0.00    3670.0\n",
      "   macro avg       0.00      0.00      0.00    3670.0\n",
      "weighted avg       0.00      0.00      0.00    3670.0\n",
      "\n",
      "====================================================================================================\n",
      "Accuracy Score\n",
      "0.0\n"
     ]
    },
    {
     "name": "stderr",
     "output_type": "stream",
     "text": [
      "C:\\Users\\hp\\anaconda3\\envs\\new_env\\lib\\site-packages\\sklearn\\metrics\\_classification.py:1469: UndefinedMetricWarning: Precision and F-score are ill-defined and being set to 0.0 in labels with no predicted samples. Use `zero_division` parameter to control this behavior.\n",
      "  _warn_prf(average, modifier, msg_start, len(result))\n",
      "C:\\Users\\hp\\anaconda3\\envs\\new_env\\lib\\site-packages\\sklearn\\metrics\\_classification.py:1469: UndefinedMetricWarning: Recall and F-score are ill-defined and being set to 0.0 in labels with no true samples. Use `zero_division` parameter to control this behavior.\n",
      "  _warn_prf(average, modifier, msg_start, len(result))\n",
      "C:\\Users\\hp\\anaconda3\\envs\\new_env\\lib\\site-packages\\sklearn\\metrics\\_classification.py:1469: UndefinedMetricWarning: Precision and F-score are ill-defined and being set to 0.0 in labels with no predicted samples. Use `zero_division` parameter to control this behavior.\n",
      "  _warn_prf(average, modifier, msg_start, len(result))\n",
      "C:\\Users\\hp\\anaconda3\\envs\\new_env\\lib\\site-packages\\sklearn\\metrics\\_classification.py:1469: UndefinedMetricWarning: Recall and F-score are ill-defined and being set to 0.0 in labels with no true samples. Use `zero_division` parameter to control this behavior.\n",
      "  _warn_prf(average, modifier, msg_start, len(result))\n",
      "C:\\Users\\hp\\anaconda3\\envs\\new_env\\lib\\site-packages\\sklearn\\metrics\\_classification.py:1469: UndefinedMetricWarning: Precision and F-score are ill-defined and being set to 0.0 in labels with no predicted samples. Use `zero_division` parameter to control this behavior.\n",
      "  _warn_prf(average, modifier, msg_start, len(result))\n",
      "C:\\Users\\hp\\anaconda3\\envs\\new_env\\lib\\site-packages\\sklearn\\metrics\\_classification.py:1469: UndefinedMetricWarning: Recall and F-score are ill-defined and being set to 0.0 in labels with no true samples. Use `zero_division` parameter to control this behavior.\n",
      "  _warn_prf(average, modifier, msg_start, len(result))\n"
     ]
    }
   ],
   "source": [
    "import numpy as np\n",
    "\n",
    "from sklearn.metrics import confusion_matrix,classification_report,accuracy_score\n",
    "ypred=model.predict(test_set,100//5)\n",
    "ypred=np.argmax(ypred,axis=1)\n",
    "print('Confusion Matrix')\n",
    "print(confusion_matrix(test_set.classes,ypred))\n",
    "print('='*100)\n",
    "print('Classification Report')\n",
    "print(classification_report(test_set.classes,ypred,target_names=['cat','dog']))\n",
    "print('='*100)\n",
    "print('Accuracy Score')\n",
    "print(accuracy_score(test_set.classes,ypred))"
   ]
  },
  {
   "cell_type": "code",
   "execution_count": 22,
   "id": "2a75cabd",
   "metadata": {},
   "outputs": [
    {
     "data": {
      "text/plain": [
       "<Axes: >"
      ]
     },
     "execution_count": 22,
     "metadata": {},
     "output_type": "execute_result"
    },
    {
     "data": {
      "image/png": "[encoded data removed]",
      "text/plain": [
       "<Figure size 640x480 with 2 Axes>"
      ]
     },
     "metadata": {},
     "output_type": "display_data"
    }
   ],
   "source": [
    "import seaborn as sns\n",
    "sns.heatmap(confusion_matrix(test_set.classes,ypred),annot=True,xticklabels=['cat','dog'],\n",
    " yticklabels=['cat','dog'])"
   ]
  },
  {
   "cell_type": "code",
   "execution_count": null,
   "id": "67bb8c88",
   "metadata": {},
   "outputs": [],
   "source": []
  },
  {
   "cell_type": "code",
   "execution_count": null,
   "id": "28cb85dd",
   "metadata": {},
   "outputs": [],
   "source": []
  },
  {
   "cell_type": "code",
   "execution_count": null,
   "id": "625106b7",
   "metadata": {},
   "outputs": [],
   "source": [
    " "
   ]
  },
  {
   "cell_type": "code",
   "execution_count": null,
   "id": "8b0b9347",
   "metadata": {},
   "outputs": [],
   "source": []
  }
 ],
 "metadata": {
  "kernelspec": {
   "display_name": "Python 3 (ipykernel)",
   "language": "python",
   "name": "python3"
  },
  "language_info": {
   "codemirror_mode": {
    "name": "ipython",
    "version": 3
   },
   "file_extension": ".py",
   "mimetype": "text/x-python",
   "name": "python",
   "nbconvert_exporter": "python",
   "pygments_lexer": "ipython3",
   "version": "3.8.18"
  }
 },
 "nbformat": 4,
 "nbformat_minor": 5
}
