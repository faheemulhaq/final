{
 "cells": [
  {
   "cell_type": "markdown",
   "id": "a98de4fd",
   "metadata": {},
   "source": [
    "# 1. Write a python program with Exception handling to input marks for five subjects Physics, Chemistry, Biology, Mathematics, and Computer. Calculate the percentage and grade according to the following:\n",
    "\n",
    "i)  Percentage >= 90%: Grade A\n",
    "\n",
    "ii)  Percentage >= 80%: Grade B\n",
    "\n",
    "iii) Percentage >= 70% : Grade C\n",
    "\n",
    "iv) Percentage >= 60%: Grade D\n",
    "\n",
    "v)  Percentage >= 40%: Grade E\n",
    "\n",
    "vi) Percentage < 40%: Grade F"
   ]
  },
  {
   "cell_type": "code",
   "execution_count": null,
   "id": "0da22043",
   "metadata": {},
   "outputs": [],
   "source": [
    "import sys\n",
    "\n",
    "def get_marks(subject_name):\n",
    "    while True:\n",
    "        try:\n",
    "            marks = int(input(f\"Enter {subject_name} marks: \"))\n",
    "            if marks < 0:\n",
    "                raise ValueError(\"Value should not be less than Zero. and Please enter marks greater than are equal to zeo\")\n",
    "            return marks\n",
    "            break\n",
    "        except ValueError as e:\n",
    "            print(e)\n",
    "\n",
    "Physics = get_marks(\"physics\")\n",
    "Chemistry = get_marks(\"chemistry\")\n",
    "Biology = get_marks(\"biology\")\n",
    "Mathematics = get_marks(\"mathematics\")\n",
    "Computer = get_marks(\"computer\")\n",
    "\n",
    "total_subject_Std_got = Physics + Chemistry + Biology + Mathematics + Computer\n",
    "total_subj_marks = 500\n",
    "\n",
    "percentage = (total_subject_Std_got / total_subj_marks) * 100\n",
    "\n",
    "try:\n",
    "    if percentage >= 90:\n",
    "        print(\"Grade A\")\n",
    "    elif percentage >= 80:\n",
    "        print(\"Grade B\")\n",
    "    elif percentage >= 70:\n",
    "        print(\"Grade C\")\n",
    "    elif percentage >= 60:\n",
    "        print(\"Grade D\")\n",
    "    elif percentage >= 40:\n",
    "        print(\"Grade E\")\n",
    "    else:\n",
    "        print(\"Grade F\")\n",
    "except Exception as e:\n",
    "    print(sys.exc_info()[1])\n"
   ]
  },
  {
   "cell_type": "markdown",
   "id": "a29bd006",
   "metadata": {},
   "source": [
    "# 2. Write a python program with Exception handling to input electricity unit charges and calculate the total electricity bill according to the given condition:\n",
    "\n",
    "i) For the first 50 units Rs. 0.50/unit\n",
    "\n",
    "ii) For the next 100 units Rs. 0.75/unit\n",
    "\n",
    "iii) For the next 100 units Rs. 1.20/unit\n",
    "\n",
    "iv) For units above 250 Rs. 1.50/unit\n",
    "\n",
    "v) An additional surcharge of 20% is added to the bill."
   ]
  },
  {
   "cell_type": "code",
   "execution_count": 4,
   "id": "6e761443",
   "metadata": {},
   "outputs": [
    {
     "name": "stdout",
     "output_type": "stream",
     "text": [
      "Enter the electricity unit charges: -90\n",
      "Units cannot be negative. Please enter a valid number.\n",
      "Enter the electricity unit charges: 99\n",
      "Total electricity bill (including 20% surcharge): Rs. 74.10\n"
     ]
    }
   ],
   "source": [
    "def calculate_bill(units):\n",
    "    if units <= 50:\n",
    "        return units * 0.50\n",
    "    elif units <= 150:\n",
    "        return (50 * 0.50) + ((units - 50) * 0.75)\n",
    "    elif units <= 250:\n",
    "        return (50 * 0.50) + (100 * 0.75) + ((units - 150) * 1.20)\n",
    "    else:\n",
    "        return (50 * 0.50) + (100 * 0.75) + (100 * 1.20) + ((units - 250) * 1.50)\n",
    "\n",
    "def main():\n",
    "    while True:\n",
    "        try:\n",
    "            units = float(input(\"Enter the electricity unit charges: \"))\n",
    "            \n",
    "            # Ensure entered units aren't negative\n",
    "            if units < 0:\n",
    "                raise ValueError(\"Units cannot be negative. Please enter a valid number.\")\n",
    "            \n",
    "            # Calculate bill and surcharge\n",
    "            bill = calculate_bill(units)\n",
    "            bill_with_surcharge = bill + (0.20 * bill)\n",
    "            \n",
    "            print(f\"Total electricity bill (including 20% surcharge): Rs. {bill_with_surcharge:.2f}\")\n",
    "            break\n",
    "        \n",
    "        except ValueError as e:\n",
    "            print(e)\n",
    "\n",
    "\n",
    "main()\n"
   ]
  },
  {
   "cell_type": "markdown",
   "id": "24460c30",
   "metadata": {},
   "source": [
    "# 3. Write a python program with Exception handling to input the week number and print the weekday."
   ]
  },
  {
   "cell_type": "code",
   "execution_count": 7,
   "id": "522b2901",
   "metadata": {},
   "outputs": [
    {
     "name": "stdout",
     "output_type": "stream",
     "text": [
      "Enter a week number from 1-7 :7\n",
      "The day of the 7 is Sunday\n"
     ]
    }
   ],
   "source": [
    "def get_day_with_number(week_number):\n",
    "    dict={\n",
    "        1:\"Monday\",\n",
    "        2:\"Tuesday\",\n",
    "        3:\"Wednesday\",\n",
    "        4:\"Thursday\",\n",
    "        5:\"Friday\",\n",
    "        6:\"saturday\",\n",
    "        7:\"Sunday\"\n",
    "        \n",
    "    }\n",
    "    return dict.get(week_number,None)\n",
    "def main():\n",
    "    while True:\n",
    "        try:\n",
    "            week_number=int(input(\"Enter a week number from 1-7 :\"))\n",
    "            if 1<=week_number<=7:\n",
    "                print(f\"The day of the {week_number} is {get_day_with_number(week_number)}\")\n",
    "                break\n",
    "            else:\n",
    "                raise ValueError(\"Please Enter from 1 to 7 week numbers to get weekday,try-again\")\n",
    "        except ValueError as e:\n",
    "            print(e)\n",
    "main()"
   ]
  },
  {
   "cell_type": "markdown",
   "id": "881765ae",
   "metadata": {},
   "source": [
    "# 5. Write a Python program for finding the most frequent words in a text read from a file.\n",
    "\n",
    "i) Initially open the text file in read mode.\n",
    "\n",
    "ii) Make all the letters in the document into lowercase letters and split the words in each\n",
    "\n",
    "line.\n",
    "\n",
    "iii) Get the words in an order.\n",
    "\n",
    "iv) Sort the words for finding the most frequent words in the file.\n",
    "\n",
    "iii) Python-Practice Exercise\n",
    "\n",
    "v) Print the most frequent words in the file."
   ]
  },
  {
   "cell_type": "code",
   "execution_count": null,
   "id": "433913e1",
   "metadata": {},
   "outputs": [],
   "source": [
    "from collections import Counter\n",
    "\n",
    "def most_frequent_words(file_path):\n",
    "    try:\n",
    "        # Open the text file in read mode\n",
    "        with open(file_path, 'r') as file:\n",
    "            # Read the file contents and convert to lowercase\n",
    "            text = file.read().lower()\n",
    "\n",
    "            # Split the text into words\n",
    "            words = text.split()\n",
    "\n",
    "            # Count the frequency of each word using Counter\n",
    "            word_counts = Counter(words)\n",
    "\n",
    "            # Sort the words by frequency (most frequent first)\n",
    "            sorted_words = sorted(word_counts.items(), key=lambda x: x[1], reverse=True)\n",
    "\n",
    "            return sorted_words\n",
    "\n",
    "    except FileNotFoundError:\n",
    "        print(\"Error: File not found.\")\n",
    "    except Exception as e:\n",
    "        print(f\"Error: {e}\")\n",
    "\n",
    "if _name_ == \"__main__\":\n",
    "    file_path = \"sample.txt\"  # Replace with the path to your text file\n",
    "    result = most_frequent_words(file_path)\n",
    "\n",
    "    if result:\n",
    "        print(\"Most frequent words in the file:\")\n",
    "        for word, count in result:\n",
    "            print(f\"{word}: {count}\")"
   ]
  },
  {
   "cell_type": "code",
   "execution_count": null,
   "id": "dfee0aa8",
   "metadata": {},
   "outputs": [],
   "source": []
  },
  {
   "cell_type": "code",
   "execution_count": null,
   "id": "3d91bca1",
   "metadata": {},
   "outputs": [],
   "source": []
  }
 ],
 "metadata": {
  "kernelspec": {
   "display_name": "Python 3 (ipykernel)",
   "language": "python",
   "name": "python3"
  },
  "language_info": {
   "codemirror_mode": {
    "name": "ipython",
    "version": 3
   },
   "file_extension": ".py",
   "mimetype": "text/x-python",
   "name": "python",
   "nbconvert_exporter": "python",
   "pygments_lexer": "ipython3",
   "version": "3.8.17"
  }
 },
 "nbformat": 4,
 "nbformat_minor": 5
}
