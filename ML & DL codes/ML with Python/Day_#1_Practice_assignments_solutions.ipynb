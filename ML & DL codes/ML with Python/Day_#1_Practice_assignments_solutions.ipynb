{
 "cells": [
  {
   "cell_type": "markdown",
   "id": "e4964de9",
   "metadata": {},
   "source": [
    "# 1.Manipulate using list.\n",
    "i)  To add new elements to the end of the list.\n",
    "ii) To reverse elements in the list.\n",
    "iii) To display the same list of elements multiple times.\n",
    "iv)  To concatenate two list\n",
    "v)  To sort the elements in the list in ascending order.\n"
   ]
  },
  {
   "cell_type": "code",
   "execution_count": 8,
   "id": "59d0fbb5",
   "metadata": {},
   "outputs": [
    {
     "name": "stdout",
     "output_type": "stream",
     "text": [
      "Before adding new elements\n",
      "[1, 9, 32, 1, 2]\n",
      "After adding new elements\n",
      "[1, 9, 32, 1, 2, 99]\n"
     ]
    }
   ],
   "source": [
    "#i) To add new elements to the end of the list.\n",
    "lst=[1,9,32,1,2]\n",
    "print(\"Before adding new elements\")\n",
    "print(lst)\n",
    "lst.append(99)\n",
    "print(\"After adding new elements\")\n",
    "print(lst)"
   ]
  },
  {
   "cell_type": "code",
   "execution_count": 13,
   "id": "f990b6e7",
   "metadata": {},
   "outputs": [
    {
     "name": "stdout",
     "output_type": "stream",
     "text": [
      "[2, 1, 32, 9, 1]\n",
      "[2, 1, 32, 9, 1]\n"
     ]
    }
   ],
   "source": [
    "#  ii) To reverse elements in the list.\n",
    "lst=[1,9,32,1,2]\n",
    "\n",
    "# process 1\n",
    "print(lst[::-1])\n",
    "\n",
    "# process 2\n",
    "lst.reverse()\n",
    "print(lst)\n"
   ]
  },
  {
   "cell_type": "code",
   "execution_count": 17,
   "id": "5416d3fe",
   "metadata": {},
   "outputs": [
    {
     "name": "stdout",
     "output_type": "stream",
     "text": [
      "[1, 9, 32, 1, 2, 1, 9, 32, 1, 2, 1, 9, 32, 1, 2, 1, 9, 32, 1, 2, 1, 9, 32, 1, 2]\n"
     ]
    }
   ],
   "source": [
    "# iii) To display the same list of elements multiple times.\n",
    "lst=[1,9,32,1,2]\n",
    "print(lst*5)"
   ]
  },
  {
   "cell_type": "code",
   "execution_count": 26,
   "id": "5ce1a267",
   "metadata": {},
   "outputs": [
    {
     "name": "stdout",
     "output_type": "stream",
     "text": [
      "[1, 2, 3, 4, 5, 6, 7, 8]\n"
     ]
    }
   ],
   "source": [
    "# iv) To concatenate two list\n",
    "l1=[1,2,3,4]\n",
    "l2=[5,6,7,8]\n",
    "print(l1+l2)\n",
    "\n"
   ]
  },
  {
   "cell_type": "code",
   "execution_count": 23,
   "id": "bf561e48",
   "metadata": {},
   "outputs": [
    {
     "name": "stdout",
     "output_type": "stream",
     "text": [
      "[1, 1, 2, 9, 32]\n"
     ]
    }
   ],
   "source": [
    "# v) To sort the elements in the list in ascending order.\n",
    "lst=[1,9,32,1,2]\n",
    "lst.sort()\n",
    "print(lst)"
   ]
  },
  {
   "cell_type": "markdown",
   "id": "c2efac6a",
   "metadata": {},
   "source": [
    "# Write a python program to do in the Tuples\n",
    "i)  Manipulate using tuples\n",
    "ii) To add new elements to the end of the tuples\n",
    "iii) To reverse elements in the tuple\n",
    "iv) To display the elements of the same tuple multiple times.\n",
    "v) To concatenate two tulples.\n",
    "vi) To sort the elements in the list in ascending order."
   ]
  },
  {
   "cell_type": "code",
   "execution_count": 27,
   "id": "e70df754",
   "metadata": {},
   "outputs": [
    {
     "ename": "AttributeError",
     "evalue": "'tuple' object has no attribute 'append'",
     "output_type": "error",
     "traceback": [
      "\u001b[1;31m---------------------------------------------------------------------------\u001b[0m",
      "\u001b[1;31mAttributeError\u001b[0m                            Traceback (most recent call last)",
      "Cell \u001b[1;32mIn[27], line 4\u001b[0m\n\u001b[0;32m      1\u001b[0m \u001b[38;5;66;03m#  i)  Manipulate using tuples\u001b[39;00m\n\u001b[0;32m      2\u001b[0m \u001b[38;5;66;03m# ii) To add new elements to the end of the tuples\u001b[39;00m\n\u001b[0;32m      3\u001b[0m t\u001b[38;5;241m=\u001b[39m(\u001b[38;5;241m1\u001b[39m,\u001b[38;5;241m9\u001b[39m,\u001b[38;5;241m2\u001b[39m,\u001b[38;5;241m5\u001b[39m,\u001b[38;5;241m6\u001b[39m)\n\u001b[1;32m----> 4\u001b[0m \u001b[43mt\u001b[49m\u001b[38;5;241;43m.\u001b[39;49m\u001b[43mappend\u001b[49m(\u001b[38;5;241m4\u001b[39m)\n\u001b[0;32m      5\u001b[0m \u001b[38;5;28mprint\u001b[39m(t)\n",
      "\u001b[1;31mAttributeError\u001b[0m: 'tuple' object has no attribute 'append'"
     ]
    }
   ],
   "source": [
    "#  i)  Manipulate using tuples\n",
    "# ii) To add new elements to the end of the tuples\n",
    "t=(1,9,2,5,6)\n",
    "t.append(4)\n",
    "print(t)   #We can't add elements in tuple because tuple is immutable."
   ]
  },
  {
   "cell_type": "code",
   "execution_count": 35,
   "id": "2a4a7d81",
   "metadata": {},
   "outputs": [
    {
     "name": "stdout",
     "output_type": "stream",
     "text": [
      "(6, 5, 2, 9, 1)\n"
     ]
    }
   ],
   "source": [
    "# iii) To reverse elements in the tuple\n",
    "t=(1,9,2,5,6)\n",
    "\n",
    "print(t[::-1])\n"
   ]
  },
  {
   "cell_type": "code",
   "execution_count": 36,
   "id": "4b5f5db4",
   "metadata": {},
   "outputs": [
    {
     "name": "stdout",
     "output_type": "stream",
     "text": [
      "(2, 1, 3, 42, 56, 8, 2, 1, 3, 42, 56, 8)\n"
     ]
    }
   ],
   "source": [
    "# iv) To display the elements of the same tuple multiple times.\n",
    "t=(2,1,3,42,56,8)\n",
    "print(t*2)"
   ]
  },
  {
   "cell_type": "code",
   "execution_count": 39,
   "id": "541a1a8b",
   "metadata": {},
   "outputs": [
    {
     "name": "stdout",
     "output_type": "stream",
     "text": [
      "(1, 2, 4, 5, 6, 7, 8, 9, 0, 2)\n"
     ]
    }
   ],
   "source": [
    "# v) To concatenate two tulples.\n",
    "t=(1,2,4,5,6)\n",
    "t2=(7,8,9,0,2)\n",
    "print(t+t2)"
   ]
  },
  {
   "cell_type": "code",
   "execution_count": 45,
   "id": "34b943e6",
   "metadata": {},
   "outputs": [
    {
     "name": "stdout",
     "output_type": "stream",
     "text": [
      "[0, 2, 7, 8, 9]\n"
     ]
    }
   ],
   "source": [
    "# vi) To sort the elements in the list in ascending order.\n",
    "t=(7,8,9,0,2)\n",
    "t1=sorted(t)\n",
    "print(t1)"
   ]
  },
  {
   "cell_type": "markdown",
   "id": "b617ba79",
   "metadata": {},
   "source": [
    "# 3. Write a python program to implement the following using list.\n",
    "\n",
    "i)   Create a list with integers (minimum 10 numbers)\n",
    "\n",
    "ii)  How to display the last number in the list\n",
    "\n",
    "iii) Command for displaying the values from the list [0:4]\n",
    "\n",
    "iv)  Command for displaying the values from the list [2:]\n",
    "\n",
    "v)  Command for displaying the values from the list[:6]"
   ]
  },
  {
   "cell_type": "code",
   "execution_count": 54,
   "id": "1b18a97e",
   "metadata": {},
   "outputs": [
    {
     "name": "stdout",
     "output_type": "stream",
     "text": [
      "[1, 2, 3, 4, 5, 6, 7, 8, 9, 10]\n"
     ]
    }
   ],
   "source": [
    "# i)   Create a list with integers (minimum 10 numbers)\n",
    "n=10\n",
    "#first process\n",
    "l=[i for i in range(1,n+1)]\n",
    "print(l)"
   ]
  },
  {
   "cell_type": "code",
   "execution_count": 56,
   "id": "0fcfddcc",
   "metadata": {},
   "outputs": [
    {
     "name": "stdout",
     "output_type": "stream",
     "text": [
      "10\n"
     ]
    }
   ],
   "source": [
    "# ii)  How to display the last number in the list\n",
    "l=[1,2,3,9,2,80,10]\n",
    "print(l[-1])"
   ]
  },
  {
   "cell_type": "code",
   "execution_count": 57,
   "id": "ffa67ed7",
   "metadata": {},
   "outputs": [
    {
     "name": "stdout",
     "output_type": "stream",
     "text": [
      "[1, 2, 3, 9]\n"
     ]
    }
   ],
   "source": [
    "# iii) Command for displaying the values from the list [0:4]\n",
    "l=[1,2,3,9,2,80,10]\n",
    "print(l[0:4])"
   ]
  },
  {
   "cell_type": "code",
   "execution_count": 58,
   "id": "3a873a2a",
   "metadata": {},
   "outputs": [
    {
     "name": "stdout",
     "output_type": "stream",
     "text": [
      "[3, 9, 2, 80, 10]\n"
     ]
    }
   ],
   "source": [
    "# iv)  Command for displaying the values from the list [2:]\n",
    "l=[1,2,3,9,2,80,10]\n",
    "print(l[2:])"
   ]
  },
  {
   "cell_type": "code",
   "execution_count": 60,
   "id": "ab60dcdc",
   "metadata": {},
   "outputs": [
    {
     "name": "stdout",
     "output_type": "stream",
     "text": [
      "[1, 2, 3, 9, 2, 80]\n"
     ]
    }
   ],
   "source": [
    "# v)  Command for displaying the values from the list[:6]\n",
    "l=[1,2,3,9,2,80,10,11,2,3,5]\n",
    "print(l[:6])"
   ]
  },
  {
   "cell_type": "markdown",
   "id": "058cb299",
   "metadata": {},
   "source": [
    "# 4. Write a Python program: tuple1 = (10,50,20,40,30)\n",
    "\n",
    "i) To display the elements 10 and 50 from tuple1\n",
    "\n",
    "ii) To display the length of a tuple1.\n",
    "\n",
    "iii) To find the minimum element from tuple1. \n",
    "\n",
    "iv) To add all elements in the tuple1.\n",
    "\n",
    "v) To display the same tuple1 multiple times.\n"
   ]
  },
  {
   "cell_type": "code",
   "execution_count": 61,
   "id": "73faaa37",
   "metadata": {},
   "outputs": [
    {
     "name": "stdout",
     "output_type": "stream",
     "text": [
      "(10, 50)\n"
     ]
    }
   ],
   "source": [
    "# i) To display the elements 10 and 50 from tuple1\n",
    "tuple1 = (10,50,20,40,30)\n",
    "print(tuple1[:2])"
   ]
  },
  {
   "cell_type": "code",
   "execution_count": 62,
   "id": "ee65b169",
   "metadata": {},
   "outputs": [
    {
     "data": {
      "text/plain": [
       "5"
      ]
     },
     "execution_count": 62,
     "metadata": {},
     "output_type": "execute_result"
    }
   ],
   "source": [
    "# ii) To display the length of a tuple1.\n",
    "\n",
    "len(tuple1)"
   ]
  },
  {
   "cell_type": "code",
   "execution_count": 63,
   "id": "f4d6142c",
   "metadata": {},
   "outputs": [
    {
     "name": "stdout",
     "output_type": "stream",
     "text": [
      "10\n"
     ]
    }
   ],
   "source": [
    "# iii) To find the minimum element from tuple1. \n",
    "\n",
    "print(min(tuple1))"
   ]
  },
  {
   "cell_type": "code",
   "execution_count": 65,
   "id": "86bf4a11",
   "metadata": {},
   "outputs": [
    {
     "name": "stdout",
     "output_type": "stream",
     "text": [
      "150\n"
     ]
    }
   ],
   "source": [
    "# iv) To add all elements in the tuple1.\n",
    "\n",
    "print(sum(tuple1))"
   ]
  },
  {
   "cell_type": "code",
   "execution_count": 67,
   "id": "dba96f1c",
   "metadata": {},
   "outputs": [
    {
     "name": "stdout",
     "output_type": "stream",
     "text": [
      "(10, 50, 20, 40, 30, 10, 50, 20, 40, 30, 10, 50, 20, 40, 30)\n"
     ]
    }
   ],
   "source": [
    "# v) To display the same tuple1 multiple times.\n",
    "n=3\n",
    "print(tuple1*n)"
   ]
  },
  {
   "cell_type": "markdown",
   "id": "e8db393f",
   "metadata": {},
   "source": [
    "# 5. Write a Python program:\n",
    "\n",
    "i) To calculate the length of a string\n",
    "\n",
    "ii) To reverse words in a string\n",
    "\n",
    "iii) To display the same string multiple times\n",
    "\n",
    "iv) To concatenate two strings\n",
    "\n",
    "v) Str1=\"South India\", using string slicing to display \"India\""
   ]
  },
  {
   "cell_type": "code",
   "execution_count": 71,
   "id": "1eb2b061",
   "metadata": {},
   "outputs": [
    {
     "name": "stdout",
     "output_type": "stream",
     "text": [
      "29\n"
     ]
    }
   ],
   "source": [
    "# i) To calculate the length of a string\n",
    "s=\"Mphasis Learning Academy MLA \"\n",
    "print(len(s))"
   ]
  },
  {
   "cell_type": "code",
   "execution_count": 72,
   "id": "192b8bfb",
   "metadata": {},
   "outputs": [
    {
     "name": "stdout",
     "output_type": "stream",
     "text": [
      " ALM ymedacA gninraeL sisahpM\n"
     ]
    }
   ],
   "source": [
    "# ii) To reverse words in a string\n",
    "print(s[::-1])"
   ]
  },
  {
   "cell_type": "code",
   "execution_count": 74,
   "id": "8db0ce5a",
   "metadata": {},
   "outputs": [
    {
     "name": "stdout",
     "output_type": "stream",
     "text": [
      "Mphasis Learning Academy MLA Mphasis Learning Academy MLA Mphasis Learning Academy MLA \n"
     ]
    }
   ],
   "source": [
    "# iv) To display the same string multiple times\n",
    "\n",
    "print(s*3)"
   ]
  },
  {
   "cell_type": "code",
   "execution_count": 75,
   "id": "d57087a6",
   "metadata": {},
   "outputs": [
    {
     "name": "stdout",
     "output_type": "stream",
     "text": [
      "I am learning AI ML in Mphasis Learning Academy\n"
     ]
    }
   ],
   "source": [
    "# iv) To concatenate two strings\n",
    "s1=\"I am learning AI ML\"\n",
    "s2=\" in Mphasis Learning Academy\"\n",
    "print(s1+s2)"
   ]
  },
  {
   "cell_type": "code",
   "execution_count": 76,
   "id": "0a951c38",
   "metadata": {},
   "outputs": [
    {
     "name": "stdout",
     "output_type": "stream",
     "text": [
      " India\n"
     ]
    }
   ],
   "source": [
    "# v) Str1=\"South India\", using string slicing to display \"India\"\n",
    "\n",
    "Str1=\"South India\"\n",
    "print(Str1[5:])"
   ]
  },
  {
   "cell_type": "markdown",
   "id": "e8100425",
   "metadata": {},
   "source": [
    "# 6 Perform the following:\n",
    "\n",
    "i) Creating the Dictionary.\n",
    "\n",
    "ii) Accessing values and keys in the Dictionary.\n",
    "\n",
    "iii) Updating the dictionary using a function.\n",
    "\n",
    "iv) Clear and delete the dictionary values."
   ]
  },
  {
   "cell_type": "code",
   "execution_count": 85,
   "id": "d93d3eb1",
   "metadata": {},
   "outputs": [
    {
     "name": "stdout",
     "output_type": "stream",
     "text": [
      "{'EMP_ID': '1234', 'EMP_NAME': 'Dileep'}\n"
     ]
    }
   ],
   "source": [
    "# i) Creating the Dictionary.\n",
    "\n",
    "dict={\"EMP_ID\":\"1234\",\"EMP_NAME\":\"Dileep\"}\n",
    "print(dict)"
   ]
  },
  {
   "cell_type": "code",
   "execution_count": 86,
   "id": "67a883db",
   "metadata": {},
   "outputs": [
    {
     "name": "stdout",
     "output_type": "stream",
     "text": [
      "1234\n"
     ]
    }
   ],
   "source": [
    "# ii) Accessing values and keys in the Dictionary.\n",
    "\n",
    "d=dict[\"EMP_ID\"] #By using key we can access in dictonaries.\n",
    "print(d)"
   ]
  },
  {
   "cell_type": "code",
   "execution_count": 87,
   "id": "0d42abe3",
   "metadata": {},
   "outputs": [
    {
     "name": "stdout",
     "output_type": "stream",
     "text": [
      "{'EMP_ID': '1234', 'EMP_NAME': 'Kumar', 'Manger': 'Dharshan'}\n"
     ]
    }
   ],
   "source": [
    "# iii) Updating the dictionary using a function.\n",
    "\n",
    "dic={\"EMP_NAME\":\"Kumar\",\"Manger\":\"Dharshan\"}\n",
    "dict.update(dic)\n",
    "print(dict)\n"
   ]
  },
  {
   "cell_type": "code",
   "execution_count": 89,
   "id": "4f8636cf",
   "metadata": {},
   "outputs": [
    {
     "name": "stdout",
     "output_type": "stream",
     "text": [
      "{'EMP_ID': '1234', 'EMP_NAME': 'Kumar'}\n",
      "{}\n"
     ]
    }
   ],
   "source": [
    "# iv) Clear and delete the dictionary values.\n",
    "del dict[\"Manger\"]\n",
    "print(dict)\n",
    "\n",
    "dict.clear()\n",
    "\n",
    "print(dict)"
   ]
  },
  {
   "cell_type": "markdown",
   "id": "47ae73f0",
   "metadata": {},
   "source": [
    "# 7. Python program to insert a number to any position in a list."
   ]
  },
  {
   "cell_type": "code",
   "execution_count": 90,
   "id": "840528a1",
   "metadata": {},
   "outputs": [
    {
     "name": "stdout",
     "output_type": "stream",
     "text": [
      "[1, 2, 6, 22, 3, 5, 1, 44]\n"
     ]
    }
   ],
   "source": [
    "l=[1,2,6,3,5,1,44]\n",
    "l.insert(3,22)\n",
    "print(l)"
   ]
  },
  {
   "cell_type": "markdown",
   "id": "5fd18028",
   "metadata": {},
   "source": [
    "# 8. Python program to delete an element from a list by index."
   ]
  },
  {
   "cell_type": "code",
   "execution_count": 95,
   "id": "b6ad9a39",
   "metadata": {},
   "outputs": [
    {
     "name": "stdout",
     "output_type": "stream",
     "text": [
      "[1, 2, 3, 5, 1, 44]\n"
     ]
    }
   ],
   "source": [
    "l=[1,2,6,3,5,1,44]\n",
    "del l[2]\n",
    "print(l)"
   ]
  },
  {
   "cell_type": "markdown",
   "id": "0a27b2fc",
   "metadata": {},
   "source": [
    "# 9. Write a program to display a number from 1 to 100."
   ]
  },
  {
   "cell_type": "code",
   "execution_count": 97,
   "id": "5a6781f2",
   "metadata": {},
   "outputs": [
    {
     "name": "stdout",
     "output_type": "stream",
     "text": [
      "To display 1 to 100100\n",
      "1 2 3 4 5 6 7 8 9 10 11 12 13 14 15 16 17 18 19 20 21 22 23 24 25 26 27 28 29 30 31 32 33 34 35 36 37 38 39 40 41 42 43 44 45 46 47 48 49 50 51 52 53 54 55 56 57 58 59 60 61 62 63 64 65 66 67 68 69 70 71 72 73 74 75 76 77 78 79 80 81 82 83 84 85 86 87 88 89 90 91 92 93 94 95 96 97 98 99 100 "
     ]
    }
   ],
   "source": [
    "n=int(input(\"To display 1 to 100\"))\n",
    "for i in range(1,n+1):\n",
    "    print(i,end=\" \")"
   ]
  },
  {
   "cell_type": "markdown",
   "id": "53ebfe3c",
   "metadata": {},
   "source": [
    "# 10. Write a Python program to find the sum of all items in a tuple."
   ]
  },
  {
   "cell_type": "code",
   "execution_count": 98,
   "id": "90e0265c",
   "metadata": {},
   "outputs": [
    {
     "name": "stdout",
     "output_type": "stream",
     "text": [
      "348\n"
     ]
    }
   ],
   "source": [
    "t=(1,2,3,4,5,33,6,7,88,99,100)\n",
    "print(sum(t))"
   ]
  },
  {
   "cell_type": "code",
   "execution_count": null,
   "id": "ec8ea219",
   "metadata": {},
   "outputs": [],
   "source": [
    "# 11. Create a dictionary containing three lambda functions square, cube and square root\n",
    "\n",
    "i) Eg. dict = ('Square': function for squaring, 'Cube': function for cube, 'Squareroot':\n",
    "\n",
    "function for square root)\n",
    "\n",
    "ii) Pass the values (input from the user) to the functions in the dictionary respectively.\n",
    "\n",
    "iii) Then add the outputs of each function and print it."
   ]
  },
  {
   "cell_type": "code",
   "execution_count": 105,
   "id": "48d19c09",
   "metadata": {},
   "outputs": [
    {
     "name": "stdout",
     "output_type": "stream",
     "text": [
      "4\n",
      "{'Square': 16, 'Cube': 64, 'Squareroot': 2.0}\n",
      "82.0\n"
     ]
    }
   ],
   "source": [
    "# i) Eg. dict = ('Square': function for squaring, 'Cube': function for cube, 'Squareroot':\n",
    "\n",
    "# function for square root)\n",
    "\n",
    "import math\n",
    "\n",
    "dict = {'Square': lambda x:x**2, 'Cube': lambda x:x**3, 'Squareroot':lambda x:math.sqrt(x)}\n",
    "\n",
    "# ii) Pass the values (input from the user) to the functions in the dictionary respectively.\n",
    "\n",
    "x=int(input())\n",
    "results={key:value(x) for key,value in dict.items()}\n",
    "print(results)\n",
    "\n",
    "# iii) Then add the outputs of each function and print it.\n",
    "\n",
    "s=sum(results.values())\n",
    "print(s)\n",
    "    \n",
    "\n",
    "    \n",
    "    "
   ]
  },
  {
   "cell_type": "markdown",
   "id": "c341caa3",
   "metadata": {},
   "source": [
    "# 12. A list of words is given. Find the words from the list that have their second character in uppercase\n",
    "\n",
    "Is=['hello', 'Dear', 'hOw', 'ARe', 'You']"
   ]
  },
  {
   "cell_type": "code",
   "execution_count": 124,
   "id": "75913bdb",
   "metadata": {},
   "outputs": [
    {
     "name": "stdout",
     "output_type": "stream",
     "text": [
      "['hOw', 'ARe']\n"
     ]
    }
   ],
   "source": [
    "ls=['hello', 'Dear', 'hOw', 'ARe', 'You']\n",
    "\n",
    "\n",
    "result=[i for i in ls if len(i) > 1 and  i[1].isupper()]\n",
    "print(result)\n",
    "\n"
   ]
  },
  {
   "cell_type": "markdown",
   "id": "8c3fb517",
   "metadata": {},
   "source": [
    "# 13. A dictionary of names and their weights on earth is given. Find how much they will weigh on the\n",
    "\n",
    "moon. (Use map and lambda functions) Formula: wMoon=(wEarth*GMoon)/GEarth\n",
    "i) #Weight of people in kg\n",
    "\n",
    "WeightOnEarth ={'John':45, 'Shelly':65, 'Marry':35}\n",
    "\n",
    "ii)#Gravitational force on the Moon: 1.622 m/s2\n",
    "\n",
    "GMoon= 1.622\n",
    "\n",
    "iii) #Gravitational force on the Earth: 9.81 m/s2\n",
    "\n",
    "GEarth=9.81"
   ]
  },
  {
   "cell_type": "code",
   "execution_count": 142,
   "id": "61edc27a",
   "metadata": {},
   "outputs": [
    {
     "name": "stdout",
     "output_type": "stream",
     "text": [
      "{'John': 7.440366972477065, 'Shelly': 10.747196738022426, 'Marry': 5.786952089704383}\n"
     ]
    }
   ],
   "source": [
    "WeightOnEarth ={'John':45, 'Shelly':65, 'Marry':35}\n",
    "\n",
    "moon_weights_values = list(map(lambda w: (w * GMoon) / GEarth, WeightOnEarth.values()))\n",
    "\n",
    "WeightOnMoon = {name: weight for name, weight in zip(WeightOnEarth.keys(), moon_weights_values)}\n",
    "print(WeightOnMoon)\n"
   ]
  },
  {
   "cell_type": "markdown",
   "id": "7bf38aa9",
   "metadata": {},
   "source": [
    "# Control Structures:"
   ]
  },
  {
   "cell_type": "markdown",
   "id": "e9c29b1d",
   "metadata": {},
   "source": [
    "# 1. Write a python program to find the first N Prime numbers."
   ]
  },
  {
   "cell_type": "code",
   "execution_count": 21,
   "id": "52b5694d",
   "metadata": {},
   "outputs": [
    {
     "name": "stdout",
     "output_type": "stream",
     "text": [
      "1\n",
      "100\n",
      "2 3 5 7 11 13 17 19 23 29 31 37 41 43 47 53 59 61 67 71 73 79 83 89 97 "
     ]
    }
   ],
   "source": [
    "start=int(input())\n",
    "end=int(input())\n",
    "for num in range(start,end+1):\n",
    "    if num > 1:\n",
    "        is_prime=True\n",
    "        for i in range(2,num):\n",
    "            if num%i==0:\n",
    "                is_prime=False\n",
    "                break\n",
    "    if is_prime:\n",
    "        print(num,end=\" \")"
   ]
  },
  {
   "cell_type": "markdown",
   "id": "277c1a18",
   "metadata": {},
   "source": [
    "# 2. Write the python code that calculates the salary of an employee. Prompt the user to enter the Basic Salary, HRA, TA, and DA. Add these components to calculate the Gross Salary. Also, deduct 10% of salary from the Gross Salary to be paid as tax and display gross minus tax as net salary."
   ]
  },
  {
   "cell_type": "code",
   "execution_count": 28,
   "id": "7018db63",
   "metadata": {},
   "outputs": [
    {
     "name": "stdout",
     "output_type": "stream",
     "text": [
      "Enter the basic salary: 27000\n",
      "House rent allowance3000\n",
      "Travelling Allowance2000\n",
      "Gross_Salary: 32000.0 \n",
      "net_salary: 28800.0\n"
     ]
    }
   ],
   "source": [
    "Basic_salary=float(input(\"Enter the basic salary: \"))\n",
    "HRA=float(input(\"House rent allowance\"))\n",
    "TA=float(input(\"Travelling Allowance\"))\n",
    "Gross_Salary=Basic_salary+HRA+TA\n",
    "tax=0.10*Gross_Salary\n",
    "net_salary=Gross_Salary-tax\n",
    "print(\"Gross_Salary:\", Gross_Salary,\"\\nnet_salary:\", net_salary)"
   ]
  },
  {
   "cell_type": "markdown",
   "id": "d1bc8232",
   "metadata": {},
   "source": [
    "# 3. Write a python program to search for a string in the given list."
   ]
  },
  {
   "cell_type": "code",
   "execution_count": 33,
   "id": "319c0dc9",
   "metadata": {},
   "outputs": [
    {
     "name": "stdout",
     "output_type": "stream",
     "text": [
      "Learning\n",
      "Learning Found in list\n"
     ]
    }
   ],
   "source": [
    "str=[\"Mphasis\",\"Learning\",\"Academy\",\"Dileep\",\"Kumar\"]\n",
    "Searching=input()\n",
    "if Searching in str:\n",
    "    print(\"{} Found in list\".format(Searching))\n",
    "else:\n",
    "    print(\"{} Not Found in the list\".format(Searching))"
   ]
  },
  {
   "cell_type": "markdown",
   "id": "cdfb76cd",
   "metadata": {},
   "source": [
    "# 4. Write a Python function that accepts a string and calculates the number of upper-case letters and lower-case letters"
   ]
  },
  {
   "cell_type": "code",
   "execution_count": 41,
   "id": "feb84849",
   "metadata": {},
   "outputs": [
    {
     "name": "stdout",
     "output_type": "stream",
     "text": [
      "Mphasis Learning Academy \n",
      "upper count : 3 \n",
      "Lower count:  22\n"
     ]
    }
   ],
   "source": [
    "u_count=0\n",
    "L_count=0\n",
    "str=input()\n",
    "for char in str:\n",
    "    if char.isupper():\n",
    "        u_count+=1\n",
    "    else:\n",
    "        L_count+=1\n",
    "print(\"upper count :\",u_count,\"\\nLower count: \",L_count)"
   ]
  },
  {
   "cell_type": "markdown",
   "id": "b531573d",
   "metadata": {},
   "source": [
    "# 5. Write a program to display the sum of odd numbers and even numbers that fall between 12 and 37."
   ]
  },
  {
   "cell_type": "code",
   "execution_count": 48,
   "id": "6d1a19b9",
   "metadata": {},
   "outputs": [
    {
     "name": "stdout",
     "output_type": "stream",
     "text": [
      "startig range :12\n",
      "ending range :37\n",
      "Sum of Even numbers between 12 and 37: 312\n",
      "Sum of Odd numbers between 12 and 37: 325\n"
     ]
    }
   ],
   "source": [
    "start=int(input(\"startig range :\"))\n",
    "end=int(input(\"ending range :\"))\n",
    "even_sum=0\n",
    "odd_sum=0\n",
    "for num in range(start,end+1):\n",
    "    if num%2==0:\n",
    "      \n",
    "        even_sum+=num\n",
    "       \n",
    "    else:\n",
    "        odd_sum+=num\n",
    "print(\"Sum of Even numbers between 12 and 37:\",even_sum)\n",
    "print(\"Sum of Odd numbers between 12 and 37:\",odd_sum)"
   ]
  },
  {
   "cell_type": "markdown",
   "id": "bae37df1",
   "metadata": {},
   "source": [
    "# 6. Write a python Program to print the table of any number."
   ]
  },
  {
   "cell_type": "code",
   "execution_count": 53,
   "id": "908a22d9",
   "metadata": {},
   "outputs": [
    {
     "name": "stdout",
     "output_type": "stream",
     "text": [
      "5\n",
      "5 * 1 = 5\n",
      "5 * 2 = 10\n",
      "5 * 3 = 15\n",
      "5 * 4 = 20\n",
      "5 * 5 = 25\n",
      "5 * 6 = 30\n",
      "5 * 7 = 35\n",
      "5 * 8 = 40\n",
      "5 * 9 = 45\n",
      "5 * 10 = 50\n"
     ]
    }
   ],
   "source": [
    "n=int(input())\n",
    "for i in range(1,11):\n",
    "    mul=n*i\n",
    "    print(n, \"*\", i ,\"=\" , mul)"
   ]
  },
  {
   "cell_type": "markdown",
   "id": "47fb70ff",
   "metadata": {},
   "source": [
    "# 7. Write a Python program to sum the first 10 prime numbers."
   ]
  },
  {
   "cell_type": "code",
   "execution_count": 60,
   "id": "f0c07848",
   "metadata": {},
   "outputs": [
    {
     "name": "stdout",
     "output_type": "stream",
     "text": [
      "Starting range :1\n",
      "Ending range : 10\n",
      "the sum of first 10 prime numbers is : 17\n"
     ]
    }
   ],
   "source": [
    "start=int(input(\"Starting range :\"))\n",
    "end=int(input(\"Ending range : \"))\n",
    "sum=0\n",
    "for num in range(start,end+1):\n",
    "    if num > 1:\n",
    "        is_prime=True\n",
    "        for i in range(2,num):\n",
    "            if num%i==0:\n",
    "                is_prime=False\n",
    "                break\n",
    "    if is_prime:\n",
    "        sum+=num\n",
    "print(\"the sum of first 10 prime numbers is :\",sum)"
   ]
  },
  {
   "cell_type": "markdown",
   "id": "edc687c1",
   "metadata": {},
   "source": [
    "# 8. Write a python program to implement arithmetic operations using nested if statement"
   ]
  },
  {
   "cell_type": "code",
   "execution_count": 63,
   "id": "f8f17124",
   "metadata": {},
   "outputs": [
    {
     "name": "stdout",
     "output_type": "stream",
     "text": [
      "2\n",
      "10\n",
      "a+b= 12\n",
      "a-b= -8\n",
      "a*b= 20\n",
      "a/b= 0.2\n",
      "a%b= 2\n",
      "a//b= 0\n",
      "a**b= 1024\n"
     ]
    }
   ],
   "source": [
    "a=int(input())\n",
    "b=int(input())\n",
    "print(\"a+b=\",a+b)\n",
    "print(\"a-b=\",a-b)\n",
    "print(\"a*b=\",a*b)\n",
    "print(\"a/b=\",a/b)\n",
    "print(\"a%b=\",a%b)\n",
    "print(\"a//b=\",a//b)\n",
    "print(\"a**b=\",a**b)"
   ]
  },
  {
   "cell_type": "markdown",
   "id": "ce197d0e",
   "metadata": {},
   "source": [
    "# 9. Write a python program to take the temperature in Celsius and convert it to a Fahrenheit."
   ]
  },
  {
   "cell_type": "code",
   "execution_count": 66,
   "id": "ba997a43",
   "metadata": {},
   "outputs": [
    {
     "name": "stdout",
     "output_type": "stream",
     "text": [
      "55\n",
      "55.0° Celsius is equivalent to 131.0° Fahrenheit.\n"
     ]
    }
   ],
   "source": [
    "Celsius=float(input())\n",
    "Fahrenheit=(Celsius * 9/5) + 32\n",
    "print(\"{}° Celsius is equivalent to {}° Fahrenheit.\".format(Celsius,Fahrenheit))"
   ]
  },
  {
   "cell_type": "markdown",
   "id": "05dbb036",
   "metadata": {},
   "source": [
    "# 10. Write a python program to find a maximum and minimum number in a list without using an inbuilt function"
   ]
  },
  {
   "cell_type": "code",
   "execution_count": 75,
   "id": "f16d2a41",
   "metadata": {},
   "outputs": [
    {
     "name": "stdout",
     "output_type": "stream",
     "text": [
      "The minimum values in list: 0\n",
      "The maximum values in list: 88\n"
     ]
    }
   ],
   "source": [
    "l=[1,2,88,9,12,5,0,66]\n",
    "min=l[0]\n",
    "max=l[0]\n",
    "for i in range(len(l)):\n",
    "    if min > l[i]:\n",
    "        min=l[i]\n",
    "\n",
    "for i in range(len(l)):\n",
    "    if max < l[i]:\n",
    "        max=l[i]\n",
    "print(\"The minimum values in list:\",min)    \n",
    "print(\"The maximum values in list:\",max)\n",
    "    \n",
    "        "
   ]
  },
  {
   "cell_type": "markdown",
   "id": "ff0e2b9a",
   "metadata": {},
   "source": [
    "# 11. Write a program in python to print out the number of seconds in 30-day month 30 days, 24 hours in a day, 60 minutes per day, 60 seconds in a minute."
   ]
  },
  {
   "cell_type": "code",
   "execution_count": 81,
   "id": "b48f6c96",
   "metadata": {},
   "outputs": [
    {
     "name": "stdout",
     "output_type": "stream",
     "text": [
      "The total seconds in 30 days 2592000\n"
     ]
    }
   ],
   "source": [
    "days_in_month=30\n",
    "Hours_in_day=24\n",
    "Minutes_in_hour=60\n",
    "Seconds_in_minute=60\n",
    "total_seconds=days_in_month*Hours_in_day*Minutes_in_hour*Seconds_in_minute\n",
    "print(\"The total seconds in 30 days\",total_seconds)\n"
   ]
  },
  {
   "cell_type": "markdown",
   "id": "a070ae11",
   "metadata": {},
   "source": [
    "# 12. Write a program in python to print out the number of seconds in a year."
   ]
  },
  {
   "cell_type": "code",
   "execution_count": 83,
   "id": "4add276e",
   "metadata": {},
   "outputs": [
    {
     "name": "stdout",
     "output_type": "stream",
     "text": [
      "The total seconds in 365 days 31536000\n"
     ]
    }
   ],
   "source": [
    "days_in_year=365\n",
    "Hours_in_day=24\n",
    "Minutes_in_hour=60\n",
    "Seconds_in_minute=60\n",
    "total_seconds=days_in_year*Hours_in_day*Minutes_in_hour*Seconds_in_minute\n",
    "print(\"The total seconds in 365 days\",total_seconds)"
   ]
  },
  {
   "cell_type": "markdown",
   "id": "6dd924fb",
   "metadata": {},
   "source": [
    "# 13. A high-speed train can travel at an average speed of 150 mph, how long will it take a train  travelling at this speed to travel from London to Glasgow which is 414 miles away?"
   ]
  },
  {
   "cell_type": "code",
   "execution_count": 86,
   "id": "2a7fcd96",
   "metadata": {},
   "outputs": [
    {
     "name": "stdout",
     "output_type": "stream",
     "text": [
      "2.76 Hours\n"
     ]
    }
   ],
   "source": [
    "speed=150\n",
    "distance=414\n",
    "Time = distance/speed\n",
    "print(Time,\"Hours\")"
   ]
  },
  {
   "cell_type": "markdown",
   "id": "20d33fe0",
   "metadata": {},
   "source": [
    "# 14. Write a python program that defines a variable called days_in_each_school_year and assign 192 to the variable. The program should then print out the total hours that you spend in school from year 7 to year 11, if each day you spend 6 hours in school days in each school year 192"
   ]
  },
  {
   "cell_type": "code",
   "execution_count": 87,
   "id": "22ab4022",
   "metadata": {},
   "outputs": [
    {
     "name": "stdout",
     "output_type": "stream",
     "text": [
      "The total hours spent in school from year 7 to year 11 is 5760 hours.\n"
     ]
    }
   ],
   "source": [
    "days_in_each_school_year = 192\n",
    "hours_in_each_school_day = 6\n",
    "total_school_years = 5 \n",
    "\n",
    "total_hours = days_in_each_school_year * hours_in_each_school_day * total_school_years\n",
    "\n",
    "print(\"The total hours spent in school from year 7 to year 11 is {} hours.\".format(total_hours))"
   ]
  },
  {
   "cell_type": "markdown",
   "id": "ab5d5c86",
   "metadata": {},
   "source": [
    "# 15. if the age of Ram, Sam and Khan are input through the keyboard,write a python program to determine the eldest and youngest of the three."
   ]
  },
  {
   "cell_type": "code",
   "execution_count": 90,
   "id": "112b654c",
   "metadata": {},
   "outputs": [
    {
     "name": "stdout",
     "output_type": "stream",
     "text": [
      "age:22\n",
      "age:12\n",
      "age:44\n",
      "Eldest is Khan 44\n",
      "Youngest is Sam 12\n"
     ]
    }
   ],
   "source": [
    "Ram=int(input(\"age:\"))\n",
    "Sam=int(input(\"age:\"))\n",
    "Khan=int(input(\"age:\"))\n",
    "if Ram > Sam and Ram > Khan:\n",
    "    print(\"Eldest is Ram\",Ram)\n",
    "elif Sam > Ram and Sam > Khan:\n",
    "    print(\"Eldest is Sam\",Sam)\n",
    "else:\n",
    "    print(\"Eldest is Khan\",Khan)\n",
    "    \n",
    "if Ram < Sam and Ram < Khan:\n",
    "    print(\"Youngest is Ram\",Ram)\n",
    "elif Sam < Ram and Sam < Khan:\n",
    "    print(\"Youngest is Sam\",Sam)\n",
    "else:\n",
    "    print(\"Youngest is Khan\",Khan)\n",
    "    "
   ]
  },
  {
   "cell_type": "markdown",
   "id": "ce73bb71",
   "metadata": {},
   "source": [
    "# 16. Write a python program to rotate a list by right n times with and without slicing technique"
   ]
  },
  {
   "cell_type": "code",
   "execution_count": 96,
   "id": "8233c0d7",
   "metadata": {},
   "outputs": [
    {
     "name": "stdout",
     "output_type": "stream",
     "text": [
      "Enter number of rotations: 7\n",
      "Rotated list: [4, 5, 1, 2, 3]\n"
     ]
    }
   ],
   "source": [
    "lst = [1, 2, 3, 4, 5]\n",
    "n = int(input(\"Enter number of rotations: \"))\n",
    "\n",
    "# n = n % len(lst) \n",
    "\n",
    "for i in range(n):\n",
    "    lst.insert(0, lst.pop())\n",
    "\n",
    "print(\"Rotated list:\", lst)\n"
   ]
  },
  {
   "cell_type": "markdown",
   "id": "d1ba4b74",
   "metadata": {},
   "source": [
    "# 17.Python program to print the patterns given below:"
   ]
  },
  {
   "cell_type": "code",
   "execution_count": 101,
   "id": "cbd1091f",
   "metadata": {},
   "outputs": [
    {
     "name": "stdout",
     "output_type": "stream",
     "text": [
      "10\n",
      "\n",
      "* \n",
      "* * \n",
      "* * * \n",
      "* * * * \n",
      "* * * * * \n",
      "* * * * * * \n",
      "* * * * * * * \n",
      "* * * * * * * * \n",
      "* * * * * * * * * \n"
     ]
    }
   ],
   "source": [
    "n=int(input())\n",
    "for i in range(n):\n",
    "    for j in range(i):\n",
    "        print('*',end=\" \")\n",
    "    \n",
    "    print()"
   ]
  },
  {
   "cell_type": "code",
   "execution_count": 1,
   "id": "4a8e873d",
   "metadata": {},
   "outputs": [
    {
     "name": "stdout",
     "output_type": "stream",
     "text": [
      "[1]\n",
      "[1, 1]\n",
      "[1, 2, 1]\n",
      "[1, 3, 3, 1]\n",
      "[1, 4, 6, 4, 1]\n",
      "[1, 5, 10, 10, 5, 1]\n",
      "[1, 6, 15, 20, 15, 6, 1]\n"
     ]
    }
   ],
   "source": [
    "def generate_pascals_triangle(n):\n",
    "    \"\"\"Generate n rows of Pascal's Triangle.\"\"\"\n",
    "    result = []\n",
    "    \n",
    "    for i in range(n):\n",
    "        if i == 0:\n",
    "            result.append([1])\n",
    "        else:\n",
    "            previous_row = result[-1]\n",
    "            new_row = [1]\n",
    "            \n",
    "            # Generate the middle numbers in the row\n",
    "            for j in range(len(previous_row) - 1):\n",
    "                new_row.append(previous_row[j] + previous_row[j + 1])\n",
    "            \n",
    "            new_row.append(1)\n",
    "            result.append(new_row)\n",
    "    \n",
    "    return result\n",
    "\n",
    "# Generate and display 7 rows of Pascal's Triangle\n",
    "triangle = generate_pascals_triangle(7)\n",
    "for row in triangle:\n",
    "    print(row)\n",
    "\n",
    "    "
   ]
  },
  {
   "cell_type": "code",
   "execution_count": 2,
   "id": "6f737bc1",
   "metadata": {},
   "outputs": [
    {
     "name": "stdout",
     "output_type": "stream",
     "text": [
      "P\n",
      "Py\n",
      "Pyt\n",
      "Pyth\n",
      "Pytho\n",
      "Python\n"
     ]
    }
   ],
   "source": [
    "word = \"Python\"\n",
    "for i in range(1, len(word) + 1):\n",
    "    print(word[:i])\n"
   ]
  },
  {
   "cell_type": "code",
   "execution_count": null,
   "id": "edd1ba20",
   "metadata": {},
   "outputs": [],
   "source": []
  }
 ],
 "metadata": {
  "kernelspec": {
   "display_name": "Python 3 (ipykernel)",
   "language": "python",
   "name": "python3"
  },
  "language_info": {
   "codemirror_mode": {
    "name": "ipython",
    "version": 3
   },
   "file_extension": ".py",
   "mimetype": "text/x-python",
   "name": "python",
   "nbconvert_exporter": "python",
   "pygments_lexer": "ipython3",
   "version": "3.8.17"
  }
 },
 "nbformat": 4,
 "nbformat_minor": 5
}
