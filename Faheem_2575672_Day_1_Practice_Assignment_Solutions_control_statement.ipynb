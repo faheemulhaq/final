{
 "cells": [
  {
   "cell_type": "markdown",
   "id": "caefe593",
   "metadata": {},
   "source": [
    "# CONTROL STRUCTURES"
   ]
  },
  {
   "cell_type": "markdown",
   "id": "9365314a",
   "metadata": {},
   "source": [
    "# 1) Write a python program to find N prime numbers"
   ]
  },
  {
   "cell_type": "code",
   "execution_count": 1,
   "id": "ec074ddc",
   "metadata": {},
   "outputs": [
    {
     "name": "stdout",
     "output_type": "stream",
     "text": [
      "Enter a number: 70\n",
      "[2, 3, 5, 7, 11, 13, 17, 19, 23, 29, 31, 37, 41, 43, 47, 53, 59, 61, 67]\n"
     ]
    }
   ],
   "source": [
    "# a function to evaluate whether the given parameter is a prime or not\n",
    "def isprime(num):\n",
    "    if num <= 1:\n",
    "        return False\n",
    "    if num <= 3:\n",
    "        return True\n",
    "    if num % 2 == 0 or num % 3 == 0:\n",
    "        return False\n",
    "    i = 5\n",
    "    while i * i <= num:\n",
    "        if num % i == 0 or num % (i + 2) == 0:\n",
    "            return False\n",
    "        i += 6\n",
    "    return True\n",
    "\n",
    "\n",
    "N = int(input(\"Enter a number: \"))\n",
    "\n",
    "prime_nums=[]\n",
    "for i in range(2, N):\n",
    "    if isprime(i):\n",
    "       prime_nums.append(i)\n",
    "print(prime_nums)"
   ]
  },
  {
   "cell_type": "markdown",
   "id": "5cdeb61a",
   "metadata": {},
   "source": [
    "# 2) Write the python code that calculates the salary of an employee"
   ]
  },
  {
   "cell_type": "code",
   "execution_count": 1,
   "id": "2ca067cd",
   "metadata": {},
   "outputs": [],
   "source": [
    "# prompt the user to enter the Basic Salary, HRA, TA and DA\n",
    "# Add these componenets to calculate the Gross Salary\n",
    "# Also, deduct 10% of salary from gross salary to be paid as tax\n",
    "# And display gross minus tax as net salary"
   ]
  },
  {
   "cell_type": "code",
   "execution_count": 3,
   "id": "7e1c8406",
   "metadata": {},
   "outputs": [
    {
     "name": "stdout",
     "output_type": "stream",
     "text": [
      "Enter the Base Salary27000.80\n",
      "Enter the HRA7000\n",
      "Enter the TA2500\n",
      "Enter the DA6250\n",
      "The net salary of an employee is after 2700.08 tax deduction is: 42750.8\n"
     ]
    }
   ],
   "source": [
    "Basic_sal = float(input(\"Enter the Base Salary\"))\n",
    "HRA = int(input(\"Enter the HRA\"))\n",
    "TA = int(input(\"Enter the TA\"))\n",
    "DA = int(input(\"Enter the DA\"))\n",
    "\n",
    "Gross_salary = Basic_sal + float(HRA) + float(TA) + float(DA)\n",
    "\n",
    "net_salary = Gross_salary - (float(Basic_sal)*0.1)\n",
    "\n",
    "print(\"The net salary of an employee is after \" + str(float(Basic_sal)*0.1)+ \" tax deduction is: \"+str(Gross_salary))"
   ]
  },
  {
   "cell_type": "markdown",
   "id": "46d58c9e",
   "metadata": {},
   "source": [
    "# 3) Write a python program to search for a sttring in the given list"
   ]
  },
  {
   "cell_type": "code",
   "execution_count": 6,
   "id": "892831bd",
   "metadata": {},
   "outputs": [
    {
     "name": "stdout",
     "output_type": "stream",
     "text": [
      "'versatile', found in abt_pthon\n",
      "'c++', not found in abt_pthon\n"
     ]
    }
   ],
   "source": [
    "abt_python = \"Python: A versatile, high-level programming language known for its simplicity and readability\"\n",
    "# to search a work in python we need to use either (in) or find() method\n",
    "\n",
    "word1 = \"versatile\"\n",
    "word2 = \"c++\"\n",
    "\n",
    "# unsing in \n",
    "if word1 in abt_python:\n",
    "    print(f\"'{word1}', found in abt_pthon\")\n",
    "else:\n",
    "    print(f\"'{word1}', not found in abt_pthon\")\n",
    "    \n",
    "# unsig find()\n",
    "ind = abt_python.find(word2)\n",
    "\n",
    "if(ind != -1):\n",
    "    print(f\"'{word2}', found in abt_pthon\")\n",
    "else:\n",
    "    print(f\"'{word2}', not found in abt_pthon\")"
   ]
  },
  {
   "cell_type": "markdown",
   "id": "056d46b7",
   "metadata": {},
   "source": [
    "# 4) write a python function that accepts a string and calculate the number of uppercase and lowercase letters"
   ]
  },
  {
   "cell_type": "code",
   "execution_count": 14,
   "id": "0bc9e0f0",
   "metadata": {},
   "outputs": [
    {
     "name": "stdout",
     "output_type": "stream",
     "text": [
      "Enter a string with upper and lower case letters\n",
      "\n",
      "ThIs Is A StRiNg WiTh MiXeD CaSe LeTtErS.\n",
      "\n",
      "Upper case letter count is: 18\n",
      "\n",
      "Lower case letter count is: 15\n"
     ]
    }
   ],
   "source": [
    "def letter_count(name):\n",
    "    upper_count =0\n",
    "    lower_count =0\n",
    "    for i in name:\n",
    "        if i.isupper():\n",
    "            upper_count += 1\n",
    "        elif i.islower():\n",
    "            lower_count += 1\n",
    "            \n",
    "    print(\"\\nUpper case letter count is: \"+str(upper_count))\n",
    "    print(\"\\nLower case letter count is: \"+str(lower_count))\n",
    "            \n",
    "            \n",
    "name = input(\"Enter a string with upper and lower case letters\\n\\n\")\n",
    "letter_count(name)\n"
   ]
  },
  {
   "cell_type": "markdown",
   "id": "0d0e9324",
   "metadata": {},
   "source": [
    "# 5) write a program to display the sum of odd numbers and evem numbers that fall between 12 and 37"
   ]
  },
  {
   "cell_type": "code",
   "execution_count": 7,
   "id": "ad7f9a2b",
   "metadata": {},
   "outputs": [
    {
     "name": "stdout",
     "output_type": "stream",
     "text": [
      "Even sum is: 312\n",
      "Odd sum is: 325\n"
     ]
    }
   ],
   "source": [
    "# we have to take two seperate variables that hold odd_val_sum and even_val_sum\n",
    "even_sum = 0\n",
    "odd_sum =0\n",
    "for i in range(12, 38):\n",
    "    if i%2 ==0:\n",
    "        even_sum += i\n",
    "    else:\n",
    "        odd_sum += i\n",
    "        \n",
    "print(\"Even sum is: \"+ str(even_sum))\n",
    "print(\"Odd sum is: \"+ str(odd_sum))"
   ]
  },
  {
   "cell_type": "markdown",
   "id": "d1c3727c",
   "metadata": {},
   "source": [
    "# 6) write a python program to print the table of any number"
   ]
  },
  {
   "cell_type": "code",
   "execution_count": 15,
   "id": "c42d1cbc",
   "metadata": {},
   "outputs": [
    {
     "name": "stdout",
     "output_type": "stream",
     "text": [
      "Enter a number : 5\n",
      "\n",
      "printing 5 table \n",
      "\n",
      "5 * 1 = 5\n",
      "\n",
      "5 * 2 = 10\n",
      "\n",
      "5 * 3 = 15\n",
      "\n",
      "5 * 4 = 20\n",
      "\n",
      "5 * 5 = 25\n",
      "\n",
      "5 * 6 = 30\n",
      "\n",
      "5 * 7 = 35\n",
      "\n",
      "5 * 8 = 40\n",
      "\n",
      "5 * 9 = 45\n",
      "\n",
      "5 * 10 = 50\n",
      "\n"
     ]
    }
   ],
   "source": [
    "num = int(input(\"Enter a number : \"))\n",
    "print(\"\\nprinting \"+str(num)+\" table \\n\")\n",
    "int(num)\n",
    "\n",
    "for i in range(1, 11):\n",
    "    res = num*i\n",
    "    print(f\"{num} * {i} = {res}\\n\")"
   ]
  },
  {
   "cell_type": "markdown",
   "id": "57894581",
   "metadata": {},
   "source": [
    "# 7) write a pytho program to sum the first 10 prime numbers"
   ]
  },
  {
   "cell_type": "code",
   "execution_count": 19,
   "id": "83c37b9d",
   "metadata": {},
   "outputs": [
    {
     "name": "stdout",
     "output_type": "stream",
     "text": [
      "[2, 3, 5, 7, 11, 13, 17, 19, 23, 29]\n",
      "The sum of first 10 primes is : 129\n"
     ]
    }
   ],
   "source": [
    "#  for this we have take frist 10 prime numbers and sum all of them \n",
    "\n",
    "def isprime(num):\n",
    "    if num <= 1:\n",
    "        return False\n",
    "    if num <= 3:\n",
    "        return True\n",
    "    if num % 2 == 0 or num % 3 == 0:\n",
    "        return False\n",
    "    i = 5\n",
    "    while i * i <= num:\n",
    "        if num % i == 0 or num % (i + 2) == 0:\n",
    "            return False\n",
    "        i += 6\n",
    "    return True\n",
    "\n",
    "result =0\n",
    "primes = []\n",
    "i =2\n",
    "\n",
    "while len(primes) < 10:\n",
    "    if isprime(i):\n",
    "        primes.append(i)\n",
    "        result += i\n",
    "    i += 1\n",
    "\n",
    "print(primes)\n",
    "print(f\"The sum of first 10 primes is : {result}\")"
   ]
  },
  {
   "cell_type": "markdown",
   "id": "88cc1528",
   "metadata": {},
   "source": [
    "# 8) write a python program to implement arithemetic operations using nested if statement"
   ]
  },
  {
   "cell_type": "code",
   "execution_count": 27,
   "id": "c849a1b6",
   "metadata": {},
   "outputs": [
    {
     "name": "stdout",
     "output_type": "stream",
     "text": [
      "Enter the first number\n",
      "25\n",
      "Enter the operator\n",
      "*\n",
      "Enter the second number\n",
      "3\n",
      "25 * 3 is : 75\n",
      "\n"
     ]
    }
   ],
   "source": [
    "# using nested if conditions \n",
    "def calculator(num1, optr, num2):\n",
    "    result = 0\n",
    "    if optr == \"+\":\n",
    "        result = num1+num2\n",
    "    elif optr == \"-\":\n",
    "        result = num1-num2\n",
    "    elif optr == \"*\":\n",
    "        result = num1*num2\n",
    "    elif optr == \"/\":\n",
    "        if num2!=0:\n",
    "            result = num1/num2\n",
    "        else:\n",
    "            result = \"undefined\"\n",
    "            \n",
    "    else:\n",
    "        result = \"Unknown Symbol Entered\"\n",
    "    \n",
    "    return result\n",
    "\n",
    "num1 = int(input(\"Enter the first number\\n\"))\n",
    "optr = input(\"Enter the operator\\n\")\n",
    "num2 = int(input(\"Enter the second number\\n\"))\n",
    "\n",
    "ans = calculator(num1, optr, num2)\n",
    "print(f\"{num1} {optr} {num2} is : {ans}\\n\")"
   ]
  },
  {
   "cell_type": "markdown",
   "id": "b611828d",
   "metadata": {},
   "source": [
    "# 9) write a python program to take the temperature in celsius and convert it into fahrenheit"
   ]
  },
  {
   "cell_type": "code",
   "execution_count": 37,
   "id": "c8c6ac32",
   "metadata": {},
   "outputs": [
    {
     "name": "stdout",
     "output_type": "stream",
     "text": [
      "enter the celsius degrees43\n",
      "43 celsius concerted in to 109.4 fahrenheit temperaure\n"
     ]
    }
   ],
   "source": [
    "temp = int(input(\"enter the celsius degrees\"))\n",
    "fahrenheit = (temp * 9/5) + 32\n",
    "print(f\"{temp} celsius concerted in to {fahrenheit} fahrenheit temperaure\")\n"
   ]
  },
  {
   "cell_type": "markdown",
   "id": "697b3607",
   "metadata": {},
   "source": [
    "# 10) write a python program "
   ]
  },
  {
   "cell_type": "code",
   "execution_count": 35,
   "id": "b9684968",
   "metadata": {},
   "outputs": [
    {
     "name": "stdout",
     "output_type": "stream",
     "text": [
      "The maximum in the list is: 442\n",
      "The minimum in the list is: -62\n"
     ]
    }
   ],
   "source": [
    "# to find a maximum and minum number in a list \n",
    "# without using inbuilt functions\n",
    "\n",
    "nums = [10, 20, 442, 38, 91, 5, 25, 87, 90, -62]\n",
    "maxi = 0\n",
    "mini = 0\n",
    "\n",
    "for i in nums:\n",
    "    if maxi<i:\n",
    "        maxi = i\n",
    "    if mini >i:\n",
    "        mini = i\n",
    "\n",
    "print(f\"The maximum in the list is: {maxi}\")\n",
    "print(f\"The minimum in the list is: {mini}\")"
   ]
  },
  {
   "cell_type": "markdown",
   "id": "accdf954",
   "metadata": {},
   "source": [
    "# 11) write a program in python \n"
   ]
  },
  {
   "cell_type": "code",
   "execution_count": 36,
   "id": "06bc2f72",
   "metadata": {},
   "outputs": [
    {
     "name": "stdout",
     "output_type": "stream",
     "text": [
      "secons in 30-day month is : 2592000\n"
     ]
    }
   ],
   "source": [
    "# to print out the number of seconds in 30-day month 30 days,\n",
    "# 24 hours in a day , 60 minutes per day, 60 sec in a minute\n",
    "\n",
    "days_a_month = 30\n",
    "hours_a_day = 24\n",
    "mins_an_hour = 60\n",
    "secs_a_min = 60\n",
    "\n",
    "result = days_a_month * hours_a_day * mins_an_hour * secs_a_min\n",
    "print(f\"secons in 30-day month is : {result}\")"
   ]
  },
  {
   "cell_type": "markdown",
   "id": "52e2c0f0",
   "metadata": {},
   "source": [
    "# 12) write a python program to print number of seconds in a year"
   ]
  },
  {
   "cell_type": "code",
   "execution_count": 38,
   "id": "64c94e9e",
   "metadata": {},
   "outputs": [
    {
     "name": "stdout",
     "output_type": "stream",
     "text": [
      "the number of seconds in a year is : 62208000\n"
     ]
    }
   ],
   "source": [
    "months = 30\n",
    "days = 24\n",
    "hours = 24\n",
    "mins = 60\n",
    "secs = 60\n",
    "\n",
    "result = months * days * hours * mins * secs\n",
    "print(f\"the number of seconds in a year is : {result}\")"
   ]
  },
  {
   "cell_type": "markdown",
   "id": "6de09ef1",
   "metadata": {},
   "source": [
    "# 13) A high-speed train can travel at an average speed of 150mph\n",
    "how long will it take a train travelling at this speed to travel from \n",
    "london to glasgow which is 414 miles away"
   ]
  },
  {
   "cell_type": "code",
   "execution_count": 40,
   "id": "801019d5",
   "metadata": {},
   "outputs": [
    {
     "name": "stdout",
     "output_type": "stream",
     "text": [
      "the time taken to travel from londom to glasgow is 2.760\n"
     ]
    }
   ],
   "source": [
    "# as we know the formula speed = distance/ time\n",
    "#  as we need time then time = distance/speed\n",
    "speed = 150\n",
    "distance = 414\n",
    "\n",
    "time = distance/speed\n",
    "\n",
    "print(f\"the time taken to travel from londom to glasgow is {time:.3f}\")"
   ]
  },
  {
   "cell_type": "markdown",
   "id": "d08ef43f",
   "metadata": {},
   "source": [
    "# 14) write a python program that defines a variable called days_in_each_school_year\n",
    "and assign 192 to the variable \n",
    "the program should then print out the total hours that you spend in school \n",
    "from year 7 to 11, if each day you spend 6 hours in school days_in_each_school_year = 192"
   ]
  },
  {
   "cell_type": "code",
   "execution_count": 41,
   "id": "8ff5f620",
   "metadata": {},
   "outputs": [
    {
     "name": "stdout",
     "output_type": "stream",
     "text": [
      "Total hours spent in school from year 7 - year 11 is 4608 \n"
     ]
    }
   ],
   "source": [
    "days_in_each_school_year = 192\n",
    "no_of_years = 11-7\n",
    "no_of_hours = 6\n",
    "\n",
    "total_hours = no_of_years * days_in_each_school_year * no_of_hours\n",
    "\n",
    "print(f\"Total hours spent in school from year 7 - year 11 is {total_hours} \")"
   ]
  },
  {
   "cell_type": "markdown",
   "id": "ad561d9b",
   "metadata": {},
   "source": [
    "# 15) If the age of Ram, Sam and Khan are input through the keyboard\n",
    "write a python program to determine the eldest and youngest of the three"
   ]
  },
  {
   "cell_type": "code",
   "execution_count": 45,
   "id": "357b150b",
   "metadata": {},
   "outputs": [
    {
     "name": "stdout",
     "output_type": "stream",
     "text": [
      "Enter the age of Ram 23\n",
      "Enter the age of Sam 19\n",
      "Enter the age of Khan 21\n",
      "\n",
      "Elder of the three is 23\n",
      "\n",
      "Younger of the three is 19\n"
     ]
    }
   ],
   "source": [
    "ram = int(input(\"Enter the age of Ram \"))\n",
    "sam = int(input(\"Enter the age of Sam \"))\n",
    "khan = int(input(\"Enter the age of Khan \"))\n",
    "\n",
    "# using min and max inbuilt functions to solve the problem\n",
    "elder = max(ram, sam, khan)\n",
    "younger = min(ram, sam, khan)\n",
    "\n",
    "print(f\"\\nElder of the three is {elder}\")\n",
    "print(f\"\\nYounger of the three is {younger}\")"
   ]
  },
  {
   "cell_type": "markdown",
   "id": "28aa98f3",
   "metadata": {},
   "source": [
    "# 16) write a python program to rotate a list by right n times\n",
    "with and without slicing techinique"
   ]
  },
  {
   "cell_type": "code",
   "execution_count": 47,
   "id": "cd2404cc",
   "metadata": {},
   "outputs": [
    {
     "name": "stdout",
     "output_type": "stream",
     "text": [
      "Enter num of rotations needed: 4\n",
      "Rotated using slicing: [7, 8, 9, 10, 1, 2, 3, 4, 5, 6]\n",
      "Rotated without slicing: [7, 8, 9, 10, 1, 2, 3, 4, 5, 6]\n"
     ]
    }
   ],
   "source": [
    "# unsing slicing technique\n",
    "def slicing_rotate(lst, n):\n",
    "    n = n % len(lst) \n",
    "    return lst[-n:] + lst[:-n]\n",
    "\n",
    "# without slicing\n",
    "def non_slicing_rotate(lst, n):\n",
    "    n = n % len(lst)  \n",
    "    rotated_list = [0] * len(lst)\n",
    "    for i in range(len(lst)):\n",
    "        rotated_list[(i + n) % len(lst)] = lst[i]\n",
    "    return rotated_list\n",
    "\n",
    "\n",
    "nums = [1, 2, 3, 4, 5, 6, 7, 8, 9, 10]\n",
    "\n",
    "\n",
    "n = int(input(\"Enter num of rotations needed: \"))\n",
    "\n",
    "ans1 = slicing_rotate(nums, n)\n",
    "print(\"Rotated using slicing:\", ans1)\n",
    "\n",
    "ans2 = slicing_rotate(nums, n)\n",
    "print(\"Rotated without slicing:\", ans2)"
   ]
  },
  {
   "cell_type": "markdown",
   "id": "17a5b981",
   "metadata": {},
   "source": [
    "# 17) Python program to print the pattersn given below"
   ]
  },
  {
   "cell_type": "markdown",
   "id": "2df23409",
   "metadata": {},
   "source": [
    "# i) its  a pascal triangle the value "
   ]
  },
  {
   "cell_type": "code",
   "execution_count": 52,
   "id": "a8126914",
   "metadata": {},
   "outputs": [
    {
     "name": "stdout",
     "output_type": "stream",
     "text": [
      "Enter the number of rows 9\n",
      "\n",
      "\n",
      "          1           \n",
      "         1 1          \n",
      "        1 2 1         \n",
      "       1 3 3 1        \n",
      "      1 4 6 4 1       \n",
      "    1 5 10 10 5 1     \n",
      "   1 6 15 20 15 6 1   \n",
      " 1 7 21 35 35 21 7 1  \n",
      "1 8 28 56 70 56 28 8 1\n"
     ]
    }
   ],
   "source": [
    "\n",
    "# is dependent on the summation of above two cells\n",
    "\n",
    "def pattern1(num_rows):\n",
    "    ans = []\n",
    "    for i in range(num_rows):\n",
    "        row = [1]  \n",
    "        if i > 0:\n",
    "            for j in range(1, i):\n",
    "                element = ans[i - 1][j - 1] + ans[i - 1][j]\n",
    "                row.append(element)\n",
    "            row.append(1) \n",
    "        ans.append(row)\n",
    "\n",
    "    return ans\n",
    "\n",
    "def print_(ans):\n",
    "    max_width = len(' '.join(map(str, ans[-1])))  \n",
    "    for row in ans:\n",
    "        formatted_row = ' '.join(map(str, row))\n",
    "        print(formatted_row.center(max_width))\n",
    "\n",
    "num_rows = int(input(\"Enter the number of rows \"))\n",
    "print(\"\\n\")\n",
    "triangle = pattern1(num_rows)\n",
    "print_(triangle)"
   ]
  },
  {
   "cell_type": "markdown",
   "id": "a5c5c095",
   "metadata": {},
   "source": [
    "# ii) Given pattern2 is a right angle triangle"
   ]
  },
  {
   "cell_type": "code",
   "execution_count": 59,
   "id": "667db149",
   "metadata": {
    "scrolled": true
   },
   "outputs": [
    {
     "name": "stdout",
     "output_type": "stream",
     "text": [
      "ENter the number pf rows 6\n",
      "\n",
      "\n",
      " \n",
      "*  \n",
      "* *  \n",
      "* * *  \n",
      "* * * *  \n",
      "* * * * *  \n"
     ]
    }
   ],
   "source": [
    "num = int(input(\"ENter the number pf rows \"))\n",
    "print(\"\\n\")\n",
    "\n",
    "for i in range(0, num):\n",
    "    for j in range(0, i):\n",
    "        print(\"* \", end=\"\")\n",
    "    print(\" \")\n",
    "    \n"
   ]
  },
  {
   "cell_type": "markdown",
   "id": "038b4027",
   "metadata": {},
   "source": [
    "# iii) Given pattern is a pyramid with spaces and asterisks"
   ]
  },
  {
   "cell_type": "code",
   "execution_count": 66,
   "id": "1f474d39",
   "metadata": {},
   "outputs": [
    {
     "name": "stdout",
     "output_type": "stream",
     "text": [
      "Enter the number of rows 7\n",
      "\n",
      "\n",
      "      * \n",
      "     * * \n",
      "    * * * \n",
      "   * * * * \n",
      "  * * * * * \n",
      " * * * * * * \n",
      "* * * * * * * \n"
     ]
    }
   ],
   "source": [
    "num = int(input(\"Enter the number of rows \"))\n",
    "print(\"\\n\")\n",
    "\n",
    "# for i in range(1, num + 1):\n",
    "#     for j in range(1, num - i+1 ):\n",
    "#         print(\" \", end=\"\")\n",
    "\n",
    "#     for k in range(1, i):\n",
    "#         print(\"*\", end=\"\")\n",
    "\n",
    "#     print()\n",
    "    \n",
    "\n",
    "for i in range(num):\n",
    "    print(\" \" * (num - i - 1) + \"* \" * (i + 1))"
   ]
  },
  {
   "cell_type": "markdown",
   "id": "e4bbee16",
   "metadata": {},
   "source": [
    "# iv) right angle triangle with a string "
   ]
  },
  {
   "cell_type": "code",
   "execution_count": 75,
   "id": "27bec5ed",
   "metadata": {},
   "outputs": [
    {
     "name": "stdout",
     "output_type": "stream",
     "text": [
      "Enter a title : Mphasis!\n",
      "M\n",
      "Mp\n",
      "Mph\n",
      "Mpha\n",
      "Mphas\n",
      "Mphasi\n",
      "Mphasis\n",
      "Mphasis!\n"
     ]
    }
   ],
   "source": [
    "title = input(\"Enter a title : \")\n",
    "\n",
    "for i in range(len(title)):\n",
    "    print(title[:i+1])\n",
    "    "
   ]
  },
  {
   "cell_type": "code",
   "execution_count": null,
   "id": "9e43ef84",
   "metadata": {},
   "outputs": [],
   "source": []
  }
 ],
 "metadata": {
  "kernelspec": {
   "display_name": "Python 3 (ipykernel)",
   "language": "python",
   "name": "python3"
  },
  "language_info": {
   "codemirror_mode": {
    "name": "ipython",
    "version": 3
   },
   "file_extension": ".py",
   "mimetype": "text/x-python",
   "name": "python",
   "nbconvert_exporter": "python",
   "pygments_lexer": "ipython3",
   "version": "3.11.5"
  }
 },
 "nbformat": 4,
 "nbformat_minor": 5
}
