{
 "cells": [
  {
   "cell_type": "code",
   "execution_count": 3,
   "id": "47da8153",
   "metadata": {},
   "outputs": [
    {
     "name": "stdout",
     "output_type": "stream",
     "text": [
      "Retrieving notices: ...working... done\n",
      "Collecting package metadata (current_repodata.json): ...working... done\n",
      "Solving environment: ...working... done\n",
      "\n",
      "# All requested packages already installed.\n",
      "\n",
      "\n",
      "Note: you may need to restart the kernel to use updated packages.\n"
     ]
    }
   ],
   "source": [
    "conda install numpy"
   ]
  },
  {
   "cell_type": "code",
   "execution_count": 4,
   "id": "2fc98901",
   "metadata": {},
   "outputs": [],
   "source": [
    "import numpy as np"
   ]
  },
  {
   "cell_type": "code",
   "execution_count": 5,
   "id": "8f28608b",
   "metadata": {},
   "outputs": [
    {
     "data": {
      "text/plain": [
       "array([[0., 0., 0., 0., 0., 0., 0., 0., 0., 0.],\n",
       "       [0., 0., 0., 0., 0., 0., 0., 0., 0., 0.],\n",
       "       [0., 0., 0., 0., 0., 0., 0., 0., 0., 0.],\n",
       "       [0., 0., 0., 0., 0., 0., 0., 0., 0., 0.]])"
      ]
     },
     "execution_count": 5,
     "metadata": {},
     "output_type": "execute_result"
    }
   ],
   "source": [
    "a = np.zeros((4,10))\n",
    "a"
   ]
  },
  {
   "cell_type": "code",
   "execution_count": 8,
   "id": "e0d44b58",
   "metadata": {},
   "outputs": [
    {
     "data": {
      "text/plain": [
       "array([[1., 0., 0., 0., 0., 0., 0., 0., 0., 0.],\n",
       "       [0., 1., 0., 0., 0., 0., 0., 0., 0., 0.],\n",
       "       [0., 0., 1., 0., 0., 0., 0., 0., 0., 0.],\n",
       "       [0., 0., 0., 1., 0., 0., 0., 0., 0., 0.],\n",
       "       [0., 0., 0., 0., 1., 0., 0., 0., 0., 0.],\n",
       "       [0., 0., 0., 0., 0., 1., 0., 0., 0., 0.],\n",
       "       [0., 0., 0., 0., 0., 0., 1., 0., 0., 0.],\n",
       "       [0., 0., 0., 0., 0., 0., 0., 1., 0., 0.],\n",
       "       [0., 0., 0., 0., 0., 0., 0., 0., 1., 0.],\n",
       "       [0., 0., 0., 0., 0., 0., 0., 0., 0., 1.]])"
      ]
     },
     "execution_count": 8,
     "metadata": {},
     "output_type": "execute_result"
    }
   ],
   "source": [
    "b = np.eye(10)\n",
    "b"
   ]
  },
  {
   "cell_type": "code",
   "execution_count": 10,
   "id": "3b0624de",
   "metadata": {},
   "outputs": [
    {
     "data": {
      "text/plain": [
       "array([[6.95310461e-310, 1.42601338e-311, 6.91691904e-323,\n",
       "        6.95310461e-310, 2.12199579e-314, 6.95310461e-310,\n",
       "        0.00000000e+000, 6.95310461e-310, 0.00000000e+000,\n",
       "        0.00000000e+000],\n",
       "       [0.00000000e+000, 4.24399158e-311, 2.12199579e-311,\n",
       "        4.94065646e-321, 0.00000000e+000, 4.94065646e-324,\n",
       "        0.00000000e+000, 1.42602407e-311, 1.42602426e-311,\n",
       "        1.97626258e-323],\n",
       "       [0.00000000e+000, 0.00000000e+000, 4.94065646e-324,\n",
       "        0.00000000e+000, 0.00000000e+000, 0.00000000e+000,\n",
       "        0.00000000e+000, 7.41098469e-323, 0.00000000e+000,\n",
       "        0.00000000e+000],\n",
       "       [0.00000000e+000, 7.41098469e-323, 0.00000000e+000,\n",
       "        0.00000000e+000, 0.00000000e+000, 0.00000000e+000,\n",
       "        0.00000000e+000, 0.00000000e+000, 0.00000000e+000,\n",
       "        0.00000000e+000]])"
      ]
     },
     "execution_count": 10,
     "metadata": {},
     "output_type": "execute_result"
    }
   ],
   "source": [
    "c = np.empty((4,10))\n",
    "c"
   ]
  },
  {
   "cell_type": "markdown",
   "id": "9fc27504",
   "metadata": {},
   "source": [
    "# create a 3*3*3 array with random value "
   ]
  },
  {
   "cell_type": "code",
   "execution_count": 12,
   "id": "ed61df7d",
   "metadata": {},
   "outputs": [
    {
     "name": "stdout",
     "output_type": "stream",
     "text": [
      "[[[0.90104987 0.83512215 0.83381885]\n",
      "  [0.85660895 0.44317722 0.26704612]\n",
      "  [0.74922097 0.01038028 0.57916256]]\n",
      "\n",
      " [[0.00110954 0.01881339 0.19033388]\n",
      "  [0.46340337 0.89833455 0.53760843]\n",
      "  [0.24737835 0.59962099 0.50506638]]\n",
      "\n",
      " [[0.78993875 0.78510325 0.41897106]\n",
      "  [0.27445554 0.9738392  0.06626582]\n",
      "  [0.83555257 0.02352594 0.90758405]]]\n"
     ]
    }
   ],
   "source": [
    "#2\n",
    "random_array = np.random.random((3,3,3))\n",
    "print(random_array)"
   ]
  },
  {
   "cell_type": "code",
   "execution_count": 16,
   "id": "4706287c",
   "metadata": {},
   "outputs": [
    {
     "name": "stdout",
     "output_type": "stream",
     "text": [
      "[[0. 0. 0. 0. 0.]\n",
      " [1. 0. 0. 0. 0.]\n",
      " [0. 2. 0. 0. 0.]\n",
      " [0. 0. 3. 0. 0.]\n",
      " [0. 0. 0. 4. 0.]]\n"
     ]
    }
   ],
   "source": [
    "#3\n",
    "diagonal_mat=np.zeros((5,5))\n",
    "\n",
    "for i in range(1,5):\n",
    "    diagonal_mat[i,i-1]=i\n",
    "\n",
    "\n",
    "print(diagonal_mat)"
   ]
  },
  {
   "cell_type": "code",
   "execution_count": 24,
   "id": "2fcff6ac",
   "metadata": {},
   "outputs": [
    {
     "name": "stdout",
     "output_type": "stream",
     "text": [
      "[[0 1 0 1 0 1 0 1]\n",
      " [1 0 1 0 1 0 1 0]\n",
      " [0 1 0 1 0 1 0 1]\n",
      " [1 0 1 0 1 0 1 0]\n",
      " [0 1 0 1 0 1 0 1]\n",
      " [1 0 1 0 1 0 1 0]\n",
      " [0 1 0 1 0 1 0 1]\n",
      " [1 0 1 0 1 0 1 0]]\n"
     ]
    }
   ],
   "source": [
    "#4\n",
    "\n",
    "# 5Create an 8x8 matrix\n",
    "matrix = np.zeros((8, 8), dtype=int)\n",
    "\n",
    "# Fill the checkerboard pattern with alternating 0s and 1s\n",
    "matrix[1::2, ::2] = 1  # Odd rows, even columns\n",
    "matrix[::2, 1::2] = 1  # Even rows, odd columns\n",
    "\n",
    "print(matrix)\n"
   ]
  },
  {
   "cell_type": "code",
   "execution_count": 28,
   "id": "f53533ee",
   "metadata": {},
   "outputs": [
    {
     "data": {
      "text/plain": [
       "array([[0.6789325 , 0.24134644, 0.44694336, 0.50297045, 0.43627802],\n",
       "       [0.39971369, 0.10035381, 0.25915444, 0.68638748, 0.57103016],\n",
       "       [0.53452743, 0.70780916, 0.53062213, 0.648508  , 0.35419399],\n",
       "       [0.00812397, 0.85602344, 0.93379766, 0.92973402, 0.54263525],\n",
       "       [0.27181308, 0.03921516, 0.5649199 , 0.62354943, 0.05651228]])"
      ]
     },
     "execution_count": 28,
     "metadata": {},
     "output_type": "execute_result"
    }
   ],
   "source": [
    "random_mat = np.random.random((5,5))\n",
    "random_mat"
   ]
  },
  {
   "cell_type": "code",
   "execution_count": 31,
   "id": "35bad71b",
   "metadata": {},
   "outputs": [
    {
     "name": "stdout",
     "output_type": "stream",
     "text": [
      "Common values: {7}\n"
     ]
    }
   ],
   "source": [
    "#5 Sample arrays\n",
    "array1 = [1, 7, 3, 4, 0]\n",
    "array2 = [3, 4, 5, 6, 7]\n",
    "array3 = [5, 6, 7, 8, 9]\n",
    "\n",
    "# Find the common values using set intersection\n",
    "common_values = set(array1).intersection(array2, array3)\n",
    "\n",
    "print(\"Common values:\", common_values)\n"
   ]
  },
  {
   "cell_type": "code",
   "execution_count": 38,
   "id": "6acad5f8",
   "metadata": {},
   "outputs": [
    {
     "name": "stdout",
     "output_type": "stream",
     "text": [
      "Yesterday: 2023-09-20\n",
      "Today: 2023-09-21\n",
      "Tomorrow: 2023-09-22\n"
     ]
    }
   ],
   "source": [
    "#6\n",
    "from datetime import datetime, timedelta\n",
    "\n",
    "# Get today's date\n",
    "today = datetime.now()\n",
    "\n",
    "# Calculate yesterday and tomorrow\n",
    "yesterday = today - timedelta(days=1)\n",
    "tomorrow = today + timedelta(days=1)\n",
    "\n",
    "# Format the dates as strings\n",
    "today_str = today.strftime('%Y-%m-%d')\n",
    "yesterday_str = yesterday.strftime('%Y-%m-%d')\n",
    "tomorrow_str = tomorrow.strftime('%Y-%m-%d')\n",
    "\n",
    "print(\"Yesterday:\", yesterday_str)\n",
    "print(\"Today:\", today_str)\n",
    "print(\"Tomorrow:\", tomorrow_str)\n"
   ]
  },
  {
   "cell_type": "code",
   "execution_count": 37,
   "id": "261b09e5",
   "metadata": {},
   "outputs": [
    {
     "name": "stdout",
     "output_type": "stream",
     "text": [
      "The arrays are equal.\n"
     ]
    }
   ],
   "source": [
    "#7\n",
    "array1 = [1, 2, 3, 4, 5]\n",
    "array2 = [1, 2, 3, 4, 5]\n",
    "\n",
    "if array1 == array2:\n",
    "    print(\"The arrays are equal.\")\n",
    "else:\n",
    "    print(\"The arrays are not equal.\")\n"
   ]
  },
  {
   "cell_type": "code",
   "execution_count": 43,
   "id": "a412155a",
   "metadata": {},
   "outputs": [
    {
     "name": "stdout",
     "output_type": "stream",
     "text": [
      "Random vector with some values replaced by 0:\n",
      "[0.6874815  0.01720451 0.31125043 0.         0.47945407 0.60595929\n",
      " 0.18234666 0.56870861 0.         0.        ]\n"
     ]
    }
   ],
   "source": [
    "#8 \n",
    "random_vector = np.random.rand(10)\n",
    "\n",
    "indices_to_replace = np.random.choice(10, 3, replace=False)  # Replace 3 random values\n",
    "random_vector[indices_to_replace] = 0\n",
    "\n",
    "print(\"Random vector with some values replaced by 0:\")\n",
    "print(random_vector)\n"
   ]
  },
  {
   "cell_type": "code",
   "execution_count": 44,
   "id": "3706ea25",
   "metadata": {},
   "outputs": [
    {
     "name": "stdout",
     "output_type": "stream",
     "text": [
      "1\n",
      "2\n",
      "3\n",
      "4\n",
      "5\n",
      "6\n",
      "7\n",
      "8\n",
      "9\n"
     ]
    }
   ],
   "source": [
    "#9\n",
    "arr = np.array([[1, 2, 3], [4, 5, 6], [7, 8, 9]])\n",
    "\n",
    "\n",
    "for row in arr:\n",
    "    for val in row:\n",
    "        print(val)\n"
   ]
  },
  {
   "cell_type": "code",
   "execution_count": null,
   "id": "6318dbf2",
   "metadata": {},
   "outputs": [],
   "source": [
    "#10\n",
    "matrix = np.array([[1, 2, 3], [4, 5, 6], [7, 8, 9]])\n",
    "\n",
    "# Calculate the mean of each row\n",
    "row_means = np.mean(matrix, axis=1, keepdims=True)\n",
    "\n",
    "# Subtract the mean of each row from the respective row\n",
    "matrix_minus_mean = matrix - row_means\n",
    "\n",
    "print(\"Original matrix:\")\n",
    "print(matrix)\n",
    "print(\"Matrix after subtracting the mean of each row:\")\n",
    "print(matrix_minus_mean)"
   ]
  },
  {
   "cell_type": "code",
   "execution_count": null,
   "id": "7f125099",
   "metadata": {},
   "outputs": [],
   "source": [
    "#11\n",
    "\n",
    "original_vector = np.array([10, 20, 30, 40, 50, 60])\n",
    "\n",
    "# Sample index vector (indices to be incremented)\n",
    "index_vector = np.array([1, 3, 2, 1])  \n",
    "\n",
    "# Ensure unique indices and count occurrences\n",
    "unique_indices, counts = np.unique(index_vector, return_counts=True)\n",
    "\n",
    "# Add 1 to the unique indices based on their counts\n",
    "original_vector[unique_indices] += counts\n",
    "\n",
    "print(\"Original vector:\", original_vector)\n"
   ]
  },
  {
   "cell_type": "code",
   "execution_count": 46,
   "id": "ee764c1c",
   "metadata": {},
   "outputs": [
    {
     "name": "stdout",
     "output_type": "stream",
     "text": [
      "Product matrix:\n",
      "[[6947 7444]\n",
      " [6338 6929]]\n",
      "Diagonal of the product matrix:\n",
      "[6947 6929]\n"
     ]
    }
   ],
   "source": [
    "#12\n",
    "import numpy as np\n",
    "\n",
    "# Sample matrices\n",
    "A = np.array([[16, 77], [53, 44]])\n",
    "B = np.array([[54, 61], [79, 84]])\n",
    "\n",
    "# Compute the product of the matrices\n",
    "product_matrix = np.dot(A, B)\n",
    "\n",
    "# Extract the diagonal elements of the product matrix\n",
    "diagonal_product = np.diag(product_matrix)\n",
    "\n",
    "print(\"Product matrix:\")\n",
    "print(product_matrix)\n",
    "print(\"Diagonal of the product matrix:\")\n",
    "print(diagonal_product)\n"
   ]
  },
  {
   "cell_type": "code",
   "execution_count": 48,
   "id": "3f80265a",
   "metadata": {},
   "outputs": [
    {
     "name": "stdout",
     "output_type": "stream",
     "text": [
      "Array: [1 1 9 3 4 7 7 9 5 4 8 2 6 5 5 8 9 7 8 8 1 4 6 6 4 0 6 6 1 7 1 3 0 8 1 8 3\n",
      " 7 5 0 3 9 9 4 7 3 9 9 3 1]\n",
      "Most frequent value: 1\n",
      "Frequency: 7\n"
     ]
    }
   ],
   "source": [
    "#13\n",
    "\n",
    "x = np.random.randint(0,10,50)\n",
    "\n",
    "unique_values, counts = np.unique(x, return_counts=True)\n",
    "\n",
    "\n",
    "most_frequent_index = np.argmax(counts)\n",
    "\n",
    "\n",
    "most_frequent_value = unique_values[most_frequent_index]\n",
    "\n",
    "print(\"Array:\", x)\n",
    "print(\"Most frequent value:\", most_frequent_value)\n",
    "print(\"Frequency:\", counts[most_frequent_index])"
   ]
  },
  {
   "cell_type": "code",
   "execution_count": 49,
   "id": "12f19de1",
   "metadata": {},
   "outputs": [
    {
     "name": "stdout",
     "output_type": "stream",
     "text": [
      "The 3 largest values are: [5 6 9]\n"
     ]
    }
   ],
   "source": [
    "#14\n",
    "\n",
    "arr = np.array([3, 1, 4, 1, 5, 9, 2, 6, 5, 3, 5])\n",
    "\n",
    "# Choose the value of n (number of largest values to retrieve)\n",
    "n = 3\n",
    "\n",
    "# Get the n largest values\n",
    "n_largest_values = np.partition(arr, -n)[-n:]\n",
    "\n",
    "print(f\"The {n} largest values are: {n_largest_values}\")\n"
   ]
  },
  {
   "cell_type": "code",
   "execution_count": 50,
   "id": "2f74d13c",
   "metadata": {},
   "outputs": [
    {
     "name": "stdout",
     "output_type": "stream",
     "text": [
      "First record's id: [1 2]\n",
      "First record's name: ['chota bhee' 'kaliya']\n",
      "First record's age: [25 30]\n"
     ]
    }
   ],
   "source": [
    "#15 How to create a record array from a regular record\n",
    "\n",
    "regular_record = np.array([(1, 'chota bheem', 25), (2, 'kaliya', 30)], dtype=[('id', int), ('name', 'U10'), ('age', int)])\n",
    "\n",
    "record_array = np.rec.array(regular_record)\n",
    "\n",
    "print(\"First record's id:\", record_array.id)\n",
    "print(\"First record's name:\", record_array.name)\n",
    "print(\"First record's age:\", record_array.age)"
   ]
  },
  {
   "cell_type": "code",
   "execution_count": 52,
   "id": "e308d626",
   "metadata": {},
   "outputs": [
    {
     "name": "stdout",
     "output_type": "stream",
     "text": [
      "Array after swapping rows:\n",
      "[[14 15 16]\n",
      " [19 32 12]\n",
      " [17 18 19]]\n"
     ]
    }
   ],
   "source": [
    "#16\n",
    "\n",
    "arr = np.array([[19, 32, 12], [14, 15, 16], [17, 18, 19]])\n",
    "\n",
    "row1_index = 0\n",
    "row2_index = 1\n",
    "\n",
    "\n",
    "temp_row = np.copy(arr[row1_index])\n",
    "arr[row1_index] = arr[row2_index]\n",
    "arr[row2_index] = temp_row\n",
    "\n",
    "print(\"Array after swapping rows:\")\n",
    "print(arr)\n"
   ]
  },
  {
   "cell_type": "code",
   "execution_count": 60,
   "id": "c2b0635c",
   "metadata": {},
   "outputs": [
    {
     "name": "stdout",
     "output_type": "stream",
     "text": [
      "Original array:\n",
      "[[1 2 3]\n",
      " [4 5 6]\n",
      " [7 8 9]]\n",
      "Original array shape: (3, 3)\n",
      "\n",
      "Reshaped to 1D array:\n",
      "[1 2 3 4 5 6 7 8 9]\n",
      "Reshaped array shape: (9,)\n"
     ]
    }
   ],
   "source": [
    "#17\n",
    "\n",
    "original_array = np.array([[1, 2, 3], [4, 5, 6], [7, 8, 9]])\n",
    "\n",
    "# Print the original array and its shape\n",
    "print(\"Original array:\")\n",
    "print(original_array)\n",
    "print(\"Original array shape:\", original_array.shape)\n",
    "\n",
    "# Reshape the array to a 1D array\n",
    "reshaped_array = original_array.reshape(-1)  # -1 means the dimension is inferred\n",
    "print(\"\\nReshaped to 1D array:\")\n",
    "print(reshaped_array)\n",
    "print(\"Reshaped array shape:\", reshaped_array.shape)\n"
   ]
  },
  {
   "cell_type": "code",
   "execution_count": null,
   "id": "5a2e6753",
   "metadata": {},
   "outputs": [],
   "source": [
    "np_olympic_country=np.array([ 'GBR', 'Chine', 'RUS', 'US', 'KOR', 'JPN', 'GER']) \n",
    "np_olympic_country_gold=np.array([29,38,24,46,13,7,11])\n",
    "np_olympic_country_silver=np.array([17,28,25,28,8,14,11]) \n",
    "np_olympic_country_Bronze=np.array([19,22,32,29,7,17,14])"
   ]
  },
  {
   "cell_type": "code",
   "execution_count": 63,
   "id": "12bf64da",
   "metadata": {},
   "outputs": [
    {
     "name": "stdout",
     "output_type": "stream",
     "text": [
      "Index of the country with the maximum gold: 3\n"
     ]
    }
   ],
   "source": [
    "max_gold_index = np.argmax(np_olympic_country_gold)\n",
    "\n",
    "# Print the country with the maximum gold and its index\n",
    "\n",
    "print(\"Index of the country with the maximum gold:\", max_gold_index)\n"
   ]
  },
  {
   "cell_type": "code",
   "execution_count": 64,
   "id": "fcf88fd9",
   "metadata": {},
   "outputs": [
    {
     "name": "stdout",
     "output_type": "stream",
     "text": [
      "Country with the maximum gold: US\n"
     ]
    }
   ],
   "source": [
    "print(\"Country with the maximum gold:\", np_olympic_country[max_gold_index])"
   ]
  },
  {
   "cell_type": "code",
   "execution_count": 68,
   "id": "ab07eb13",
   "metadata": {},
   "outputs": [
    {
     "name": "stdout",
     "output_type": "stream",
     "text": [
      "The country with the most medals is: US\n"
     ]
    }
   ],
   "source": [
    "total_medals = np_olympic_country_gold + np_olympic_country_silver + np_olympic_country_Bronze\n",
    "\n",
    "most_medals_country = np_olympic_country[np.argmax(total_medals)]\n",
    "\n",
    "print(\"The country with the most medals is:\", most_medals_country)"
   ]
  }
 ],
 "metadata": {
  "kernelspec": {
   "display_name": "Python 3 (ipykernel)",
   "language": "python",
   "name": "python3"
  },
  "language_info": {
   "codemirror_mode": {
    "name": "ipython",
    "version": 3
   },
   "file_extension": ".py",
   "mimetype": "text/x-python",
   "name": "python",
   "nbconvert_exporter": "python",
   "pygments_lexer": "ipython3",
   "version": "3.11.5"
  }
 },
 "nbformat": 4,
 "nbformat_minor": 5
}
